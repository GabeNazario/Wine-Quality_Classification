{
 "cells": [
  {
   "cell_type": "code",
   "execution_count": 1,
   "id": "d8c85b89",
   "metadata": {
    "execution": {
     "iopub.execute_input": "2023-03-24T17:51:17.182485Z",
     "iopub.status.busy": "2023-03-24T17:51:17.181678Z",
     "iopub.status.idle": "2023-03-24T17:51:18.378675Z",
     "shell.execute_reply": "2023-03-24T17:51:18.377540Z"
    },
    "papermill": {
     "duration": 1.2258,
     "end_time": "2023-03-24T17:51:18.381660",
     "exception": false,
     "start_time": "2023-03-24T17:51:17.155860",
     "status": "completed"
    },
    "tags": []
   },
   "outputs": [],
   "source": [
    "import pandas as pd\n",
    "import numpy as np\n",
    "import seaborn as sns\n",
    "import matplotlib.pyplot as plt\n",
    "\n",
    "%matplotlib inline"
   ]
  },
  {
   "cell_type": "code",
   "execution_count": 2,
   "id": "7ce51c3c",
   "metadata": {
    "execution": {
     "iopub.execute_input": "2023-03-24T17:51:18.430315Z",
     "iopub.status.busy": "2023-03-24T17:51:18.429883Z",
     "iopub.status.idle": "2023-03-24T17:51:18.452100Z",
     "shell.execute_reply": "2023-03-24T17:51:18.450871Z"
    },
    "papermill": {
     "duration": 0.048575,
     "end_time": "2023-03-24T17:51:18.455000",
     "exception": false,
     "start_time": "2023-03-24T17:51:18.406425",
     "status": "completed"
    },
    "tags": []
   },
   "outputs": [],
   "source": [
    "df_Red = pd.read_csv('../input/red-wine-quality-cortez-et-al-2009/winequality-red.csv', sep=',')"
   ]
  },
  {
   "cell_type": "code",
   "execution_count": 3,
   "id": "4dc2fd31",
   "metadata": {
    "execution": {
     "iopub.execute_input": "2023-03-24T17:51:18.500474Z",
     "iopub.status.busy": "2023-03-24T17:51:18.499645Z",
     "iopub.status.idle": "2023-03-24T17:51:18.537070Z",
     "shell.execute_reply": "2023-03-24T17:51:18.536156Z"
    },
    "papermill": {
     "duration": 0.06368,
     "end_time": "2023-03-24T17:51:18.540437",
     "exception": false,
     "start_time": "2023-03-24T17:51:18.476757",
     "status": "completed"
    },
    "tags": []
   },
   "outputs": [
    {
     "data": {
      "text/html": [
       "<div>\n",
       "<style scoped>\n",
       "    .dataframe tbody tr th:only-of-type {\n",
       "        vertical-align: middle;\n",
       "    }\n",
       "\n",
       "    .dataframe tbody tr th {\n",
       "        vertical-align: top;\n",
       "    }\n",
       "\n",
       "    .dataframe thead th {\n",
       "        text-align: right;\n",
       "    }\n",
       "</style>\n",
       "<table border=\"1\" class=\"dataframe\">\n",
       "  <thead>\n",
       "    <tr style=\"text-align: right;\">\n",
       "      <th></th>\n",
       "      <th>fixed acidity</th>\n",
       "      <th>volatile acidity</th>\n",
       "      <th>citric acid</th>\n",
       "      <th>residual sugar</th>\n",
       "      <th>chlorides</th>\n",
       "      <th>free sulfur dioxide</th>\n",
       "      <th>total sulfur dioxide</th>\n",
       "      <th>density</th>\n",
       "      <th>pH</th>\n",
       "      <th>sulphates</th>\n",
       "      <th>alcohol</th>\n",
       "      <th>quality</th>\n",
       "    </tr>\n",
       "  </thead>\n",
       "  <tbody>\n",
       "    <tr>\n",
       "      <th>0</th>\n",
       "      <td>7.4</td>\n",
       "      <td>0.70</td>\n",
       "      <td>0.00</td>\n",
       "      <td>1.9</td>\n",
       "      <td>0.076</td>\n",
       "      <td>11.0</td>\n",
       "      <td>34.0</td>\n",
       "      <td>0.9978</td>\n",
       "      <td>3.51</td>\n",
       "      <td>0.56</td>\n",
       "      <td>9.4</td>\n",
       "      <td>5</td>\n",
       "    </tr>\n",
       "    <tr>\n",
       "      <th>1</th>\n",
       "      <td>7.8</td>\n",
       "      <td>0.88</td>\n",
       "      <td>0.00</td>\n",
       "      <td>2.6</td>\n",
       "      <td>0.098</td>\n",
       "      <td>25.0</td>\n",
       "      <td>67.0</td>\n",
       "      <td>0.9968</td>\n",
       "      <td>3.20</td>\n",
       "      <td>0.68</td>\n",
       "      <td>9.8</td>\n",
       "      <td>5</td>\n",
       "    </tr>\n",
       "    <tr>\n",
       "      <th>2</th>\n",
       "      <td>7.8</td>\n",
       "      <td>0.76</td>\n",
       "      <td>0.04</td>\n",
       "      <td>2.3</td>\n",
       "      <td>0.092</td>\n",
       "      <td>15.0</td>\n",
       "      <td>54.0</td>\n",
       "      <td>0.9970</td>\n",
       "      <td>3.26</td>\n",
       "      <td>0.65</td>\n",
       "      <td>9.8</td>\n",
       "      <td>5</td>\n",
       "    </tr>\n",
       "    <tr>\n",
       "      <th>3</th>\n",
       "      <td>11.2</td>\n",
       "      <td>0.28</td>\n",
       "      <td>0.56</td>\n",
       "      <td>1.9</td>\n",
       "      <td>0.075</td>\n",
       "      <td>17.0</td>\n",
       "      <td>60.0</td>\n",
       "      <td>0.9980</td>\n",
       "      <td>3.16</td>\n",
       "      <td>0.58</td>\n",
       "      <td>9.8</td>\n",
       "      <td>6</td>\n",
       "    </tr>\n",
       "    <tr>\n",
       "      <th>4</th>\n",
       "      <td>7.4</td>\n",
       "      <td>0.70</td>\n",
       "      <td>0.00</td>\n",
       "      <td>1.9</td>\n",
       "      <td>0.076</td>\n",
       "      <td>11.0</td>\n",
       "      <td>34.0</td>\n",
       "      <td>0.9978</td>\n",
       "      <td>3.51</td>\n",
       "      <td>0.56</td>\n",
       "      <td>9.4</td>\n",
       "      <td>5</td>\n",
       "    </tr>\n",
       "  </tbody>\n",
       "</table>\n",
       "</div>"
      ],
      "text/plain": [
       "   fixed acidity  volatile acidity  citric acid  residual sugar  chlorides  \\\n",
       "0            7.4              0.70         0.00             1.9      0.076   \n",
       "1            7.8              0.88         0.00             2.6      0.098   \n",
       "2            7.8              0.76         0.04             2.3      0.092   \n",
       "3           11.2              0.28         0.56             1.9      0.075   \n",
       "4            7.4              0.70         0.00             1.9      0.076   \n",
       "\n",
       "   free sulfur dioxide  total sulfur dioxide  density    pH  sulphates  \\\n",
       "0                 11.0                  34.0   0.9978  3.51       0.56   \n",
       "1                 25.0                  67.0   0.9968  3.20       0.68   \n",
       "2                 15.0                  54.0   0.9970  3.26       0.65   \n",
       "3                 17.0                  60.0   0.9980  3.16       0.58   \n",
       "4                 11.0                  34.0   0.9978  3.51       0.56   \n",
       "\n",
       "   alcohol  quality  \n",
       "0      9.4        5  \n",
       "1      9.8        5  \n",
       "2      9.8        5  \n",
       "3      9.8        6  \n",
       "4      9.4        5  "
      ]
     },
     "execution_count": 3,
     "metadata": {},
     "output_type": "execute_result"
    }
   ],
   "source": [
    "df_Red.head()"
   ]
  },
  {
   "cell_type": "code",
   "execution_count": 4,
   "id": "109f3121",
   "metadata": {
    "execution": {
     "iopub.execute_input": "2023-03-24T17:51:18.586961Z",
     "iopub.status.busy": "2023-03-24T17:51:18.586278Z",
     "iopub.status.idle": "2023-03-24T17:51:18.614222Z",
     "shell.execute_reply": "2023-03-24T17:51:18.613205Z"
    },
    "papermill": {
     "duration": 0.053879,
     "end_time": "2023-03-24T17:51:18.616921",
     "exception": false,
     "start_time": "2023-03-24T17:51:18.563042",
     "status": "completed"
    },
    "tags": []
   },
   "outputs": [],
   "source": [
    "df_White = pd.read_csv('../input/white-wine-quality/winequality-white.csv', sep=';')"
   ]
  },
  {
   "cell_type": "code",
   "execution_count": 5,
   "id": "52543e4c",
   "metadata": {
    "execution": {
     "iopub.execute_input": "2023-03-24T17:51:18.662997Z",
     "iopub.status.busy": "2023-03-24T17:51:18.662533Z",
     "iopub.status.idle": "2023-03-24T17:51:18.684999Z",
     "shell.execute_reply": "2023-03-24T17:51:18.683164Z"
    },
    "papermill": {
     "duration": 0.049267,
     "end_time": "2023-03-24T17:51:18.688008",
     "exception": false,
     "start_time": "2023-03-24T17:51:18.638741",
     "status": "completed"
    },
    "tags": []
   },
   "outputs": [
    {
     "data": {
      "text/html": [
       "<div>\n",
       "<style scoped>\n",
       "    .dataframe tbody tr th:only-of-type {\n",
       "        vertical-align: middle;\n",
       "    }\n",
       "\n",
       "    .dataframe tbody tr th {\n",
       "        vertical-align: top;\n",
       "    }\n",
       "\n",
       "    .dataframe thead th {\n",
       "        text-align: right;\n",
       "    }\n",
       "</style>\n",
       "<table border=\"1\" class=\"dataframe\">\n",
       "  <thead>\n",
       "    <tr style=\"text-align: right;\">\n",
       "      <th></th>\n",
       "      <th>fixed acidity</th>\n",
       "      <th>volatile acidity</th>\n",
       "      <th>citric acid</th>\n",
       "      <th>residual sugar</th>\n",
       "      <th>chlorides</th>\n",
       "      <th>free sulfur dioxide</th>\n",
       "      <th>total sulfur dioxide</th>\n",
       "      <th>density</th>\n",
       "      <th>pH</th>\n",
       "      <th>sulphates</th>\n",
       "      <th>alcohol</th>\n",
       "      <th>quality</th>\n",
       "    </tr>\n",
       "  </thead>\n",
       "  <tbody>\n",
       "    <tr>\n",
       "      <th>0</th>\n",
       "      <td>7.0</td>\n",
       "      <td>0.27</td>\n",
       "      <td>0.36</td>\n",
       "      <td>20.7</td>\n",
       "      <td>0.045</td>\n",
       "      <td>45.0</td>\n",
       "      <td>170.0</td>\n",
       "      <td>1.0010</td>\n",
       "      <td>3.00</td>\n",
       "      <td>0.45</td>\n",
       "      <td>8.8</td>\n",
       "      <td>6</td>\n",
       "    </tr>\n",
       "    <tr>\n",
       "      <th>1</th>\n",
       "      <td>6.3</td>\n",
       "      <td>0.30</td>\n",
       "      <td>0.34</td>\n",
       "      <td>1.6</td>\n",
       "      <td>0.049</td>\n",
       "      <td>14.0</td>\n",
       "      <td>132.0</td>\n",
       "      <td>0.9940</td>\n",
       "      <td>3.30</td>\n",
       "      <td>0.49</td>\n",
       "      <td>9.5</td>\n",
       "      <td>6</td>\n",
       "    </tr>\n",
       "    <tr>\n",
       "      <th>2</th>\n",
       "      <td>8.1</td>\n",
       "      <td>0.28</td>\n",
       "      <td>0.40</td>\n",
       "      <td>6.9</td>\n",
       "      <td>0.050</td>\n",
       "      <td>30.0</td>\n",
       "      <td>97.0</td>\n",
       "      <td>0.9951</td>\n",
       "      <td>3.26</td>\n",
       "      <td>0.44</td>\n",
       "      <td>10.1</td>\n",
       "      <td>6</td>\n",
       "    </tr>\n",
       "    <tr>\n",
       "      <th>3</th>\n",
       "      <td>7.2</td>\n",
       "      <td>0.23</td>\n",
       "      <td>0.32</td>\n",
       "      <td>8.5</td>\n",
       "      <td>0.058</td>\n",
       "      <td>47.0</td>\n",
       "      <td>186.0</td>\n",
       "      <td>0.9956</td>\n",
       "      <td>3.19</td>\n",
       "      <td>0.40</td>\n",
       "      <td>9.9</td>\n",
       "      <td>6</td>\n",
       "    </tr>\n",
       "    <tr>\n",
       "      <th>4</th>\n",
       "      <td>7.2</td>\n",
       "      <td>0.23</td>\n",
       "      <td>0.32</td>\n",
       "      <td>8.5</td>\n",
       "      <td>0.058</td>\n",
       "      <td>47.0</td>\n",
       "      <td>186.0</td>\n",
       "      <td>0.9956</td>\n",
       "      <td>3.19</td>\n",
       "      <td>0.40</td>\n",
       "      <td>9.9</td>\n",
       "      <td>6</td>\n",
       "    </tr>\n",
       "  </tbody>\n",
       "</table>\n",
       "</div>"
      ],
      "text/plain": [
       "   fixed acidity  volatile acidity  citric acid  residual sugar  chlorides  \\\n",
       "0            7.0              0.27         0.36            20.7      0.045   \n",
       "1            6.3              0.30         0.34             1.6      0.049   \n",
       "2            8.1              0.28         0.40             6.9      0.050   \n",
       "3            7.2              0.23         0.32             8.5      0.058   \n",
       "4            7.2              0.23         0.32             8.5      0.058   \n",
       "\n",
       "   free sulfur dioxide  total sulfur dioxide  density    pH  sulphates  \\\n",
       "0                 45.0                 170.0   1.0010  3.00       0.45   \n",
       "1                 14.0                 132.0   0.9940  3.30       0.49   \n",
       "2                 30.0                  97.0   0.9951  3.26       0.44   \n",
       "3                 47.0                 186.0   0.9956  3.19       0.40   \n",
       "4                 47.0                 186.0   0.9956  3.19       0.40   \n",
       "\n",
       "   alcohol  quality  \n",
       "0      8.8        6  \n",
       "1      9.5        6  \n",
       "2     10.1        6  \n",
       "3      9.9        6  \n",
       "4      9.9        6  "
      ]
     },
     "execution_count": 5,
     "metadata": {},
     "output_type": "execute_result"
    }
   ],
   "source": [
    "df_White.head()"
   ]
  },
  {
   "cell_type": "markdown",
   "id": "2b5a73c9",
   "metadata": {
    "papermill": {
     "duration": 0.021822,
     "end_time": "2023-03-24T17:51:18.732191",
     "exception": false,
     "start_time": "2023-03-24T17:51:18.710369",
     "status": "completed"
    },
    "tags": []
   },
   "source": [
    "Check for empty or null cells."
   ]
  },
  {
   "cell_type": "code",
   "execution_count": 6,
   "id": "60be7ec7",
   "metadata": {
    "execution": {
     "iopub.execute_input": "2023-03-24T17:51:18.779952Z",
     "iopub.status.busy": "2023-03-24T17:51:18.779241Z",
     "iopub.status.idle": "2023-03-24T17:51:18.804417Z",
     "shell.execute_reply": "2023-03-24T17:51:18.802730Z"
    },
    "papermill": {
     "duration": 0.052082,
     "end_time": "2023-03-24T17:51:18.807309",
     "exception": false,
     "start_time": "2023-03-24T17:51:18.755227",
     "status": "completed"
    },
    "tags": []
   },
   "outputs": [
    {
     "name": "stdout",
     "output_type": "stream",
     "text": [
      "<class 'pandas.core.frame.DataFrame'>\n",
      "RangeIndex: 1599 entries, 0 to 1598\n",
      "Data columns (total 12 columns):\n",
      " #   Column                Non-Null Count  Dtype  \n",
      "---  ------                --------------  -----  \n",
      " 0   fixed acidity         1599 non-null   float64\n",
      " 1   volatile acidity      1599 non-null   float64\n",
      " 2   citric acid           1599 non-null   float64\n",
      " 3   residual sugar        1599 non-null   float64\n",
      " 4   chlorides             1599 non-null   float64\n",
      " 5   free sulfur dioxide   1599 non-null   float64\n",
      " 6   total sulfur dioxide  1599 non-null   float64\n",
      " 7   density               1599 non-null   float64\n",
      " 8   pH                    1599 non-null   float64\n",
      " 9   sulphates             1599 non-null   float64\n",
      " 10  alcohol               1599 non-null   float64\n",
      " 11  quality               1599 non-null   int64  \n",
      "dtypes: float64(11), int64(1)\n",
      "memory usage: 150.0 KB\n"
     ]
    }
   ],
   "source": [
    "df_Red.info()"
   ]
  },
  {
   "cell_type": "code",
   "execution_count": 7,
   "id": "5fe8ac5c",
   "metadata": {
    "execution": {
     "iopub.execute_input": "2023-03-24T17:51:18.855523Z",
     "iopub.status.busy": "2023-03-24T17:51:18.854693Z",
     "iopub.status.idle": "2023-03-24T17:51:18.869816Z",
     "shell.execute_reply": "2023-03-24T17:51:18.868160Z"
    },
    "papermill": {
     "duration": 0.042512,
     "end_time": "2023-03-24T17:51:18.872887",
     "exception": false,
     "start_time": "2023-03-24T17:51:18.830375",
     "status": "completed"
    },
    "tags": []
   },
   "outputs": [
    {
     "name": "stdout",
     "output_type": "stream",
     "text": [
      "<class 'pandas.core.frame.DataFrame'>\n",
      "RangeIndex: 4898 entries, 0 to 4897\n",
      "Data columns (total 12 columns):\n",
      " #   Column                Non-Null Count  Dtype  \n",
      "---  ------                --------------  -----  \n",
      " 0   fixed acidity         4898 non-null   float64\n",
      " 1   volatile acidity      4898 non-null   float64\n",
      " 2   citric acid           4898 non-null   float64\n",
      " 3   residual sugar        4898 non-null   float64\n",
      " 4   chlorides             4898 non-null   float64\n",
      " 5   free sulfur dioxide   4898 non-null   float64\n",
      " 6   total sulfur dioxide  4898 non-null   float64\n",
      " 7   density               4898 non-null   float64\n",
      " 8   pH                    4898 non-null   float64\n",
      " 9   sulphates             4898 non-null   float64\n",
      " 10  alcohol               4898 non-null   float64\n",
      " 11  quality               4898 non-null   int64  \n",
      "dtypes: float64(11), int64(1)\n",
      "memory usage: 459.3 KB\n"
     ]
    }
   ],
   "source": [
    "df_White.info()"
   ]
  },
  {
   "cell_type": "code",
   "execution_count": 8,
   "id": "6ff1ae8d",
   "metadata": {
    "execution": {
     "iopub.execute_input": "2023-03-24T17:51:18.919352Z",
     "iopub.status.busy": "2023-03-24T17:51:18.918930Z",
     "iopub.status.idle": "2023-03-24T17:51:18.928462Z",
     "shell.execute_reply": "2023-03-24T17:51:18.927227Z"
    },
    "papermill": {
     "duration": 0.036052,
     "end_time": "2023-03-24T17:51:18.931146",
     "exception": false,
     "start_time": "2023-03-24T17:51:18.895094",
     "status": "completed"
    },
    "tags": []
   },
   "outputs": [
    {
     "data": {
      "text/plain": [
       "fixed acidity           0\n",
       "volatile acidity        0\n",
       "citric acid             0\n",
       "residual sugar          0\n",
       "chlorides               0\n",
       "free sulfur dioxide     0\n",
       "total sulfur dioxide    0\n",
       "density                 0\n",
       "pH                      0\n",
       "sulphates               0\n",
       "alcohol                 0\n",
       "quality                 0\n",
       "dtype: int64"
      ]
     },
     "execution_count": 8,
     "metadata": {},
     "output_type": "execute_result"
    }
   ],
   "source": [
    "df_Red.isna().sum()"
   ]
  },
  {
   "cell_type": "code",
   "execution_count": 9,
   "id": "ebdd7186",
   "metadata": {
    "execution": {
     "iopub.execute_input": "2023-03-24T17:51:18.979375Z",
     "iopub.status.busy": "2023-03-24T17:51:18.978106Z",
     "iopub.status.idle": "2023-03-24T17:51:18.989347Z",
     "shell.execute_reply": "2023-03-24T17:51:18.987930Z"
    },
    "papermill": {
     "duration": 0.038653,
     "end_time": "2023-03-24T17:51:18.992349",
     "exception": false,
     "start_time": "2023-03-24T17:51:18.953696",
     "status": "completed"
    },
    "tags": []
   },
   "outputs": [
    {
     "data": {
      "text/plain": [
       "fixed acidity           0\n",
       "volatile acidity        0\n",
       "citric acid             0\n",
       "residual sugar          0\n",
       "chlorides               0\n",
       "free sulfur dioxide     0\n",
       "total sulfur dioxide    0\n",
       "density                 0\n",
       "pH                      0\n",
       "sulphates               0\n",
       "alcohol                 0\n",
       "quality                 0\n",
       "dtype: int64"
      ]
     },
     "execution_count": 9,
     "metadata": {},
     "output_type": "execute_result"
    }
   ],
   "source": [
    "df_White.isna().sum()"
   ]
  },
  {
   "cell_type": "code",
   "execution_count": 10,
   "id": "430eee95",
   "metadata": {
    "execution": {
     "iopub.execute_input": "2023-03-24T17:51:19.039677Z",
     "iopub.status.busy": "2023-03-24T17:51:19.038907Z",
     "iopub.status.idle": "2023-03-24T17:51:19.088336Z",
     "shell.execute_reply": "2023-03-24T17:51:19.087039Z"
    },
    "papermill": {
     "duration": 0.07571,
     "end_time": "2023-03-24T17:51:19.090811",
     "exception": false,
     "start_time": "2023-03-24T17:51:19.015101",
     "status": "completed"
    },
    "tags": []
   },
   "outputs": [
    {
     "data": {
      "text/html": [
       "<div>\n",
       "<style scoped>\n",
       "    .dataframe tbody tr th:only-of-type {\n",
       "        vertical-align: middle;\n",
       "    }\n",
       "\n",
       "    .dataframe tbody tr th {\n",
       "        vertical-align: top;\n",
       "    }\n",
       "\n",
       "    .dataframe thead th {\n",
       "        text-align: right;\n",
       "    }\n",
       "</style>\n",
       "<table border=\"1\" class=\"dataframe\">\n",
       "  <thead>\n",
       "    <tr style=\"text-align: right;\">\n",
       "      <th></th>\n",
       "      <th>count</th>\n",
       "      <th>mean</th>\n",
       "      <th>std</th>\n",
       "      <th>min</th>\n",
       "      <th>25%</th>\n",
       "      <th>50%</th>\n",
       "      <th>75%</th>\n",
       "      <th>max</th>\n",
       "    </tr>\n",
       "  </thead>\n",
       "  <tbody>\n",
       "    <tr>\n",
       "      <th>fixed acidity</th>\n",
       "      <td>1599.0</td>\n",
       "      <td>8.319637</td>\n",
       "      <td>1.741096</td>\n",
       "      <td>4.60000</td>\n",
       "      <td>7.1000</td>\n",
       "      <td>7.90000</td>\n",
       "      <td>9.200000</td>\n",
       "      <td>15.90000</td>\n",
       "    </tr>\n",
       "    <tr>\n",
       "      <th>volatile acidity</th>\n",
       "      <td>1599.0</td>\n",
       "      <td>0.527821</td>\n",
       "      <td>0.179060</td>\n",
       "      <td>0.12000</td>\n",
       "      <td>0.3900</td>\n",
       "      <td>0.52000</td>\n",
       "      <td>0.640000</td>\n",
       "      <td>1.58000</td>\n",
       "    </tr>\n",
       "    <tr>\n",
       "      <th>citric acid</th>\n",
       "      <td>1599.0</td>\n",
       "      <td>0.270976</td>\n",
       "      <td>0.194801</td>\n",
       "      <td>0.00000</td>\n",
       "      <td>0.0900</td>\n",
       "      <td>0.26000</td>\n",
       "      <td>0.420000</td>\n",
       "      <td>1.00000</td>\n",
       "    </tr>\n",
       "    <tr>\n",
       "      <th>residual sugar</th>\n",
       "      <td>1599.0</td>\n",
       "      <td>2.538806</td>\n",
       "      <td>1.409928</td>\n",
       "      <td>0.90000</td>\n",
       "      <td>1.9000</td>\n",
       "      <td>2.20000</td>\n",
       "      <td>2.600000</td>\n",
       "      <td>15.50000</td>\n",
       "    </tr>\n",
       "    <tr>\n",
       "      <th>chlorides</th>\n",
       "      <td>1599.0</td>\n",
       "      <td>0.087467</td>\n",
       "      <td>0.047065</td>\n",
       "      <td>0.01200</td>\n",
       "      <td>0.0700</td>\n",
       "      <td>0.07900</td>\n",
       "      <td>0.090000</td>\n",
       "      <td>0.61100</td>\n",
       "    </tr>\n",
       "    <tr>\n",
       "      <th>free sulfur dioxide</th>\n",
       "      <td>1599.0</td>\n",
       "      <td>15.874922</td>\n",
       "      <td>10.460157</td>\n",
       "      <td>1.00000</td>\n",
       "      <td>7.0000</td>\n",
       "      <td>14.00000</td>\n",
       "      <td>21.000000</td>\n",
       "      <td>72.00000</td>\n",
       "    </tr>\n",
       "    <tr>\n",
       "      <th>total sulfur dioxide</th>\n",
       "      <td>1599.0</td>\n",
       "      <td>46.467792</td>\n",
       "      <td>32.895324</td>\n",
       "      <td>6.00000</td>\n",
       "      <td>22.0000</td>\n",
       "      <td>38.00000</td>\n",
       "      <td>62.000000</td>\n",
       "      <td>289.00000</td>\n",
       "    </tr>\n",
       "    <tr>\n",
       "      <th>density</th>\n",
       "      <td>1599.0</td>\n",
       "      <td>0.996747</td>\n",
       "      <td>0.001887</td>\n",
       "      <td>0.99007</td>\n",
       "      <td>0.9956</td>\n",
       "      <td>0.99675</td>\n",
       "      <td>0.997835</td>\n",
       "      <td>1.00369</td>\n",
       "    </tr>\n",
       "    <tr>\n",
       "      <th>pH</th>\n",
       "      <td>1599.0</td>\n",
       "      <td>3.311113</td>\n",
       "      <td>0.154386</td>\n",
       "      <td>2.74000</td>\n",
       "      <td>3.2100</td>\n",
       "      <td>3.31000</td>\n",
       "      <td>3.400000</td>\n",
       "      <td>4.01000</td>\n",
       "    </tr>\n",
       "    <tr>\n",
       "      <th>sulphates</th>\n",
       "      <td>1599.0</td>\n",
       "      <td>0.658149</td>\n",
       "      <td>0.169507</td>\n",
       "      <td>0.33000</td>\n",
       "      <td>0.5500</td>\n",
       "      <td>0.62000</td>\n",
       "      <td>0.730000</td>\n",
       "      <td>2.00000</td>\n",
       "    </tr>\n",
       "    <tr>\n",
       "      <th>alcohol</th>\n",
       "      <td>1599.0</td>\n",
       "      <td>10.422983</td>\n",
       "      <td>1.065668</td>\n",
       "      <td>8.40000</td>\n",
       "      <td>9.5000</td>\n",
       "      <td>10.20000</td>\n",
       "      <td>11.100000</td>\n",
       "      <td>14.90000</td>\n",
       "    </tr>\n",
       "    <tr>\n",
       "      <th>quality</th>\n",
       "      <td>1599.0</td>\n",
       "      <td>5.636023</td>\n",
       "      <td>0.807569</td>\n",
       "      <td>3.00000</td>\n",
       "      <td>5.0000</td>\n",
       "      <td>6.00000</td>\n",
       "      <td>6.000000</td>\n",
       "      <td>8.00000</td>\n",
       "    </tr>\n",
       "  </tbody>\n",
       "</table>\n",
       "</div>"
      ],
      "text/plain": [
       "                       count       mean        std      min      25%  \\\n",
       "fixed acidity         1599.0   8.319637   1.741096  4.60000   7.1000   \n",
       "volatile acidity      1599.0   0.527821   0.179060  0.12000   0.3900   \n",
       "citric acid           1599.0   0.270976   0.194801  0.00000   0.0900   \n",
       "residual sugar        1599.0   2.538806   1.409928  0.90000   1.9000   \n",
       "chlorides             1599.0   0.087467   0.047065  0.01200   0.0700   \n",
       "free sulfur dioxide   1599.0  15.874922  10.460157  1.00000   7.0000   \n",
       "total sulfur dioxide  1599.0  46.467792  32.895324  6.00000  22.0000   \n",
       "density               1599.0   0.996747   0.001887  0.99007   0.9956   \n",
       "pH                    1599.0   3.311113   0.154386  2.74000   3.2100   \n",
       "sulphates             1599.0   0.658149   0.169507  0.33000   0.5500   \n",
       "alcohol               1599.0  10.422983   1.065668  8.40000   9.5000   \n",
       "quality               1599.0   5.636023   0.807569  3.00000   5.0000   \n",
       "\n",
       "                           50%        75%        max  \n",
       "fixed acidity          7.90000   9.200000   15.90000  \n",
       "volatile acidity       0.52000   0.640000    1.58000  \n",
       "citric acid            0.26000   0.420000    1.00000  \n",
       "residual sugar         2.20000   2.600000   15.50000  \n",
       "chlorides              0.07900   0.090000    0.61100  \n",
       "free sulfur dioxide   14.00000  21.000000   72.00000  \n",
       "total sulfur dioxide  38.00000  62.000000  289.00000  \n",
       "density                0.99675   0.997835    1.00369  \n",
       "pH                     3.31000   3.400000    4.01000  \n",
       "sulphates              0.62000   0.730000    2.00000  \n",
       "alcohol               10.20000  11.100000   14.90000  \n",
       "quality                6.00000   6.000000    8.00000  "
      ]
     },
     "execution_count": 10,
     "metadata": {},
     "output_type": "execute_result"
    }
   ],
   "source": [
    "df_Red.describe().transpose()"
   ]
  },
  {
   "cell_type": "code",
   "execution_count": 11,
   "id": "bfc073da",
   "metadata": {
    "execution": {
     "iopub.execute_input": "2023-03-24T17:51:19.138341Z",
     "iopub.status.busy": "2023-03-24T17:51:19.137384Z",
     "iopub.status.idle": "2023-03-24T17:51:19.185948Z",
     "shell.execute_reply": "2023-03-24T17:51:19.184128Z"
    },
    "papermill": {
     "duration": 0.075278,
     "end_time": "2023-03-24T17:51:19.188689",
     "exception": false,
     "start_time": "2023-03-24T17:51:19.113411",
     "status": "completed"
    },
    "tags": []
   },
   "outputs": [
    {
     "data": {
      "text/html": [
       "<div>\n",
       "<style scoped>\n",
       "    .dataframe tbody tr th:only-of-type {\n",
       "        vertical-align: middle;\n",
       "    }\n",
       "\n",
       "    .dataframe tbody tr th {\n",
       "        vertical-align: top;\n",
       "    }\n",
       "\n",
       "    .dataframe thead th {\n",
       "        text-align: right;\n",
       "    }\n",
       "</style>\n",
       "<table border=\"1\" class=\"dataframe\">\n",
       "  <thead>\n",
       "    <tr style=\"text-align: right;\">\n",
       "      <th></th>\n",
       "      <th>count</th>\n",
       "      <th>mean</th>\n",
       "      <th>std</th>\n",
       "      <th>min</th>\n",
       "      <th>25%</th>\n",
       "      <th>50%</th>\n",
       "      <th>75%</th>\n",
       "      <th>max</th>\n",
       "    </tr>\n",
       "  </thead>\n",
       "  <tbody>\n",
       "    <tr>\n",
       "      <th>fixed acidity</th>\n",
       "      <td>4898.0</td>\n",
       "      <td>6.854788</td>\n",
       "      <td>0.843868</td>\n",
       "      <td>3.80000</td>\n",
       "      <td>6.300000</td>\n",
       "      <td>6.80000</td>\n",
       "      <td>7.3000</td>\n",
       "      <td>14.20000</td>\n",
       "    </tr>\n",
       "    <tr>\n",
       "      <th>volatile acidity</th>\n",
       "      <td>4898.0</td>\n",
       "      <td>0.278241</td>\n",
       "      <td>0.100795</td>\n",
       "      <td>0.08000</td>\n",
       "      <td>0.210000</td>\n",
       "      <td>0.26000</td>\n",
       "      <td>0.3200</td>\n",
       "      <td>1.10000</td>\n",
       "    </tr>\n",
       "    <tr>\n",
       "      <th>citric acid</th>\n",
       "      <td>4898.0</td>\n",
       "      <td>0.334192</td>\n",
       "      <td>0.121020</td>\n",
       "      <td>0.00000</td>\n",
       "      <td>0.270000</td>\n",
       "      <td>0.32000</td>\n",
       "      <td>0.3900</td>\n",
       "      <td>1.66000</td>\n",
       "    </tr>\n",
       "    <tr>\n",
       "      <th>residual sugar</th>\n",
       "      <td>4898.0</td>\n",
       "      <td>6.391415</td>\n",
       "      <td>5.072058</td>\n",
       "      <td>0.60000</td>\n",
       "      <td>1.700000</td>\n",
       "      <td>5.20000</td>\n",
       "      <td>9.9000</td>\n",
       "      <td>65.80000</td>\n",
       "    </tr>\n",
       "    <tr>\n",
       "      <th>chlorides</th>\n",
       "      <td>4898.0</td>\n",
       "      <td>0.045772</td>\n",
       "      <td>0.021848</td>\n",
       "      <td>0.00900</td>\n",
       "      <td>0.036000</td>\n",
       "      <td>0.04300</td>\n",
       "      <td>0.0500</td>\n",
       "      <td>0.34600</td>\n",
       "    </tr>\n",
       "    <tr>\n",
       "      <th>free sulfur dioxide</th>\n",
       "      <td>4898.0</td>\n",
       "      <td>35.308085</td>\n",
       "      <td>17.007137</td>\n",
       "      <td>2.00000</td>\n",
       "      <td>23.000000</td>\n",
       "      <td>34.00000</td>\n",
       "      <td>46.0000</td>\n",
       "      <td>289.00000</td>\n",
       "    </tr>\n",
       "    <tr>\n",
       "      <th>total sulfur dioxide</th>\n",
       "      <td>4898.0</td>\n",
       "      <td>138.360657</td>\n",
       "      <td>42.498065</td>\n",
       "      <td>9.00000</td>\n",
       "      <td>108.000000</td>\n",
       "      <td>134.00000</td>\n",
       "      <td>167.0000</td>\n",
       "      <td>440.00000</td>\n",
       "    </tr>\n",
       "    <tr>\n",
       "      <th>density</th>\n",
       "      <td>4898.0</td>\n",
       "      <td>0.994027</td>\n",
       "      <td>0.002991</td>\n",
       "      <td>0.98711</td>\n",
       "      <td>0.991723</td>\n",
       "      <td>0.99374</td>\n",
       "      <td>0.9961</td>\n",
       "      <td>1.03898</td>\n",
       "    </tr>\n",
       "    <tr>\n",
       "      <th>pH</th>\n",
       "      <td>4898.0</td>\n",
       "      <td>3.188267</td>\n",
       "      <td>0.151001</td>\n",
       "      <td>2.72000</td>\n",
       "      <td>3.090000</td>\n",
       "      <td>3.18000</td>\n",
       "      <td>3.2800</td>\n",
       "      <td>3.82000</td>\n",
       "    </tr>\n",
       "    <tr>\n",
       "      <th>sulphates</th>\n",
       "      <td>4898.0</td>\n",
       "      <td>0.489847</td>\n",
       "      <td>0.114126</td>\n",
       "      <td>0.22000</td>\n",
       "      <td>0.410000</td>\n",
       "      <td>0.47000</td>\n",
       "      <td>0.5500</td>\n",
       "      <td>1.08000</td>\n",
       "    </tr>\n",
       "    <tr>\n",
       "      <th>alcohol</th>\n",
       "      <td>4898.0</td>\n",
       "      <td>10.514267</td>\n",
       "      <td>1.230621</td>\n",
       "      <td>8.00000</td>\n",
       "      <td>9.500000</td>\n",
       "      <td>10.40000</td>\n",
       "      <td>11.4000</td>\n",
       "      <td>14.20000</td>\n",
       "    </tr>\n",
       "    <tr>\n",
       "      <th>quality</th>\n",
       "      <td>4898.0</td>\n",
       "      <td>5.877909</td>\n",
       "      <td>0.885639</td>\n",
       "      <td>3.00000</td>\n",
       "      <td>5.000000</td>\n",
       "      <td>6.00000</td>\n",
       "      <td>6.0000</td>\n",
       "      <td>9.00000</td>\n",
       "    </tr>\n",
       "  </tbody>\n",
       "</table>\n",
       "</div>"
      ],
      "text/plain": [
       "                       count        mean        std      min         25%  \\\n",
       "fixed acidity         4898.0    6.854788   0.843868  3.80000    6.300000   \n",
       "volatile acidity      4898.0    0.278241   0.100795  0.08000    0.210000   \n",
       "citric acid           4898.0    0.334192   0.121020  0.00000    0.270000   \n",
       "residual sugar        4898.0    6.391415   5.072058  0.60000    1.700000   \n",
       "chlorides             4898.0    0.045772   0.021848  0.00900    0.036000   \n",
       "free sulfur dioxide   4898.0   35.308085  17.007137  2.00000   23.000000   \n",
       "total sulfur dioxide  4898.0  138.360657  42.498065  9.00000  108.000000   \n",
       "density               4898.0    0.994027   0.002991  0.98711    0.991723   \n",
       "pH                    4898.0    3.188267   0.151001  2.72000    3.090000   \n",
       "sulphates             4898.0    0.489847   0.114126  0.22000    0.410000   \n",
       "alcohol               4898.0   10.514267   1.230621  8.00000    9.500000   \n",
       "quality               4898.0    5.877909   0.885639  3.00000    5.000000   \n",
       "\n",
       "                            50%       75%        max  \n",
       "fixed acidity           6.80000    7.3000   14.20000  \n",
       "volatile acidity        0.26000    0.3200    1.10000  \n",
       "citric acid             0.32000    0.3900    1.66000  \n",
       "residual sugar          5.20000    9.9000   65.80000  \n",
       "chlorides               0.04300    0.0500    0.34600  \n",
       "free sulfur dioxide    34.00000   46.0000  289.00000  \n",
       "total sulfur dioxide  134.00000  167.0000  440.00000  \n",
       "density                 0.99374    0.9961    1.03898  \n",
       "pH                      3.18000    3.2800    3.82000  \n",
       "sulphates               0.47000    0.5500    1.08000  \n",
       "alcohol                10.40000   11.4000   14.20000  \n",
       "quality                 6.00000    6.0000    9.00000  "
      ]
     },
     "execution_count": 11,
     "metadata": {},
     "output_type": "execute_result"
    }
   ],
   "source": [
    "df_White.describe().transpose()"
   ]
  },
  {
   "cell_type": "code",
   "execution_count": 12,
   "id": "3bad693c",
   "metadata": {
    "execution": {
     "iopub.execute_input": "2023-03-24T17:51:19.237005Z",
     "iopub.status.busy": "2023-03-24T17:51:19.236555Z",
     "iopub.status.idle": "2023-03-24T17:51:19.705201Z",
     "shell.execute_reply": "2023-03-24T17:51:19.703771Z"
    },
    "papermill": {
     "duration": 0.495901,
     "end_time": "2023-03-24T17:51:19.707925",
     "exception": false,
     "start_time": "2023-03-24T17:51:19.212024",
     "status": "completed"
    },
    "tags": []
   },
   "outputs": [
    {
     "data": {
      "image/png": "[encoded data removed]",
      "text/plain": [
       "<Figure size 1400x600 with 2 Axes>"
      ]
     },
     "metadata": {},
     "output_type": "display_data"
    }
   ],
   "source": [
    "fig, ax = plt.subplots(1,2,\n",
    "                       figsize=(14,6),\n",
    "                       sharey=True,\n",
    "                       sharex = True)\n",
    "\n",
    "sns.countplot(ax=ax[0],\n",
    "              x='quality',\n",
    "              data=df_Red)\n",
    "ax[0].set_title('Red Score Distribution')\n",
    "\n",
    "sns.countplot(ax=ax[1], \n",
    "              x='quality',\n",
    "              data=df_White)\n",
    "ax[1].set_title('White Score Distribution')\n",
    "\n",
    "plt.tight_layout()"
   ]
  },
  {
   "cell_type": "markdown",
   "id": "8f74021e",
   "metadata": {
    "papermill": {
     "duration": 0.023281,
     "end_time": "2023-03-24T17:51:19.755148",
     "exception": false,
     "start_time": "2023-03-24T17:51:19.731867",
     "status": "completed"
    },
    "tags": []
   },
   "source": [
    "The quality range from 3 to 9, but the data looks unbalanced."
   ]
  },
  {
   "cell_type": "code",
   "execution_count": 13,
   "id": "6d3a16fd",
   "metadata": {
    "execution": {
     "iopub.execute_input": "2023-03-24T17:51:19.804152Z",
     "iopub.status.busy": "2023-03-24T17:51:19.803697Z",
     "iopub.status.idle": "2023-03-24T17:51:19.811630Z",
     "shell.execute_reply": "2023-03-24T17:51:19.810828Z"
    },
    "papermill": {
     "duration": 0.034933,
     "end_time": "2023-03-24T17:51:19.813836",
     "exception": false,
     "start_time": "2023-03-24T17:51:19.778903",
     "status": "completed"
    },
    "tags": []
   },
   "outputs": [
    {
     "data": {
      "text/plain": [
       "6    2198\n",
       "5    1457\n",
       "7     880\n",
       "8     175\n",
       "4     163\n",
       "3      20\n",
       "9       5\n",
       "Name: quality, dtype: int64"
      ]
     },
     "execution_count": 13,
     "metadata": {},
     "output_type": "execute_result"
    }
   ],
   "source": [
    "df_White['quality'].value_counts()"
   ]
  },
  {
   "cell_type": "markdown",
   "id": "08d27947",
   "metadata": {
    "papermill": {
     "duration": 0.023657,
     "end_time": "2023-03-24T17:51:19.861856",
     "exception": false,
     "start_time": "2023-03-24T17:51:19.838199",
     "status": "completed"
    },
    "tags": []
   },
   "source": [
    "There are more white wines scores than red wine, that would make hard to classify data if both were in the same place. Additionally, there are lots more of wines with 5 and 6 score than the others. That unbalance could lead to higher error in the other categories."
   ]
  },
  {
   "cell_type": "code",
   "execution_count": 14,
   "id": "59e41f37",
   "metadata": {
    "execution": {
     "iopub.execute_input": "2023-03-24T17:51:19.911213Z",
     "iopub.status.busy": "2023-03-24T17:51:19.910726Z",
     "iopub.status.idle": "2023-03-24T17:51:20.789393Z",
     "shell.execute_reply": "2023-03-24T17:51:20.788052Z"
    },
    "papermill": {
     "duration": 0.906758,
     "end_time": "2023-03-24T17:51:20.792164",
     "exception": false,
     "start_time": "2023-03-24T17:51:19.885406",
     "status": "completed"
    },
    "tags": []
   },
   "outputs": [
    {
     "data": {
      "image/png": "[encoded data removed]",
      "text/plain": [
       "<Figure size 1400x600 with 4 Axes>"
      ]
     },
     "metadata": {},
     "output_type": "display_data"
    }
   ],
   "source": [
    "fig, ax = plt.subplots(1,2,\n",
    "                       figsize=(14,6),\n",
    "                       sharey=True\n",
    "                       )\n",
    "\n",
    "sns.heatmap(ax=ax[0],\n",
    "           data=abs(df_Red.drop(['quality'],axis=1).corr()),\n",
    "           cmap='coolwarm',\n",
    "           square= True)\n",
    "ax[0].set_title('Red Score Distribution')\n",
    "\n",
    "sns.heatmap(ax=ax[1],\n",
    "            data=abs(df_White.drop(['quality'], axis=1).corr()),\n",
    "            cmap='coolwarm',\n",
    "           square= True)\n",
    "ax[1].set_title('White Score Heatmap')\n",
    "\n",
    "plt.tight_layout()"
   ]
  },
  {
   "cell_type": "markdown",
   "id": "727c0621",
   "metadata": {
    "papermill": {
     "duration": 0.024723,
     "end_time": "2023-03-24T17:51:20.842174",
     "exception": false,
     "start_time": "2023-03-24T17:51:20.817451",
     "status": "completed"
    },
    "tags": []
   },
   "source": [
    "There are some correlation between fixed acidity, pH, density and citric acid. \n",
    "\n",
    "Now check for correlation between the quality and some features."
   ]
  },
  {
   "cell_type": "code",
   "execution_count": 15,
   "id": "89de1d75",
   "metadata": {
    "execution": {
     "iopub.execute_input": "2023-03-24T17:51:20.896706Z",
     "iopub.status.busy": "2023-03-24T17:51:20.895916Z",
     "iopub.status.idle": "2023-03-24T17:51:20.906258Z",
     "shell.execute_reply": "2023-03-24T17:51:20.905303Z"
    },
    "papermill": {
     "duration": 0.041712,
     "end_time": "2023-03-24T17:51:20.908832",
     "exception": false,
     "start_time": "2023-03-24T17:51:20.867120",
     "status": "completed"
    },
    "tags": []
   },
   "outputs": [
    {
     "data": {
      "text/plain": [
       "alcohol                 0.476166\n",
       "sulphates               0.251397\n",
       "citric acid             0.226373\n",
       "fixed acidity           0.124052\n",
       "residual sugar          0.013732\n",
       "free sulfur dioxide    -0.050656\n",
       "pH                     -0.057731\n",
       "chlorides              -0.128907\n",
       "density                -0.174919\n",
       "total sulfur dioxide   -0.185100\n",
       "volatile acidity       -0.390558\n",
       "Name: quality, dtype: float64"
      ]
     },
     "execution_count": 15,
     "metadata": {},
     "output_type": "execute_result"
    }
   ],
   "source": [
    "df_Red.corr()['quality'].sort_values(ascending=False).iloc[1:]"
   ]
  },
  {
   "cell_type": "code",
   "execution_count": 16,
   "id": "415d513e",
   "metadata": {
    "execution": {
     "iopub.execute_input": "2023-03-24T17:51:20.960942Z",
     "iopub.status.busy": "2023-03-24T17:51:20.960154Z",
     "iopub.status.idle": "2023-03-24T17:51:20.972227Z",
     "shell.execute_reply": "2023-03-24T17:51:20.970974Z"
    },
    "papermill": {
     "duration": 0.041372,
     "end_time": "2023-03-24T17:51:20.974947",
     "exception": false,
     "start_time": "2023-03-24T17:51:20.933575",
     "status": "completed"
    },
    "tags": []
   },
   "outputs": [
    {
     "data": {
      "text/plain": [
       "alcohol                 0.435575\n",
       "pH                      0.099427\n",
       "sulphates               0.053678\n",
       "free sulfur dioxide     0.008158\n",
       "citric acid            -0.009209\n",
       "residual sugar         -0.097577\n",
       "fixed acidity          -0.113663\n",
       "total sulfur dioxide   -0.174737\n",
       "volatile acidity       -0.194723\n",
       "chlorides              -0.209934\n",
       "density                -0.307123\n",
       "Name: quality, dtype: float64"
      ]
     },
     "execution_count": 16,
     "metadata": {},
     "output_type": "execute_result"
    }
   ],
   "source": [
    "df_White.corr()['quality'].sort_values(ascending=False).iloc[1:]"
   ]
  },
  {
   "cell_type": "markdown",
   "id": "da7244dd",
   "metadata": {
    "papermill": {
     "duration": 0.024843,
     "end_time": "2023-03-24T17:51:21.024913",
     "exception": false,
     "start_time": "2023-03-24T17:51:21.000070",
     "status": "completed"
    },
    "tags": []
   },
   "source": [
    "Note: Removed variable response ('y') on heatmap.\n",
    "\n",
    "There are some fairly strong correlation between features, like pH, density and fixed acidity. However, they have almost no correlation with the quality, as seen in the correlation table. These fields can be droped in case the data base had too many fields and needed to free memory to prioritize speed when training model."
   ]
  },
  {
   "cell_type": "code",
   "execution_count": 17,
   "id": "dadb2ef7",
   "metadata": {
    "execution": {
     "iopub.execute_input": "2023-03-24T17:51:21.076963Z",
     "iopub.status.busy": "2023-03-24T17:51:21.076136Z",
     "iopub.status.idle": "2023-03-24T17:51:21.808234Z",
     "shell.execute_reply": "2023-03-24T17:51:21.806883Z"
    },
    "papermill": {
     "duration": 0.761704,
     "end_time": "2023-03-24T17:51:21.811425",
     "exception": false,
     "start_time": "2023-03-24T17:51:21.049721",
     "status": "completed"
    },
    "tags": []
   },
   "outputs": [
    {
     "data": {
      "image/png": "[encoded data removed]",
      "text/plain": [
       "<Figure size 1400x1000 with 2 Axes>"
      ]
     },
     "metadata": {},
     "output_type": "display_data"
    }
   ],
   "source": [
    "fig, ax = plt.subplots(2,1,\n",
    "                       figsize=(14,10),\n",
    "                       sharey=True\n",
    "                       )\n",
    "\n",
    "sns.boxplot(ax=ax[0],\n",
    "            data=df_Red.drop(['quality'],\n",
    "                             axis=1))\n",
    "\n",
    "\n",
    "sns.boxplot(ax=ax[1],\n",
    "            data=df_White.drop(['quality'], axis=1))\n",
    "\n",
    "ax[0].tick_params(axis='x', labelrotation = 45)\n",
    "ax[1].tick_params(axis='x', labelrotation = 45)\n",
    "\n",
    "plt.tight_layout()"
   ]
  },
  {
   "cell_type": "markdown",
   "id": "f897940d",
   "metadata": {
    "papermill": {
     "duration": 0.026063,
     "end_time": "2023-03-24T17:51:21.864822",
     "exception": false,
     "start_time": "2023-03-24T17:51:21.838759",
     "status": "completed"
    },
    "tags": []
   },
   "source": [
    "There are some outline values, these rows will be dropped to help improving the model, only for the X's."
   ]
  },
  {
   "cell_type": "code",
   "execution_count": 18,
   "id": "12be1867",
   "metadata": {
    "execution": {
     "iopub.execute_input": "2023-03-24T17:51:21.919371Z",
     "iopub.status.busy": "2023-03-24T17:51:21.918407Z",
     "iopub.status.idle": "2023-03-24T17:51:21.923701Z",
     "shell.execute_reply": "2023-03-24T17:51:21.922861Z"
    },
    "papermill": {
     "duration": 0.03503,
     "end_time": "2023-03-24T17:51:21.926019",
     "exception": false,
     "start_time": "2023-03-24T17:51:21.890989",
     "status": "completed"
    },
    "tags": []
   },
   "outputs": [],
   "source": [
    "from scipy import stats"
   ]
  },
  {
   "cell_type": "code",
   "execution_count": 19,
   "id": "b73e8c67",
   "metadata": {
    "execution": {
     "iopub.execute_input": "2023-03-24T17:51:21.981472Z",
     "iopub.status.busy": "2023-03-24T17:51:21.980759Z",
     "iopub.status.idle": "2023-03-24T17:51:21.996809Z",
     "shell.execute_reply": "2023-03-24T17:51:21.995601Z"
    },
    "papermill": {
     "duration": 0.04707,
     "end_time": "2023-03-24T17:51:21.999412",
     "exception": false,
     "start_time": "2023-03-24T17:51:21.952342",
     "status": "completed"
    },
    "tags": []
   },
   "outputs": [
    {
     "data": {
      "text/plain": [
       "True     1451\n",
       "False     148\n",
       "dtype: int64"
      ]
     },
     "execution_count": 19,
     "metadata": {},
     "output_type": "execute_result"
    }
   ],
   "source": [
    "(abs(stats.zscore(df_Red)) < 3).all(axis=1).value_counts()"
   ]
  },
  {
   "cell_type": "code",
   "execution_count": 20,
   "id": "69e0304f",
   "metadata": {
    "execution": {
     "iopub.execute_input": "2023-03-24T17:51:22.054805Z",
     "iopub.status.busy": "2023-03-24T17:51:22.054370Z",
     "iopub.status.idle": "2023-03-24T17:51:22.067924Z",
     "shell.execute_reply": "2023-03-24T17:51:22.066557Z"
    },
    "papermill": {
     "duration": 0.045443,
     "end_time": "2023-03-24T17:51:22.071585",
     "exception": false,
     "start_time": "2023-03-24T17:51:22.026142",
     "status": "completed"
    },
    "tags": []
   },
   "outputs": [],
   "source": [
    "df_Red = df_Red[(abs(stats.zscore(df_Red)) < 3).all(axis=1)]"
   ]
  },
  {
   "cell_type": "code",
   "execution_count": 21,
   "id": "47c0a3f7",
   "metadata": {
    "execution": {
     "iopub.execute_input": "2023-03-24T17:51:22.130256Z",
     "iopub.status.busy": "2023-03-24T17:51:22.129461Z",
     "iopub.status.idle": "2023-03-24T17:51:22.137734Z",
     "shell.execute_reply": "2023-03-24T17:51:22.136195Z"
    },
    "papermill": {
     "duration": 0.040085,
     "end_time": "2023-03-24T17:51:22.140492",
     "exception": false,
     "start_time": "2023-03-24T17:51:22.100407",
     "status": "completed"
    },
    "tags": []
   },
   "outputs": [
    {
     "data": {
      "text/plain": [
       "(1451, 12)"
      ]
     },
     "execution_count": 21,
     "metadata": {},
     "output_type": "execute_result"
    }
   ],
   "source": [
    "df_Red.shape"
   ]
  },
  {
   "cell_type": "code",
   "execution_count": 22,
   "id": "9d9eb7fd",
   "metadata": {
    "execution": {
     "iopub.execute_input": "2023-03-24T17:51:22.198181Z",
     "iopub.status.busy": "2023-03-24T17:51:22.197390Z",
     "iopub.status.idle": "2023-03-24T17:51:22.210853Z",
     "shell.execute_reply": "2023-03-24T17:51:22.209483Z"
    },
    "papermill": {
     "duration": 0.04549,
     "end_time": "2023-03-24T17:51:22.213671",
     "exception": false,
     "start_time": "2023-03-24T17:51:22.168181",
     "status": "completed"
    },
    "tags": []
   },
   "outputs": [],
   "source": [
    "df_White = df_White[(abs(stats.zscore(df_White)) < 3).all(axis=1)]"
   ]
  },
  {
   "cell_type": "code",
   "execution_count": 23,
   "id": "71f7bbdb",
   "metadata": {
    "execution": {
     "iopub.execute_input": "2023-03-24T17:51:22.272691Z",
     "iopub.status.busy": "2023-03-24T17:51:22.272249Z",
     "iopub.status.idle": "2023-03-24T17:51:23.231122Z",
     "shell.execute_reply": "2023-03-24T17:51:23.229584Z"
    },
    "papermill": {
     "duration": 0.992381,
     "end_time": "2023-03-24T17:51:23.234613",
     "exception": false,
     "start_time": "2023-03-24T17:51:22.242232",
     "status": "completed"
    },
    "tags": []
   },
   "outputs": [
    {
     "data": {
      "image/png": "[encoded data removed]",
      "text/plain": [
       "<Figure size 1400x1000 with 2 Axes>"
      ]
     },
     "metadata": {},
     "output_type": "display_data"
    }
   ],
   "source": [
    "fig, ax = plt.subplots(2,1,\n",
    "                       figsize=(14,10)\n",
    "                       )\n",
    "\n",
    "sns.boxplot(ax=ax[0],\n",
    "            data=df_Red.drop(['quality'],\n",
    "                             axis=1))\n",
    "\n",
    "\n",
    "sns.boxplot(ax=ax[1],\n",
    "            data=df_White.drop(['quality'], axis=1))\n",
    "\n",
    "ax[0].tick_params(axis='x', labelrotation = 45)\n",
    "ax[0].set_title('Red Score Distribution (Removed Outliers)')\n",
    "ax[1].tick_params(axis='x', labelrotation = 45)\n",
    "ax[1].set_title('White Score Distribution (Removed Outliers)')\n",
    "\n",
    "plt.tight_layout()"
   ]
  },
  {
   "cell_type": "markdown",
   "id": "bd419bbf",
   "metadata": {
    "papermill": {
     "duration": 0.028991,
     "end_time": "2023-03-24T17:51:23.294210",
     "exception": false,
     "start_time": "2023-03-24T17:51:23.265219",
     "status": "completed"
    },
    "tags": []
   },
   "source": [
    "Good to go."
   ]
  },
  {
   "cell_type": "code",
   "execution_count": 24,
   "id": "b0086601",
   "metadata": {
    "execution": {
     "iopub.execute_input": "2023-03-24T17:51:23.353812Z",
     "iopub.status.busy": "2023-03-24T17:51:23.353290Z",
     "iopub.status.idle": "2023-03-24T17:51:23.659173Z",
     "shell.execute_reply": "2023-03-24T17:51:23.657371Z"
    },
    "papermill": {
     "duration": 0.339117,
     "end_time": "2023-03-24T17:51:23.662416",
     "exception": false,
     "start_time": "2023-03-24T17:51:23.323299",
     "status": "completed"
    },
    "tags": []
   },
   "outputs": [
    {
     "name": "stdout",
     "output_type": "stream",
     "text": [
      "0.8160833161341197\n"
     ]
    },
    {
     "data": {
      "text/plain": [
       "<AxesSubplot:xlabel='density', ylabel='alcohol'>"
      ]
     },
     "execution_count": 24,
     "metadata": {},
     "output_type": "execute_result"
    },
    {
     "data": {
      "image/png": "[encoded data removed]",
      "text/plain": [
       "<Figure size 640x480 with 1 Axes>"
      ]
     },
     "metadata": {},
     "output_type": "display_data"
    }
   ],
   "source": [
    "corr = abs(df_White['density'].corr(df_White['alcohol']))\n",
    "\n",
    "print(corr)\n",
    "sns.scatterplot(x='density', y='alcohol', data=df_White)"
   ]
  },
  {
   "cell_type": "code",
   "execution_count": 25,
   "id": "a8d426f6",
   "metadata": {
    "execution": {
     "iopub.execute_input": "2023-03-24T17:51:23.726834Z",
     "iopub.status.busy": "2023-03-24T17:51:23.726392Z",
     "iopub.status.idle": "2023-03-24T17:51:24.037182Z",
     "shell.execute_reply": "2023-03-24T17:51:24.035894Z"
    },
    "papermill": {
     "duration": 0.346038,
     "end_time": "2023-03-24T17:51:24.040005",
     "exception": false,
     "start_time": "2023-03-24T17:51:23.693967",
     "status": "completed"
    },
    "tags": []
   },
   "outputs": [
    {
     "name": "stdout",
     "output_type": "stream",
     "text": [
      "0.8402264134341874\n"
     ]
    },
    {
     "data": {
      "text/plain": [
       "<AxesSubplot:xlabel='density', ylabel='residual sugar'>"
      ]
     },
     "execution_count": 25,
     "metadata": {},
     "output_type": "execute_result"
    },
    {
     "data": {
      "image/png": "[encoded data removed]",
      "text/plain": [
       "<Figure size 640x480 with 1 Axes>"
      ]
     },
     "metadata": {},
     "output_type": "display_data"
    }
   ],
   "source": [
    "corr = abs(df_White['density'].corr(df_White['residual sugar']))\n",
    "\n",
    "print(corr)\n",
    "sns.scatterplot(x='density', y='residual sugar', data=df_White)"
   ]
  },
  {
   "cell_type": "markdown",
   "id": "f015127d",
   "metadata": {
    "papermill": {
     "duration": 0.031576,
     "end_time": "2023-03-24T17:51:24.104391",
     "exception": false,
     "start_time": "2023-03-24T17:51:24.072815",
     "status": "completed"
    },
    "tags": []
   },
   "source": [
    "Before any data modeling is done we need to scale the data."
   ]
  },
  {
   "cell_type": "markdown",
   "id": "8f5ae78c",
   "metadata": {
    "papermill": {
     "duration": 0.031245,
     "end_time": "2023-03-24T17:51:24.167142",
     "exception": false,
     "start_time": "2023-03-24T17:51:24.135897",
     "status": "completed"
    },
    "tags": []
   },
   "source": [
    "# Classification Comparison Methods\n"
   ]
  },
  {
   "cell_type": "markdown",
   "id": "25fa1b13",
   "metadata": {
    "papermill": {
     "duration": 0.032455,
     "end_time": "2023-03-24T17:51:24.231124",
     "exception": false,
     "start_time": "2023-03-24T17:51:24.198669",
     "status": "completed"
    },
    "tags": []
   },
   "source": [
    "## Random Forest"
   ]
  },
  {
   "cell_type": "markdown",
   "id": "fff543f3",
   "metadata": {
    "papermill": {
     "duration": 0.031465,
     "end_time": "2023-03-24T17:51:24.295482",
     "exception": false,
     "start_time": "2023-03-24T17:51:24.264017",
     "status": "completed"
    },
    "tags": []
   },
   "source": [
    "### White"
   ]
  },
  {
   "cell_type": "code",
   "execution_count": 26,
   "id": "f8ba1e55",
   "metadata": {
    "execution": {
     "iopub.execute_input": "2023-03-24T17:51:24.361998Z",
     "iopub.status.busy": "2023-03-24T17:51:24.361560Z",
     "iopub.status.idle": "2023-03-24T17:51:24.986364Z",
     "shell.execute_reply": "2023-03-24T17:51:24.985148Z"
    },
    "papermill": {
     "duration": 0.66134,
     "end_time": "2023-03-24T17:51:24.989320",
     "exception": false,
     "start_time": "2023-03-24T17:51:24.327980",
     "status": "completed"
    },
    "tags": []
   },
   "outputs": [],
   "source": [
    "from sklearn.preprocessing import MinMaxScaler\n",
    "from sklearn.model_selection import train_test_split\n",
    "from sklearn.ensemble import RandomForestClassifier"
   ]
  },
  {
   "cell_type": "code",
   "execution_count": 27,
   "id": "11191b6e",
   "metadata": {
    "execution": {
     "iopub.execute_input": "2023-03-24T17:51:25.056337Z",
     "iopub.status.busy": "2023-03-24T17:51:25.055902Z",
     "iopub.status.idle": "2023-03-24T17:51:25.062070Z",
     "shell.execute_reply": "2023-03-24T17:51:25.060850Z"
    },
    "papermill": {
     "duration": 0.043091,
     "end_time": "2023-03-24T17:51:25.064477",
     "exception": false,
     "start_time": "2023-03-24T17:51:25.021386",
     "status": "completed"
    },
    "tags": []
   },
   "outputs": [],
   "source": [
    "df_White_before = df_White.copy() #Copy place holder of White Wine dataset to use on SMOTE oversampling technique"
   ]
  },
  {
   "cell_type": "code",
   "execution_count": 28,
   "id": "ed33341c",
   "metadata": {
    "execution": {
     "iopub.execute_input": "2023-03-24T17:51:25.132179Z",
     "iopub.status.busy": "2023-03-24T17:51:25.131673Z",
     "iopub.status.idle": "2023-03-24T17:51:25.137612Z",
     "shell.execute_reply": "2023-03-24T17:51:25.136331Z"
    },
    "papermill": {
     "duration": 0.043287,
     "end_time": "2023-03-24T17:51:25.140008",
     "exception": false,
     "start_time": "2023-03-24T17:51:25.096721",
     "status": "completed"
    },
    "tags": []
   },
   "outputs": [],
   "source": [
    "rfc = RandomForestClassifier(n_estimators=400)"
   ]
  },
  {
   "cell_type": "code",
   "execution_count": 29,
   "id": "ffb1b18f",
   "metadata": {
    "execution": {
     "iopub.execute_input": "2023-03-24T17:51:25.206469Z",
     "iopub.status.busy": "2023-03-24T17:51:25.205905Z",
     "iopub.status.idle": "2023-03-24T17:51:25.216339Z",
     "shell.execute_reply": "2023-03-24T17:51:25.215123Z"
    },
    "papermill": {
     "duration": 0.046959,
     "end_time": "2023-03-24T17:51:25.218984",
     "exception": false,
     "start_time": "2023-03-24T17:51:25.172025",
     "status": "completed"
    },
    "tags": []
   },
   "outputs": [],
   "source": [
    "X = df_White.drop(['quality'], axis=1).values\n",
    "y = df_White['quality'].values\n",
    "\n",
    "X_train, X_test, y_train, y_test = train_test_split(X, y, test_size=0.30, random_state=42)"
   ]
  },
  {
   "cell_type": "code",
   "execution_count": 30,
   "id": "92505e78",
   "metadata": {
    "execution": {
     "iopub.execute_input": "2023-03-24T17:51:25.286269Z",
     "iopub.status.busy": "2023-03-24T17:51:25.285811Z",
     "iopub.status.idle": "2023-03-24T17:51:28.536740Z",
     "shell.execute_reply": "2023-03-24T17:51:28.535488Z"
    },
    "papermill": {
     "duration": 3.288319,
     "end_time": "2023-03-24T17:51:28.539370",
     "exception": false,
     "start_time": "2023-03-24T17:51:25.251051",
     "status": "completed"
    },
    "tags": []
   },
   "outputs": [
    {
     "data": {
      "text/plain": [
       "RandomForestClassifier(n_estimators=400)"
      ]
     },
     "execution_count": 30,
     "metadata": {},
     "output_type": "execute_result"
    }
   ],
   "source": [
    "rfc.fit(X_train, y_train) #Random forest does not need scaling"
   ]
  },
  {
   "cell_type": "code",
   "execution_count": 31,
   "id": "54c93bb3",
   "metadata": {
    "execution": {
     "iopub.execute_input": "2023-03-24T17:51:28.608370Z",
     "iopub.status.busy": "2023-03-24T17:51:28.607936Z",
     "iopub.status.idle": "2023-03-24T17:51:28.613729Z",
     "shell.execute_reply": "2023-03-24T17:51:28.612445Z"
    },
    "papermill": {
     "duration": 0.043827,
     "end_time": "2023-03-24T17:51:28.616289",
     "exception": false,
     "start_time": "2023-03-24T17:51:28.572462",
     "status": "completed"
    },
    "tags": []
   },
   "outputs": [],
   "source": [
    "from sklearn.metrics import confusion_matrix, classification_report"
   ]
  },
  {
   "cell_type": "code",
   "execution_count": 32,
   "id": "6ce415a6",
   "metadata": {
    "execution": {
     "iopub.execute_input": "2023-03-24T17:51:28.681490Z",
     "iopub.status.busy": "2023-03-24T17:51:28.681038Z",
     "iopub.status.idle": "2023-03-24T17:51:28.869245Z",
     "shell.execute_reply": "2023-03-24T17:51:28.867962Z"
    },
    "papermill": {
     "duration": 0.22463,
     "end_time": "2023-03-24T17:51:28.872602",
     "exception": false,
     "start_time": "2023-03-24T17:51:28.647972",
     "status": "completed"
    },
    "tags": []
   },
   "outputs": [],
   "source": [
    "pred_White = rfc.predict(X_test)"
   ]
  },
  {
   "cell_type": "code",
   "execution_count": 33,
   "id": "e00d5b52",
   "metadata": {
    "execution": {
     "iopub.execute_input": "2023-03-24T17:51:28.939504Z",
     "iopub.status.busy": "2023-03-24T17:51:28.939093Z",
     "iopub.status.idle": "2023-03-24T17:51:28.955118Z",
     "shell.execute_reply": "2023-03-24T17:51:28.953888Z"
    },
    "papermill": {
     "duration": 0.052541,
     "end_time": "2023-03-24T17:51:28.957934",
     "exception": false,
     "start_time": "2023-03-24T17:51:28.905393",
     "status": "completed"
    },
    "tags": []
   },
   "outputs": [
    {
     "name": "stdout",
     "output_type": "stream",
     "text": [
      "[[  8   9  15   0   0]\n",
      " [  2 247 124   1   0]\n",
      " [  1 101 486  34   0]\n",
      " [  0   3 124 139   1]\n",
      " [  0   1  19  13  19]]\n",
      "\n",
      "\n",
      "              precision    recall  f1-score   support\n",
      "\n",
      "           4       0.73      0.25      0.37        32\n",
      "           5       0.68      0.66      0.67       374\n",
      "           6       0.63      0.78      0.70       622\n",
      "           7       0.74      0.52      0.61       267\n",
      "           8       0.95      0.37      0.53        52\n",
      "\n",
      "    accuracy                           0.67      1347\n",
      "   macro avg       0.75      0.52      0.58      1347\n",
      "weighted avg       0.68      0.67      0.66      1347\n",
      "\n"
     ]
    }
   ],
   "source": [
    "print(confusion_matrix(y_test, pred_White))\n",
    "print('\\n')\n",
    "print(classification_report(y_test, pred_White))"
   ]
  },
  {
   "cell_type": "markdown",
   "id": "19078e83",
   "metadata": {
    "papermill": {
     "duration": 0.031521,
     "end_time": "2023-03-24T17:51:29.021266",
     "exception": false,
     "start_time": "2023-03-24T17:51:28.989745",
     "status": "completed"
    },
    "tags": []
   },
   "source": [
    "### Red"
   ]
  },
  {
   "cell_type": "code",
   "execution_count": 34,
   "id": "7accd9d9",
   "metadata": {
    "execution": {
     "iopub.execute_input": "2023-03-24T17:51:29.087873Z",
     "iopub.status.busy": "2023-03-24T17:51:29.086498Z",
     "iopub.status.idle": "2023-03-24T17:51:29.095568Z",
     "shell.execute_reply": "2023-03-24T17:51:29.094625Z"
    },
    "papermill": {
     "duration": 0.045101,
     "end_time": "2023-03-24T17:51:29.098134",
     "exception": false,
     "start_time": "2023-03-24T17:51:29.053033",
     "status": "completed"
    },
    "tags": []
   },
   "outputs": [],
   "source": [
    "df_Red_before = df_Red.copy()\n",
    "\n",
    "X = df_Red.drop(['quality'], axis=1).values\n",
    "y = df_Red['quality'].values\n",
    "\n",
    "X_train, X_test, y_train, y_test = train_test_split(X, y, test_size=0.30, random_state=42)"
   ]
  },
  {
   "cell_type": "code",
   "execution_count": 35,
   "id": "7ec5cef8",
   "metadata": {
    "execution": {
     "iopub.execute_input": "2023-03-24T17:51:29.163941Z",
     "iopub.status.busy": "2023-03-24T17:51:29.163252Z",
     "iopub.status.idle": "2023-03-24T17:51:30.422478Z",
     "shell.execute_reply": "2023-03-24T17:51:30.420993Z"
    },
    "papermill": {
     "duration": 1.295603,
     "end_time": "2023-03-24T17:51:30.425235",
     "exception": false,
     "start_time": "2023-03-24T17:51:29.129632",
     "status": "completed"
    },
    "tags": []
   },
   "outputs": [
    {
     "data": {
      "text/plain": [
       "RandomForestClassifier(n_estimators=400)"
      ]
     },
     "execution_count": 35,
     "metadata": {},
     "output_type": "execute_result"
    }
   ],
   "source": [
    "rfc.fit(X_train, y_train) #Random forest does not need scaling"
   ]
  },
  {
   "cell_type": "code",
   "execution_count": 36,
   "id": "46c5af4c",
   "metadata": {
    "execution": {
     "iopub.execute_input": "2023-03-24T17:51:30.491384Z",
     "iopub.status.busy": "2023-03-24T17:51:30.490565Z",
     "iopub.status.idle": "2023-03-24T17:51:30.587078Z",
     "shell.execute_reply": "2023-03-24T17:51:30.585616Z"
    },
    "papermill": {
     "duration": 0.132912,
     "end_time": "2023-03-24T17:51:30.590217",
     "exception": false,
     "start_time": "2023-03-24T17:51:30.457305",
     "status": "completed"
    },
    "tags": []
   },
   "outputs": [],
   "source": [
    "pred_Red = rfc.predict(X_test)"
   ]
  },
  {
   "cell_type": "code",
   "execution_count": 37,
   "id": "bf079817",
   "metadata": {
    "execution": {
     "iopub.execute_input": "2023-03-24T17:51:30.656623Z",
     "iopub.status.busy": "2023-03-24T17:51:30.656201Z",
     "iopub.status.idle": "2023-03-24T17:51:30.674133Z",
     "shell.execute_reply": "2023-03-24T17:51:30.672159Z"
    },
    "papermill": {
     "duration": 0.054849,
     "end_time": "2023-03-24T17:51:30.677301",
     "exception": false,
     "start_time": "2023-03-24T17:51:30.622452",
     "status": "completed"
    },
    "tags": []
   },
   "outputs": [
    {
     "name": "stdout",
     "output_type": "stream",
     "text": [
      "[[  0  11   3   1   0]\n",
      " [  0 130  47   2   0]\n",
      " [  0  46 124   9   0]\n",
      " [  0   4  23  31   0]\n",
      " [  0   0   2   3   0]]\n",
      "\n",
      "\n",
      "              precision    recall  f1-score   support\n",
      "\n",
      "           4       0.00      0.00      0.00        15\n",
      "           5       0.68      0.73      0.70       179\n",
      "           6       0.62      0.69      0.66       179\n",
      "           7       0.67      0.53      0.60        58\n",
      "           8       0.00      0.00      0.00         5\n",
      "\n",
      "    accuracy                           0.65       436\n",
      "   macro avg       0.40      0.39      0.39       436\n",
      "weighted avg       0.62      0.65      0.64       436\n",
      "\n"
     ]
    },
    {
     "name": "stderr",
     "output_type": "stream",
     "text": [
      "/opt/conda/lib/python3.7/site-packages/sklearn/metrics/_classification.py:1318: UndefinedMetricWarning: Precision and F-score are ill-defined and being set to 0.0 in labels with no predicted samples. Use `zero_division` parameter to control this behavior.\n",
      "  _warn_prf(average, modifier, msg_start, len(result))\n",
      "/opt/conda/lib/python3.7/site-packages/sklearn/metrics/_classification.py:1318: UndefinedMetricWarning: Precision and F-score are ill-defined and being set to 0.0 in labels with no predicted samples. Use `zero_division` parameter to control this behavior.\n",
      "  _warn_prf(average, modifier, msg_start, len(result))\n",
      "/opt/conda/lib/python3.7/site-packages/sklearn/metrics/_classification.py:1318: UndefinedMetricWarning: Precision and F-score are ill-defined and being set to 0.0 in labels with no predicted samples. Use `zero_division` parameter to control this behavior.\n",
      "  _warn_prf(average, modifier, msg_start, len(result))\n"
     ]
    }
   ],
   "source": [
    "print(confusion_matrix(y_test, pred_Red))\n",
    "print('\\n')\n",
    "print(classification_report(y_test, pred_Red))"
   ]
  },
  {
   "cell_type": "markdown",
   "id": "713e261f",
   "metadata": {
    "papermill": {
     "duration": 0.033551,
     "end_time": "2023-03-24T17:51:30.744715",
     "exception": false,
     "start_time": "2023-03-24T17:51:30.711164",
     "status": "completed"
    },
    "tags": []
   },
   "source": [
    "## Tensorflow using Keras with Droupout\n",
    "### White\n",
    "\n",
    "I think that to use classification I'll need to create dummy variables to the response ranging from 3 to 9."
   ]
  },
  {
   "cell_type": "code",
   "execution_count": 38,
   "id": "e9377ca7",
   "metadata": {
    "execution": {
     "iopub.execute_input": "2023-03-24T17:51:30.811567Z",
     "iopub.status.busy": "2023-03-24T17:51:30.811087Z",
     "iopub.status.idle": "2023-03-24T17:51:39.279502Z",
     "shell.execute_reply": "2023-03-24T17:51:39.278147Z"
    },
    "papermill": {
     "duration": 8.505819,
     "end_time": "2023-03-24T17:51:39.282996",
     "exception": false,
     "start_time": "2023-03-24T17:51:30.777177",
     "status": "completed"
    },
    "tags": []
   },
   "outputs": [],
   "source": [
    "import tensorflow as tf\n",
    "from tensorflow.keras.models import Sequential\n",
    "from tensorflow.keras.layers import Dense, Dropout, Activation\n",
    "from tensorflow.keras.callbacks import EarlyStopping"
   ]
  },
  {
   "cell_type": "code",
   "execution_count": 39,
   "id": "f6e57725",
   "metadata": {
    "execution": {
     "iopub.execute_input": "2023-03-24T17:51:39.352601Z",
     "iopub.status.busy": "2023-03-24T17:51:39.350556Z",
     "iopub.status.idle": "2023-03-24T17:51:39.359813Z",
     "shell.execute_reply": "2023-03-24T17:51:39.357573Z"
    },
    "papermill": {
     "duration": 0.047151,
     "end_time": "2023-03-24T17:51:39.363589",
     "exception": false,
     "start_time": "2023-03-24T17:51:39.316438",
     "status": "completed"
    },
    "tags": []
   },
   "outputs": [],
   "source": [
    "scaler = MinMaxScaler()"
   ]
  },
  {
   "cell_type": "markdown",
   "id": "f798f3f2",
   "metadata": {
    "papermill": {
     "duration": 0.044271,
     "end_time": "2023-03-24T17:51:39.444372",
     "exception": false,
     "start_time": "2023-03-24T17:51:39.400101",
     "status": "completed"
    },
    "tags": []
   },
   "source": [
    "Get the number of unique responses where the program adjests in case of new data."
   ]
  },
  {
   "cell_type": "code",
   "execution_count": 40,
   "id": "d386d8fe",
   "metadata": {
    "execution": {
     "iopub.execute_input": "2023-03-24T17:51:39.520001Z",
     "iopub.status.busy": "2023-03-24T17:51:39.519190Z",
     "iopub.status.idle": "2023-03-24T17:51:39.526389Z",
     "shell.execute_reply": "2023-03-24T17:51:39.525243Z"
    },
    "papermill": {
     "duration": 0.04398,
     "end_time": "2023-03-24T17:51:39.528834",
     "exception": false,
     "start_time": "2023-03-24T17:51:39.484854",
     "status": "completed"
    },
    "tags": []
   },
   "outputs": [
    {
     "data": {
      "text/plain": [
       "5"
      ]
     },
     "execution_count": 40,
     "metadata": {},
     "output_type": "execute_result"
    }
   ],
   "source": [
    "ys_w = df_White['quality'].nunique()\n",
    "ys_w"
   ]
  },
  {
   "cell_type": "markdown",
   "id": "62a926f2",
   "metadata": {
    "papermill": {
     "duration": 0.032652,
     "end_time": "2023-03-24T17:51:39.594040",
     "exception": false,
     "start_time": "2023-03-24T17:51:39.561388",
     "status": "completed"
    },
    "tags": []
   },
   "source": [
    "Get the dummy variables to use on the ML.\n",
    "Do not drop the dummy so you can properly get the proporsions."
   ]
  },
  {
   "cell_type": "code",
   "execution_count": 41,
   "id": "60702f5d",
   "metadata": {
    "execution": {
     "iopub.execute_input": "2023-03-24T17:51:39.660517Z",
     "iopub.status.busy": "2023-03-24T17:51:39.659683Z",
     "iopub.status.idle": "2023-03-24T17:51:39.668239Z",
     "shell.execute_reply": "2023-03-24T17:51:39.666837Z"
    },
    "papermill": {
     "duration": 0.045135,
     "end_time": "2023-03-24T17:51:39.671289",
     "exception": false,
     "start_time": "2023-03-24T17:51:39.626154",
     "status": "completed"
    },
    "tags": []
   },
   "outputs": [],
   "source": [
    "dummy_White = pd.get_dummies(df_White['quality'], drop_first=False)"
   ]
  },
  {
   "cell_type": "code",
   "execution_count": 42,
   "id": "806c23c4",
   "metadata": {
    "execution": {
     "iopub.execute_input": "2023-03-24T17:51:39.737576Z",
     "iopub.status.busy": "2023-03-24T17:51:39.737121Z",
     "iopub.status.idle": "2023-03-24T17:51:39.758995Z",
     "shell.execute_reply": "2023-03-24T17:51:39.757735Z"
    },
    "papermill": {
     "duration": 0.058128,
     "end_time": "2023-03-24T17:51:39.761555",
     "exception": false,
     "start_time": "2023-03-24T17:51:39.703427",
     "status": "completed"
    },
    "tags": []
   },
   "outputs": [
    {
     "data": {
      "text/html": [
       "<div>\n",
       "<style scoped>\n",
       "    .dataframe tbody tr th:only-of-type {\n",
       "        vertical-align: middle;\n",
       "    }\n",
       "\n",
       "    .dataframe tbody tr th {\n",
       "        vertical-align: top;\n",
       "    }\n",
       "\n",
       "    .dataframe thead th {\n",
       "        text-align: right;\n",
       "    }\n",
       "</style>\n",
       "<table border=\"1\" class=\"dataframe\">\n",
       "  <thead>\n",
       "    <tr style=\"text-align: right;\">\n",
       "      <th></th>\n",
       "      <th>fixed acidity</th>\n",
       "      <th>volatile acidity</th>\n",
       "      <th>citric acid</th>\n",
       "      <th>residual sugar</th>\n",
       "      <th>chlorides</th>\n",
       "      <th>free sulfur dioxide</th>\n",
       "      <th>total sulfur dioxide</th>\n",
       "      <th>density</th>\n",
       "      <th>pH</th>\n",
       "      <th>sulphates</th>\n",
       "      <th>alcohol</th>\n",
       "      <th>quality</th>\n",
       "    </tr>\n",
       "  </thead>\n",
       "  <tbody>\n",
       "    <tr>\n",
       "      <th>0</th>\n",
       "      <td>7.0</td>\n",
       "      <td>0.27</td>\n",
       "      <td>0.36</td>\n",
       "      <td>20.7</td>\n",
       "      <td>0.045</td>\n",
       "      <td>45.0</td>\n",
       "      <td>170.0</td>\n",
       "      <td>1.0010</td>\n",
       "      <td>3.00</td>\n",
       "      <td>0.45</td>\n",
       "      <td>8.8</td>\n",
       "      <td>6</td>\n",
       "    </tr>\n",
       "    <tr>\n",
       "      <th>1</th>\n",
       "      <td>6.3</td>\n",
       "      <td>0.30</td>\n",
       "      <td>0.34</td>\n",
       "      <td>1.6</td>\n",
       "      <td>0.049</td>\n",
       "      <td>14.0</td>\n",
       "      <td>132.0</td>\n",
       "      <td>0.9940</td>\n",
       "      <td>3.30</td>\n",
       "      <td>0.49</td>\n",
       "      <td>9.5</td>\n",
       "      <td>6</td>\n",
       "    </tr>\n",
       "    <tr>\n",
       "      <th>2</th>\n",
       "      <td>8.1</td>\n",
       "      <td>0.28</td>\n",
       "      <td>0.40</td>\n",
       "      <td>6.9</td>\n",
       "      <td>0.050</td>\n",
       "      <td>30.0</td>\n",
       "      <td>97.0</td>\n",
       "      <td>0.9951</td>\n",
       "      <td>3.26</td>\n",
       "      <td>0.44</td>\n",
       "      <td>10.1</td>\n",
       "      <td>6</td>\n",
       "    </tr>\n",
       "    <tr>\n",
       "      <th>3</th>\n",
       "      <td>7.2</td>\n",
       "      <td>0.23</td>\n",
       "      <td>0.32</td>\n",
       "      <td>8.5</td>\n",
       "      <td>0.058</td>\n",
       "      <td>47.0</td>\n",
       "      <td>186.0</td>\n",
       "      <td>0.9956</td>\n",
       "      <td>3.19</td>\n",
       "      <td>0.40</td>\n",
       "      <td>9.9</td>\n",
       "      <td>6</td>\n",
       "    </tr>\n",
       "    <tr>\n",
       "      <th>4</th>\n",
       "      <td>7.2</td>\n",
       "      <td>0.23</td>\n",
       "      <td>0.32</td>\n",
       "      <td>8.5</td>\n",
       "      <td>0.058</td>\n",
       "      <td>47.0</td>\n",
       "      <td>186.0</td>\n",
       "      <td>0.9956</td>\n",
       "      <td>3.19</td>\n",
       "      <td>0.40</td>\n",
       "      <td>9.9</td>\n",
       "      <td>6</td>\n",
       "    </tr>\n",
       "  </tbody>\n",
       "</table>\n",
       "</div>"
      ],
      "text/plain": [
       "   fixed acidity  volatile acidity  citric acid  residual sugar  chlorides  \\\n",
       "0            7.0              0.27         0.36            20.7      0.045   \n",
       "1            6.3              0.30         0.34             1.6      0.049   \n",
       "2            8.1              0.28         0.40             6.9      0.050   \n",
       "3            7.2              0.23         0.32             8.5      0.058   \n",
       "4            7.2              0.23         0.32             8.5      0.058   \n",
       "\n",
       "   free sulfur dioxide  total sulfur dioxide  density    pH  sulphates  \\\n",
       "0                 45.0                 170.0   1.0010  3.00       0.45   \n",
       "1                 14.0                 132.0   0.9940  3.30       0.49   \n",
       "2                 30.0                  97.0   0.9951  3.26       0.44   \n",
       "3                 47.0                 186.0   0.9956  3.19       0.40   \n",
       "4                 47.0                 186.0   0.9956  3.19       0.40   \n",
       "\n",
       "   alcohol  quality  \n",
       "0      8.8        6  \n",
       "1      9.5        6  \n",
       "2     10.1        6  \n",
       "3      9.9        6  \n",
       "4      9.9        6  "
      ]
     },
     "execution_count": 42,
     "metadata": {},
     "output_type": "execute_result"
    }
   ],
   "source": [
    "df_White.head()"
   ]
  },
  {
   "cell_type": "code",
   "execution_count": 43,
   "id": "145231ba",
   "metadata": {
    "execution": {
     "iopub.execute_input": "2023-03-24T17:51:39.829952Z",
     "iopub.status.busy": "2023-03-24T17:51:39.829483Z",
     "iopub.status.idle": "2023-03-24T17:51:39.836544Z",
     "shell.execute_reply": "2023-03-24T17:51:39.835283Z"
    },
    "papermill": {
     "duration": 0.0446,
     "end_time": "2023-03-24T17:51:39.839535",
     "exception": false,
     "start_time": "2023-03-24T17:51:39.794935",
     "status": "completed"
    },
    "tags": []
   },
   "outputs": [],
   "source": [
    "df_White = pd.concat([df_White, dummy_White], axis=1)"
   ]
  },
  {
   "cell_type": "code",
   "execution_count": 44,
   "id": "29a6c7ea",
   "metadata": {
    "execution": {
     "iopub.execute_input": "2023-03-24T17:51:39.908735Z",
     "iopub.status.busy": "2023-03-24T17:51:39.908297Z",
     "iopub.status.idle": "2023-03-24T17:51:39.915647Z",
     "shell.execute_reply": "2023-03-24T17:51:39.914663Z"
    },
    "papermill": {
     "duration": 0.044359,
     "end_time": "2023-03-24T17:51:39.917962",
     "exception": false,
     "start_time": "2023-03-24T17:51:39.873603",
     "status": "completed"
    },
    "tags": []
   },
   "outputs": [],
   "source": [
    "quality_w = df_White['quality']\n",
    "df_White.drop(['quality'], axis=1, inplace=True)"
   ]
  },
  {
   "cell_type": "code",
   "execution_count": 45,
   "id": "b46d382c",
   "metadata": {
    "execution": {
     "iopub.execute_input": "2023-03-24T17:51:39.985518Z",
     "iopub.status.busy": "2023-03-24T17:51:39.985097Z",
     "iopub.status.idle": "2023-03-24T17:51:39.995146Z",
     "shell.execute_reply": "2023-03-24T17:51:39.993897Z"
    },
    "papermill": {
     "duration": 0.047443,
     "end_time": "2023-03-24T17:51:39.998025",
     "exception": false,
     "start_time": "2023-03-24T17:51:39.950582",
     "status": "completed"
    },
    "tags": []
   },
   "outputs": [],
   "source": [
    "X = df_White.drop(df_White.iloc[:,-ys_w:], axis=1).values\n",
    "y = df_White.iloc[:,-ys_w:].values\n",
    "\n",
    "X_train, X_test, y_train, y_test = train_test_split(X, y, test_size=0.30, random_state=42)"
   ]
  },
  {
   "cell_type": "code",
   "execution_count": 46,
   "id": "a1561271",
   "metadata": {
    "execution": {
     "iopub.execute_input": "2023-03-24T17:51:40.065988Z",
     "iopub.status.busy": "2023-03-24T17:51:40.064584Z",
     "iopub.status.idle": "2023-03-24T17:51:40.072187Z",
     "shell.execute_reply": "2023-03-24T17:51:40.071228Z"
    },
    "papermill": {
     "duration": 0.044456,
     "end_time": "2023-03-24T17:51:40.074851",
     "exception": false,
     "start_time": "2023-03-24T17:51:40.030395",
     "status": "completed"
    },
    "tags": []
   },
   "outputs": [],
   "source": [
    "X_train = scaler.fit_transform(X_train)"
   ]
  },
  {
   "cell_type": "code",
   "execution_count": 47,
   "id": "1fc1af40",
   "metadata": {
    "execution": {
     "iopub.execute_input": "2023-03-24T17:51:40.142827Z",
     "iopub.status.busy": "2023-03-24T17:51:40.141903Z",
     "iopub.status.idle": "2023-03-24T17:51:40.150146Z",
     "shell.execute_reply": "2023-03-24T17:51:40.149071Z"
    },
    "papermill": {
     "duration": 0.045339,
     "end_time": "2023-03-24T17:51:40.152822",
     "exception": false,
     "start_time": "2023-03-24T17:51:40.107483",
     "status": "completed"
    },
    "tags": []
   },
   "outputs": [
    {
     "data": {
      "text/plain": [
       "6"
      ]
     },
     "execution_count": 47,
     "metadata": {},
     "output_type": "execute_result"
    }
   ],
   "source": [
    "np.round(X_train.shape[1]/2).astype('int32')"
   ]
  },
  {
   "cell_type": "code",
   "execution_count": 48,
   "id": "b0955b60",
   "metadata": {
    "execution": {
     "iopub.execute_input": "2023-03-24T17:51:40.220538Z",
     "iopub.status.busy": "2023-03-24T17:51:40.219665Z",
     "iopub.status.idle": "2023-03-24T17:51:40.225712Z",
     "shell.execute_reply": "2023-03-24T17:51:40.224716Z"
    },
    "papermill": {
     "duration": 0.043182,
     "end_time": "2023-03-24T17:51:40.228424",
     "exception": false,
     "start_time": "2023-03-24T17:51:40.185242",
     "status": "completed"
    },
    "tags": []
   },
   "outputs": [],
   "source": [
    "X_test = scaler.transform(X_test)"
   ]
  },
  {
   "cell_type": "code",
   "execution_count": 49,
   "id": "676bd124",
   "metadata": {
    "execution": {
     "iopub.execute_input": "2023-03-24T17:51:40.296354Z",
     "iopub.status.busy": "2023-03-24T17:51:40.295942Z",
     "iopub.status.idle": "2023-03-24T17:51:40.301768Z",
     "shell.execute_reply": "2023-03-24T17:51:40.300522Z"
    },
    "papermill": {
     "duration": 0.042061,
     "end_time": "2023-03-24T17:51:40.304063",
     "exception": false,
     "start_time": "2023-03-24T17:51:40.262002",
     "status": "completed"
    },
    "tags": []
   },
   "outputs": [],
   "source": [
    "early_stop = EarlyStopping(monitor='val_loss', mode='min', verbose=1, patience=25)"
   ]
  },
  {
   "cell_type": "code",
   "execution_count": 50,
   "id": "8720dae1",
   "metadata": {
    "execution": {
     "iopub.execute_input": "2023-03-24T17:51:40.372144Z",
     "iopub.status.busy": "2023-03-24T17:51:40.371070Z",
     "iopub.status.idle": "2023-03-24T17:51:40.526381Z",
     "shell.execute_reply": "2023-03-24T17:51:40.525198Z"
    },
    "papermill": {
     "duration": 0.192583,
     "end_time": "2023-03-24T17:51:40.529135",
     "exception": false,
     "start_time": "2023-03-24T17:51:40.336552",
     "status": "completed"
    },
    "tags": []
   },
   "outputs": [],
   "source": [
    "model = Sequential()\n",
    "\n",
    "model.add(Dense(units=X_train.shape[1], activation='relu'))\n",
    "model.add(Dropout(0.1))\n",
    "\n",
    "model.add(Dense(units=np.round(X_train.shape[1]/2).astype('int32'), activation='relu'))\n",
    "model.add(Dropout(0.1))\n",
    "\n",
    "model.add(Dense(units=y_train.shape[1], activation='softmax'))\n",
    "\n",
    "model.compile(loss='categorical_crossentropy', optimizer = 'adam', metrics=['accuracy'])"
   ]
  },
  {
   "cell_type": "code",
   "execution_count": 51,
   "id": "1ca171b1",
   "metadata": {
    "execution": {
     "iopub.execute_input": "2023-03-24T17:51:40.596941Z",
     "iopub.status.busy": "2023-03-24T17:51:40.596465Z",
     "iopub.status.idle": "2023-03-24T17:52:12.986966Z",
     "shell.execute_reply": "2023-03-24T17:52:12.985515Z"
    },
    "papermill": {
     "duration": 32.428123,
     "end_time": "2023-03-24T17:52:12.990008",
     "exception": false,
     "start_time": "2023-03-24T17:51:40.561885",
     "status": "completed"
    },
    "tags": []
   },
   "outputs": [
    {
     "name": "stdout",
     "output_type": "stream",
     "text": [
      "Epoch 1/400\n",
      "13/13 [==============================] - 2s 46ms/step - loss: 1.6922 - accuracy: 0.2089 - val_loss: 1.6404 - val_accuracy: 0.1611\n",
      "Epoch 2/400\n",
      "13/13 [==============================] - 0s 6ms/step - loss: 1.6101 - accuracy: 0.2653 - val_loss: 1.5662 - val_accuracy: 0.3764\n",
      "Epoch 3/400\n",
      "13/13 [==============================] - 0s 6ms/step - loss: 1.5359 - accuracy: 0.3965 - val_loss: 1.4997 - val_accuracy: 0.4529\n",
      "Epoch 4/400\n",
      "13/13 [==============================] - 0s 6ms/step - loss: 1.4766 - accuracy: 0.4363 - val_loss: 1.4435 - val_accuracy: 0.4595\n",
      "Epoch 5/400\n",
      "13/13 [==============================] - 0s 6ms/step - loss: 1.4324 - accuracy: 0.4398 - val_loss: 1.4013 - val_accuracy: 0.4618\n",
      "Epoch 6/400\n",
      "13/13 [==============================] - 0s 6ms/step - loss: 1.4017 - accuracy: 0.4471 - val_loss: 1.3658 - val_accuracy: 0.4618\n",
      "Epoch 7/400\n",
      "13/13 [==============================] - 0s 6ms/step - loss: 1.3760 - accuracy: 0.4487 - val_loss: 1.3361 - val_accuracy: 0.4618\n",
      "Epoch 8/400\n",
      "13/13 [==============================] - 0s 5ms/step - loss: 1.3506 - accuracy: 0.4478 - val_loss: 1.3105 - val_accuracy: 0.4618\n",
      "Epoch 9/400\n",
      "13/13 [==============================] - 0s 5ms/step - loss: 1.3281 - accuracy: 0.4529 - val_loss: 1.2896 - val_accuracy: 0.4618\n",
      "Epoch 10/400\n",
      "13/13 [==============================] - 0s 6ms/step - loss: 1.3126 - accuracy: 0.4446 - val_loss: 1.2724 - val_accuracy: 0.4618\n",
      "Epoch 11/400\n",
      "13/13 [==============================] - 0s 5ms/step - loss: 1.2861 - accuracy: 0.4430 - val_loss: 1.2567 - val_accuracy: 0.4618\n",
      "Epoch 12/400\n",
      "13/13 [==============================] - 0s 5ms/step - loss: 1.2759 - accuracy: 0.4510 - val_loss: 1.2449 - val_accuracy: 0.4618\n",
      "Epoch 13/400\n",
      "13/13 [==============================] - 0s 6ms/step - loss: 1.2721 - accuracy: 0.4408 - val_loss: 1.2370 - val_accuracy: 0.4618\n",
      "Epoch 14/400\n",
      "13/13 [==============================] - 0s 5ms/step - loss: 1.2661 - accuracy: 0.4475 - val_loss: 1.2319 - val_accuracy: 0.4618\n",
      "Epoch 15/400\n",
      "13/13 [==============================] - 0s 5ms/step - loss: 1.2585 - accuracy: 0.4452 - val_loss: 1.2264 - val_accuracy: 0.4618\n",
      "Epoch 16/400\n",
      "13/13 [==============================] - 0s 6ms/step - loss: 1.2458 - accuracy: 0.4459 - val_loss: 1.2200 - val_accuracy: 0.4618\n",
      "Epoch 17/400\n",
      "13/13 [==============================] - 0s 6ms/step - loss: 1.2482 - accuracy: 0.4379 - val_loss: 1.2155 - val_accuracy: 0.4618\n",
      "Epoch 18/400\n",
      "13/13 [==============================] - 0s 6ms/step - loss: 1.2333 - accuracy: 0.4516 - val_loss: 1.2115 - val_accuracy: 0.4618\n",
      "Epoch 19/400\n",
      "13/13 [==============================] - 0s 6ms/step - loss: 1.2314 - accuracy: 0.4455 - val_loss: 1.2063 - val_accuracy: 0.4633\n",
      "Epoch 20/400\n",
      "13/13 [==============================] - 0s 5ms/step - loss: 1.2361 - accuracy: 0.4478 - val_loss: 1.2022 - val_accuracy: 0.4633\n",
      "Epoch 21/400\n",
      "13/13 [==============================] - 0s 5ms/step - loss: 1.2271 - accuracy: 0.4430 - val_loss: 1.1984 - val_accuracy: 0.4633\n",
      "Epoch 22/400\n",
      "13/13 [==============================] - 0s 5ms/step - loss: 1.2257 - accuracy: 0.4478 - val_loss: 1.1947 - val_accuracy: 0.4633\n",
      "Epoch 23/400\n",
      "13/13 [==============================] - 0s 5ms/step - loss: 1.2191 - accuracy: 0.4475 - val_loss: 1.1904 - val_accuracy: 0.4662\n",
      "Epoch 24/400\n",
      "13/13 [==============================] - 0s 5ms/step - loss: 1.2182 - accuracy: 0.4398 - val_loss: 1.1851 - val_accuracy: 0.4677\n",
      "Epoch 25/400\n",
      "13/13 [==============================] - 0s 5ms/step - loss: 1.2180 - accuracy: 0.4561 - val_loss: 1.1779 - val_accuracy: 0.4692\n",
      "Epoch 26/400\n",
      "13/13 [==============================] - 0s 5ms/step - loss: 1.2054 - accuracy: 0.4545 - val_loss: 1.1715 - val_accuracy: 0.4670\n",
      "Epoch 27/400\n",
      "13/13 [==============================] - 0s 6ms/step - loss: 1.2041 - accuracy: 0.4532 - val_loss: 1.1664 - val_accuracy: 0.4699\n",
      "Epoch 28/400\n",
      "13/13 [==============================] - 0s 6ms/step - loss: 1.1962 - accuracy: 0.4599 - val_loss: 1.1620 - val_accuracy: 0.4774\n",
      "Epoch 29/400\n",
      "13/13 [==============================] - 0s 6ms/step - loss: 1.1967 - accuracy: 0.4666 - val_loss: 1.1592 - val_accuracy: 0.5004\n",
      "Epoch 30/400\n",
      "13/13 [==============================] - 0s 6ms/step - loss: 1.1935 - accuracy: 0.4669 - val_loss: 1.1556 - val_accuracy: 0.5004\n",
      "Epoch 31/400\n",
      "13/13 [==============================] - 0s 6ms/step - loss: 1.1921 - accuracy: 0.4780 - val_loss: 1.1515 - val_accuracy: 0.5026\n",
      "Epoch 32/400\n",
      "13/13 [==============================] - 0s 6ms/step - loss: 1.1815 - accuracy: 0.4936 - val_loss: 1.1485 - val_accuracy: 0.5063\n",
      "Epoch 33/400\n",
      "13/13 [==============================] - 0s 5ms/step - loss: 1.1886 - accuracy: 0.4723 - val_loss: 1.1468 - val_accuracy: 0.5078\n",
      "Epoch 34/400\n",
      "13/13 [==============================] - 0s 5ms/step - loss: 1.1794 - accuracy: 0.4854 - val_loss: 1.1431 - val_accuracy: 0.5100\n",
      "Epoch 35/400\n",
      "13/13 [==============================] - 0s 5ms/step - loss: 1.1770 - accuracy: 0.4879 - val_loss: 1.1427 - val_accuracy: 0.5115\n",
      "Epoch 36/400\n",
      "13/13 [==============================] - 0s 6ms/step - loss: 1.1726 - accuracy: 0.4949 - val_loss: 1.1390 - val_accuracy: 0.5137\n",
      "Epoch 37/400\n",
      "13/13 [==============================] - 0s 5ms/step - loss: 1.1758 - accuracy: 0.4806 - val_loss: 1.1358 - val_accuracy: 0.5145\n",
      "Epoch 38/400\n",
      "13/13 [==============================] - 0s 5ms/step - loss: 1.1714 - accuracy: 0.4987 - val_loss: 1.1358 - val_accuracy: 0.5145\n",
      "Epoch 39/400\n",
      "13/13 [==============================] - 0s 6ms/step - loss: 1.1710 - accuracy: 0.5105 - val_loss: 1.1333 - val_accuracy: 0.5122\n",
      "Epoch 40/400\n",
      "13/13 [==============================] - 0s 5ms/step - loss: 1.1711 - accuracy: 0.5073 - val_loss: 1.1314 - val_accuracy: 0.5137\n",
      "Epoch 41/400\n",
      "13/13 [==============================] - 0s 7ms/step - loss: 1.1712 - accuracy: 0.4962 - val_loss: 1.1287 - val_accuracy: 0.5145\n",
      "Epoch 42/400\n",
      "13/13 [==============================] - 0s 6ms/step - loss: 1.1651 - accuracy: 0.5019 - val_loss: 1.1293 - val_accuracy: 0.5152\n",
      "Epoch 43/400\n",
      "13/13 [==============================] - 0s 6ms/step - loss: 1.1682 - accuracy: 0.4987 - val_loss: 1.1267 - val_accuracy: 0.5145\n",
      "Epoch 44/400\n",
      "13/13 [==============================] - 0s 6ms/step - loss: 1.1672 - accuracy: 0.4962 - val_loss: 1.1262 - val_accuracy: 0.5189\n",
      "Epoch 45/400\n",
      "13/13 [==============================] - 0s 5ms/step - loss: 1.1624 - accuracy: 0.5032 - val_loss: 1.1235 - val_accuracy: 0.5152\n",
      "Epoch 46/400\n",
      "13/13 [==============================] - 0s 5ms/step - loss: 1.1578 - accuracy: 0.5057 - val_loss: 1.1236 - val_accuracy: 0.5189\n",
      "Epoch 47/400\n",
      "13/13 [==============================] - 0s 5ms/step - loss: 1.1568 - accuracy: 0.5108 - val_loss: 1.1208 - val_accuracy: 0.5174\n",
      "Epoch 48/400\n",
      "13/13 [==============================] - 0s 5ms/step - loss: 1.1541 - accuracy: 0.5102 - val_loss: 1.1192 - val_accuracy: 0.5212\n",
      "Epoch 49/400\n",
      "13/13 [==============================] - 0s 5ms/step - loss: 1.1562 - accuracy: 0.5064 - val_loss: 1.1193 - val_accuracy: 0.5189\n",
      "Epoch 50/400\n",
      "13/13 [==============================] - 0s 5ms/step - loss: 1.1641 - accuracy: 0.5064 - val_loss: 1.1187 - val_accuracy: 0.5204\n",
      "Epoch 51/400\n",
      "13/13 [==============================] - 0s 5ms/step - loss: 1.1486 - accuracy: 0.5105 - val_loss: 1.1158 - val_accuracy: 0.5234\n",
      "Epoch 52/400\n",
      "13/13 [==============================] - 0s 6ms/step - loss: 1.1483 - accuracy: 0.5134 - val_loss: 1.1157 - val_accuracy: 0.5226\n",
      "Epoch 53/400\n",
      "13/13 [==============================] - 0s 6ms/step - loss: 1.1513 - accuracy: 0.5143 - val_loss: 1.1141 - val_accuracy: 0.5197\n",
      "Epoch 54/400\n",
      "13/13 [==============================] - 0s 5ms/step - loss: 1.1546 - accuracy: 0.5032 - val_loss: 1.1133 - val_accuracy: 0.5234\n",
      "Epoch 55/400\n",
      "13/13 [==============================] - 0s 5ms/step - loss: 1.1457 - accuracy: 0.5140 - val_loss: 1.1129 - val_accuracy: 0.5249\n",
      "Epoch 56/400\n",
      "13/13 [==============================] - 0s 6ms/step - loss: 1.1506 - accuracy: 0.5175 - val_loss: 1.1110 - val_accuracy: 0.5256\n",
      "Epoch 57/400\n",
      "13/13 [==============================] - 0s 6ms/step - loss: 1.1451 - accuracy: 0.5159 - val_loss: 1.1118 - val_accuracy: 0.5234\n",
      "Epoch 58/400\n",
      "13/13 [==============================] - 0s 5ms/step - loss: 1.1453 - accuracy: 0.5185 - val_loss: 1.1109 - val_accuracy: 0.5286\n",
      "Epoch 59/400\n",
      "13/13 [==============================] - 0s 6ms/step - loss: 1.1468 - accuracy: 0.5137 - val_loss: 1.1085 - val_accuracy: 0.5301\n",
      "Epoch 60/400\n",
      "13/13 [==============================] - 0s 6ms/step - loss: 1.1437 - accuracy: 0.5131 - val_loss: 1.1085 - val_accuracy: 0.5286\n",
      "Epoch 61/400\n",
      "13/13 [==============================] - 0s 6ms/step - loss: 1.1310 - accuracy: 0.5194 - val_loss: 1.1073 - val_accuracy: 0.5278\n",
      "Epoch 62/400\n",
      "13/13 [==============================] - 0s 7ms/step - loss: 1.1361 - accuracy: 0.5076 - val_loss: 1.1062 - val_accuracy: 0.5264\n",
      "Epoch 63/400\n",
      "13/13 [==============================] - 0s 6ms/step - loss: 1.1406 - accuracy: 0.5201 - val_loss: 1.1043 - val_accuracy: 0.5301\n",
      "Epoch 64/400\n",
      "13/13 [==============================] - 0s 5ms/step - loss: 1.1446 - accuracy: 0.5239 - val_loss: 1.1040 - val_accuracy: 0.5330\n",
      "Epoch 65/400\n",
      "13/13 [==============================] - 0s 5ms/step - loss: 1.1333 - accuracy: 0.5169 - val_loss: 1.1032 - val_accuracy: 0.5286\n",
      "Epoch 66/400\n",
      "13/13 [==============================] - 0s 6ms/step - loss: 1.1353 - accuracy: 0.5182 - val_loss: 1.1028 - val_accuracy: 0.5293\n",
      "Epoch 67/400\n",
      "13/13 [==============================] - 0s 5ms/step - loss: 1.1372 - accuracy: 0.5217 - val_loss: 1.1015 - val_accuracy: 0.5316\n",
      "Epoch 68/400\n",
      "13/13 [==============================] - 0s 6ms/step - loss: 1.1425 - accuracy: 0.5159 - val_loss: 1.1016 - val_accuracy: 0.5271\n",
      "Epoch 69/400\n",
      "13/13 [==============================] - 0s 6ms/step - loss: 1.1340 - accuracy: 0.5159 - val_loss: 1.1005 - val_accuracy: 0.5316\n",
      "Epoch 70/400\n",
      "13/13 [==============================] - 0s 6ms/step - loss: 1.1363 - accuracy: 0.5172 - val_loss: 1.0994 - val_accuracy: 0.5323\n",
      "Epoch 71/400\n",
      "13/13 [==============================] - 0s 5ms/step - loss: 1.1346 - accuracy: 0.5188 - val_loss: 1.0990 - val_accuracy: 0.5271\n",
      "Epoch 72/400\n",
      "13/13 [==============================] - 0s 5ms/step - loss: 1.1357 - accuracy: 0.5172 - val_loss: 1.0991 - val_accuracy: 0.5301\n",
      "Epoch 73/400\n",
      "13/13 [==============================] - 0s 5ms/step - loss: 1.1270 - accuracy: 0.5264 - val_loss: 1.0979 - val_accuracy: 0.5367\n",
      "Epoch 74/400\n",
      "13/13 [==============================] - 0s 5ms/step - loss: 1.1314 - accuracy: 0.5341 - val_loss: 1.0967 - val_accuracy: 0.5323\n",
      "Epoch 75/400\n",
      "13/13 [==============================] - 0s 5ms/step - loss: 1.1384 - accuracy: 0.5204 - val_loss: 1.0977 - val_accuracy: 0.5264\n",
      "Epoch 76/400\n",
      "13/13 [==============================] - 0s 5ms/step - loss: 1.1282 - accuracy: 0.5232 - val_loss: 1.0955 - val_accuracy: 0.5360\n",
      "Epoch 77/400\n",
      "13/13 [==============================] - 0s 5ms/step - loss: 1.1317 - accuracy: 0.5293 - val_loss: 1.0950 - val_accuracy: 0.5330\n",
      "Epoch 78/400\n",
      "13/13 [==============================] - 0s 5ms/step - loss: 1.1226 - accuracy: 0.5309 - val_loss: 1.0947 - val_accuracy: 0.5345\n",
      "Epoch 79/400\n",
      "13/13 [==============================] - 0s 5ms/step - loss: 1.1350 - accuracy: 0.5220 - val_loss: 1.0956 - val_accuracy: 0.5338\n",
      "Epoch 80/400\n",
      "13/13 [==============================] - 0s 5ms/step - loss: 1.1304 - accuracy: 0.5252 - val_loss: 1.0958 - val_accuracy: 0.5301\n",
      "Epoch 81/400\n",
      "13/13 [==============================] - 0s 6ms/step - loss: 1.1277 - accuracy: 0.5277 - val_loss: 1.0940 - val_accuracy: 0.5375\n",
      "Epoch 82/400\n",
      "13/13 [==============================] - 0s 5ms/step - loss: 1.1313 - accuracy: 0.5217 - val_loss: 1.0940 - val_accuracy: 0.5353\n",
      "Epoch 83/400\n",
      "13/13 [==============================] - 0s 5ms/step - loss: 1.1247 - accuracy: 0.5226 - val_loss: 1.0923 - val_accuracy: 0.5367\n",
      "Epoch 84/400\n",
      "13/13 [==============================] - 0s 5ms/step - loss: 1.1215 - accuracy: 0.5232 - val_loss: 1.0912 - val_accuracy: 0.5360\n",
      "Epoch 85/400\n",
      "13/13 [==============================] - 0s 5ms/step - loss: 1.1256 - accuracy: 0.5229 - val_loss: 1.0915 - val_accuracy: 0.5360\n",
      "Epoch 86/400\n",
      "13/13 [==============================] - 0s 5ms/step - loss: 1.1220 - accuracy: 0.5293 - val_loss: 1.0918 - val_accuracy: 0.5375\n",
      "Epoch 87/400\n",
      "13/13 [==============================] - 0s 5ms/step - loss: 1.1246 - accuracy: 0.5242 - val_loss: 1.0907 - val_accuracy: 0.5360\n",
      "Epoch 88/400\n",
      "13/13 [==============================] - 0s 5ms/step - loss: 1.1248 - accuracy: 0.5232 - val_loss: 1.0912 - val_accuracy: 0.5338\n",
      "Epoch 89/400\n",
      "13/13 [==============================] - 0s 5ms/step - loss: 1.1286 - accuracy: 0.5236 - val_loss: 1.0902 - val_accuracy: 0.5353\n",
      "Epoch 90/400\n",
      "13/13 [==============================] - 0s 5ms/step - loss: 1.1194 - accuracy: 0.5306 - val_loss: 1.0903 - val_accuracy: 0.5367\n",
      "Epoch 91/400\n",
      "13/13 [==============================] - 0s 5ms/step - loss: 1.1262 - accuracy: 0.5217 - val_loss: 1.0885 - val_accuracy: 0.5375\n",
      "Epoch 92/400\n",
      "13/13 [==============================] - 0s 5ms/step - loss: 1.1127 - accuracy: 0.5354 - val_loss: 1.0879 - val_accuracy: 0.5360\n",
      "Epoch 93/400\n",
      "13/13 [==============================] - 0s 6ms/step - loss: 1.1182 - accuracy: 0.5242 - val_loss: 1.0892 - val_accuracy: 0.5323\n",
      "Epoch 94/400\n",
      "13/13 [==============================] - 0s 5ms/step - loss: 1.1175 - accuracy: 0.5210 - val_loss: 1.0873 - val_accuracy: 0.5360\n",
      "Epoch 95/400\n",
      "13/13 [==============================] - 0s 6ms/step - loss: 1.1144 - accuracy: 0.5389 - val_loss: 1.0885 - val_accuracy: 0.5382\n",
      "Epoch 96/400\n",
      "13/13 [==============================] - 0s 5ms/step - loss: 1.1148 - accuracy: 0.5245 - val_loss: 1.0880 - val_accuracy: 0.5382\n",
      "Epoch 97/400\n",
      "13/13 [==============================] - 0s 5ms/step - loss: 1.1257 - accuracy: 0.5290 - val_loss: 1.0865 - val_accuracy: 0.5345\n",
      "Epoch 98/400\n",
      "13/13 [==============================] - 0s 5ms/step - loss: 1.1166 - accuracy: 0.5293 - val_loss: 1.0866 - val_accuracy: 0.5360\n",
      "Epoch 99/400\n",
      "13/13 [==============================] - 0s 6ms/step - loss: 1.1158 - accuracy: 0.5191 - val_loss: 1.0860 - val_accuracy: 0.5367\n",
      "Epoch 100/400\n",
      "13/13 [==============================] - 0s 6ms/step - loss: 1.1177 - accuracy: 0.5239 - val_loss: 1.0860 - val_accuracy: 0.5360\n",
      "Epoch 101/400\n",
      "13/13 [==============================] - 0s 6ms/step - loss: 1.1132 - accuracy: 0.5252 - val_loss: 1.0861 - val_accuracy: 0.5353\n",
      "Epoch 102/400\n",
      "13/13 [==============================] - 0s 5ms/step - loss: 1.1161 - accuracy: 0.5398 - val_loss: 1.0859 - val_accuracy: 0.5338\n",
      "Epoch 103/400\n",
      "13/13 [==============================] - 0s 5ms/step - loss: 1.1133 - accuracy: 0.5328 - val_loss: 1.0841 - val_accuracy: 0.5360\n",
      "Epoch 104/400\n",
      "13/13 [==============================] - 0s 5ms/step - loss: 1.1233 - accuracy: 0.5274 - val_loss: 1.0854 - val_accuracy: 0.5367\n",
      "Epoch 105/400\n",
      "13/13 [==============================] - 0s 5ms/step - loss: 1.1053 - accuracy: 0.5350 - val_loss: 1.0833 - val_accuracy: 0.5367\n",
      "Epoch 106/400\n",
      "13/13 [==============================] - 0s 5ms/step - loss: 1.1136 - accuracy: 0.5363 - val_loss: 1.0834 - val_accuracy: 0.5367\n",
      "Epoch 107/400\n",
      "13/13 [==============================] - 0s 7ms/step - loss: 1.1124 - accuracy: 0.5268 - val_loss: 1.0848 - val_accuracy: 0.5308\n",
      "Epoch 108/400\n",
      "13/13 [==============================] - 0s 6ms/step - loss: 1.1075 - accuracy: 0.5363 - val_loss: 1.0830 - val_accuracy: 0.5360\n",
      "Epoch 109/400\n",
      "13/13 [==============================] - 0s 6ms/step - loss: 1.1074 - accuracy: 0.5283 - val_loss: 1.0819 - val_accuracy: 0.5353\n",
      "Epoch 110/400\n",
      "13/13 [==============================] - 0s 6ms/step - loss: 1.1043 - accuracy: 0.5328 - val_loss: 1.0815 - val_accuracy: 0.5345\n",
      "Epoch 111/400\n",
      "13/13 [==============================] - 0s 6ms/step - loss: 1.1096 - accuracy: 0.5271 - val_loss: 1.0812 - val_accuracy: 0.5367\n",
      "Epoch 112/400\n",
      "13/13 [==============================] - 0s 5ms/step - loss: 1.1039 - accuracy: 0.5398 - val_loss: 1.0802 - val_accuracy: 0.5360\n",
      "Epoch 113/400\n",
      "13/13 [==============================] - 0s 6ms/step - loss: 1.1080 - accuracy: 0.5315 - val_loss: 1.0804 - val_accuracy: 0.5375\n",
      "Epoch 114/400\n",
      "13/13 [==============================] - 0s 6ms/step - loss: 1.1142 - accuracy: 0.5414 - val_loss: 1.0812 - val_accuracy: 0.5375\n",
      "Epoch 115/400\n",
      "13/13 [==============================] - 0s 6ms/step - loss: 1.1109 - accuracy: 0.5264 - val_loss: 1.0798 - val_accuracy: 0.5367\n",
      "Epoch 116/400\n",
      "13/13 [==============================] - 0s 7ms/step - loss: 1.1052 - accuracy: 0.5287 - val_loss: 1.0803 - val_accuracy: 0.5360\n",
      "Epoch 117/400\n",
      "13/13 [==============================] - 0s 5ms/step - loss: 1.1050 - accuracy: 0.5344 - val_loss: 1.0809 - val_accuracy: 0.5345\n",
      "Epoch 118/400\n",
      "13/13 [==============================] - 0s 5ms/step - loss: 1.1052 - accuracy: 0.5344 - val_loss: 1.0793 - val_accuracy: 0.5345\n",
      "Epoch 119/400\n",
      "13/13 [==============================] - 0s 5ms/step - loss: 1.1066 - accuracy: 0.5306 - val_loss: 1.0787 - val_accuracy: 0.5316\n",
      "Epoch 120/400\n",
      "13/13 [==============================] - 0s 6ms/step - loss: 1.1013 - accuracy: 0.5389 - val_loss: 1.0783 - val_accuracy: 0.5367\n",
      "Epoch 121/400\n",
      "13/13 [==============================] - 0s 5ms/step - loss: 1.1023 - accuracy: 0.5341 - val_loss: 1.0778 - val_accuracy: 0.5338\n",
      "Epoch 122/400\n",
      "13/13 [==============================] - 0s 6ms/step - loss: 1.1031 - accuracy: 0.5271 - val_loss: 1.0783 - val_accuracy: 0.5397\n",
      "Epoch 123/400\n",
      "13/13 [==============================] - 0s 6ms/step - loss: 1.1152 - accuracy: 0.5197 - val_loss: 1.0776 - val_accuracy: 0.5338\n",
      "Epoch 124/400\n",
      "13/13 [==============================] - 0s 5ms/step - loss: 1.1062 - accuracy: 0.5363 - val_loss: 1.0782 - val_accuracy: 0.5360\n",
      "Epoch 125/400\n",
      "13/13 [==============================] - 0s 5ms/step - loss: 1.1024 - accuracy: 0.5363 - val_loss: 1.0781 - val_accuracy: 0.5345\n",
      "Epoch 126/400\n",
      "13/13 [==============================] - 0s 5ms/step - loss: 1.1046 - accuracy: 0.5357 - val_loss: 1.0769 - val_accuracy: 0.5367\n",
      "Epoch 127/400\n",
      "13/13 [==============================] - 0s 5ms/step - loss: 1.1051 - accuracy: 0.5360 - val_loss: 1.0775 - val_accuracy: 0.5367\n",
      "Epoch 128/400\n",
      "13/13 [==============================] - 0s 5ms/step - loss: 1.1053 - accuracy: 0.5341 - val_loss: 1.0769 - val_accuracy: 0.5367\n",
      "Epoch 129/400\n",
      "13/13 [==============================] - 0s 5ms/step - loss: 1.1127 - accuracy: 0.5220 - val_loss: 1.0775 - val_accuracy: 0.5345\n",
      "Epoch 130/400\n",
      "13/13 [==============================] - 0s 5ms/step - loss: 1.1082 - accuracy: 0.5341 - val_loss: 1.0764 - val_accuracy: 0.5360\n",
      "Epoch 131/400\n",
      "13/13 [==============================] - 0s 6ms/step - loss: 1.0929 - accuracy: 0.5366 - val_loss: 1.0756 - val_accuracy: 0.5293\n",
      "Epoch 132/400\n",
      "13/13 [==============================] - 0s 6ms/step - loss: 1.1094 - accuracy: 0.5306 - val_loss: 1.0755 - val_accuracy: 0.5316\n",
      "Epoch 133/400\n",
      "13/13 [==============================] - 0s 6ms/step - loss: 1.0990 - accuracy: 0.5443 - val_loss: 1.0756 - val_accuracy: 0.5308\n",
      "Epoch 134/400\n",
      "13/13 [==============================] - 0s 5ms/step - loss: 1.1026 - accuracy: 0.5280 - val_loss: 1.0753 - val_accuracy: 0.5367\n",
      "Epoch 135/400\n",
      "13/13 [==============================] - 0s 6ms/step - loss: 1.1009 - accuracy: 0.5360 - val_loss: 1.0754 - val_accuracy: 0.5382\n",
      "Epoch 136/400\n",
      "13/13 [==============================] - 0s 6ms/step - loss: 1.0984 - accuracy: 0.5382 - val_loss: 1.0740 - val_accuracy: 0.5301\n",
      "Epoch 137/400\n",
      "13/13 [==============================] - 0s 5ms/step - loss: 1.0960 - accuracy: 0.5392 - val_loss: 1.0733 - val_accuracy: 0.5323\n",
      "Epoch 138/400\n",
      "13/13 [==============================] - 0s 5ms/step - loss: 1.0997 - accuracy: 0.5350 - val_loss: 1.0737 - val_accuracy: 0.5316\n",
      "Epoch 139/400\n",
      "13/13 [==============================] - 0s 6ms/step - loss: 1.1124 - accuracy: 0.5287 - val_loss: 1.0749 - val_accuracy: 0.5367\n",
      "Epoch 140/400\n",
      "13/13 [==============================] - 0s 6ms/step - loss: 1.0970 - accuracy: 0.5338 - val_loss: 1.0737 - val_accuracy: 0.5345\n",
      "Epoch 141/400\n",
      "13/13 [==============================] - 0s 5ms/step - loss: 1.0962 - accuracy: 0.5411 - val_loss: 1.0729 - val_accuracy: 0.5367\n",
      "Epoch 142/400\n",
      "13/13 [==============================] - 0s 6ms/step - loss: 1.0991 - accuracy: 0.5306 - val_loss: 1.0728 - val_accuracy: 0.5367\n",
      "Epoch 143/400\n",
      "13/13 [==============================] - 0s 5ms/step - loss: 1.0955 - accuracy: 0.5325 - val_loss: 1.0733 - val_accuracy: 0.5353\n",
      "Epoch 144/400\n",
      "13/13 [==============================] - 0s 5ms/step - loss: 1.0971 - accuracy: 0.5303 - val_loss: 1.0724 - val_accuracy: 0.5390\n",
      "Epoch 145/400\n",
      "13/13 [==============================] - 0s 5ms/step - loss: 1.1015 - accuracy: 0.5338 - val_loss: 1.0714 - val_accuracy: 0.5293\n",
      "Epoch 146/400\n",
      "13/13 [==============================] - 0s 6ms/step - loss: 1.1000 - accuracy: 0.5245 - val_loss: 1.0732 - val_accuracy: 0.5353\n",
      "Epoch 147/400\n",
      "13/13 [==============================] - 0s 5ms/step - loss: 1.0940 - accuracy: 0.5360 - val_loss: 1.0725 - val_accuracy: 0.5382\n",
      "Epoch 148/400\n",
      "13/13 [==============================] - 0s 5ms/step - loss: 1.0983 - accuracy: 0.5325 - val_loss: 1.0715 - val_accuracy: 0.5316\n",
      "Epoch 149/400\n",
      "13/13 [==============================] - 0s 6ms/step - loss: 1.0996 - accuracy: 0.5274 - val_loss: 1.0714 - val_accuracy: 0.5308\n",
      "Epoch 150/400\n",
      "13/13 [==============================] - 0s 5ms/step - loss: 1.0973 - accuracy: 0.5334 - val_loss: 1.0714 - val_accuracy: 0.5367\n",
      "Epoch 151/400\n",
      "13/13 [==============================] - 0s 5ms/step - loss: 1.0946 - accuracy: 0.5315 - val_loss: 1.0706 - val_accuracy: 0.5345\n",
      "Epoch 152/400\n",
      "13/13 [==============================] - 0s 5ms/step - loss: 1.0952 - accuracy: 0.5271 - val_loss: 1.0710 - val_accuracy: 0.5338\n",
      "Epoch 153/400\n",
      "13/13 [==============================] - 0s 5ms/step - loss: 1.0891 - accuracy: 0.5296 - val_loss: 1.0702 - val_accuracy: 0.5345\n",
      "Epoch 154/400\n",
      "13/13 [==============================] - 0s 5ms/step - loss: 1.1005 - accuracy: 0.5318 - val_loss: 1.0706 - val_accuracy: 0.5390\n",
      "Epoch 155/400\n",
      "13/13 [==============================] - 0s 5ms/step - loss: 1.0912 - accuracy: 0.5401 - val_loss: 1.0700 - val_accuracy: 0.5345\n",
      "Epoch 156/400\n",
      "13/13 [==============================] - 0s 5ms/step - loss: 1.0898 - accuracy: 0.5360 - val_loss: 1.0695 - val_accuracy: 0.5338\n",
      "Epoch 157/400\n",
      "13/13 [==============================] - 0s 5ms/step - loss: 1.0879 - accuracy: 0.5360 - val_loss: 1.0696 - val_accuracy: 0.5367\n",
      "Epoch 158/400\n",
      "13/13 [==============================] - 0s 5ms/step - loss: 1.0918 - accuracy: 0.5350 - val_loss: 1.0694 - val_accuracy: 0.5338\n",
      "Epoch 159/400\n",
      "13/13 [==============================] - 0s 5ms/step - loss: 1.0932 - accuracy: 0.5408 - val_loss: 1.0695 - val_accuracy: 0.5330\n",
      "Epoch 160/400\n",
      "13/13 [==============================] - 0s 5ms/step - loss: 1.0946 - accuracy: 0.5274 - val_loss: 1.0700 - val_accuracy: 0.5375\n",
      "Epoch 161/400\n",
      "13/13 [==============================] - 0s 6ms/step - loss: 1.0937 - accuracy: 0.5194 - val_loss: 1.0683 - val_accuracy: 0.5301\n",
      "Epoch 162/400\n",
      "13/13 [==============================] - 0s 6ms/step - loss: 1.0978 - accuracy: 0.5299 - val_loss: 1.0684 - val_accuracy: 0.5345\n",
      "Epoch 163/400\n",
      "13/13 [==============================] - 0s 6ms/step - loss: 1.0855 - accuracy: 0.5424 - val_loss: 1.0700 - val_accuracy: 0.5397\n",
      "Epoch 164/400\n",
      "13/13 [==============================] - 0s 5ms/step - loss: 1.0851 - accuracy: 0.5344 - val_loss: 1.0682 - val_accuracy: 0.5345\n",
      "Epoch 165/400\n",
      "13/13 [==============================] - 0s 5ms/step - loss: 1.0788 - accuracy: 0.5443 - val_loss: 1.0666 - val_accuracy: 0.5308\n",
      "Epoch 166/400\n",
      "13/13 [==============================] - 0s 6ms/step - loss: 1.0908 - accuracy: 0.5325 - val_loss: 1.0671 - val_accuracy: 0.5345\n",
      "Epoch 167/400\n",
      "13/13 [==============================] - 0s 5ms/step - loss: 1.0850 - accuracy: 0.5475 - val_loss: 1.0670 - val_accuracy: 0.5330\n",
      "Epoch 168/400\n",
      "13/13 [==============================] - 0s 5ms/step - loss: 1.0925 - accuracy: 0.5366 - val_loss: 1.0680 - val_accuracy: 0.5382\n",
      "Epoch 169/400\n",
      "13/13 [==============================] - 0s 6ms/step - loss: 1.0912 - accuracy: 0.5334 - val_loss: 1.0672 - val_accuracy: 0.5301\n",
      "Epoch 170/400\n",
      "13/13 [==============================] - 0s 7ms/step - loss: 1.0864 - accuracy: 0.5322 - val_loss: 1.0671 - val_accuracy: 0.5338\n",
      "Epoch 171/400\n",
      "13/13 [==============================] - 0s 6ms/step - loss: 1.0938 - accuracy: 0.5354 - val_loss: 1.0672 - val_accuracy: 0.5375\n",
      "Epoch 172/400\n",
      "13/13 [==============================] - 0s 5ms/step - loss: 1.0878 - accuracy: 0.5398 - val_loss: 1.0662 - val_accuracy: 0.5323\n",
      "Epoch 173/400\n",
      "13/13 [==============================] - 0s 7ms/step - loss: 1.0875 - accuracy: 0.5376 - val_loss: 1.0664 - val_accuracy: 0.5345\n",
      "Epoch 174/400\n",
      "13/13 [==============================] - 0s 6ms/step - loss: 1.0886 - accuracy: 0.5382 - val_loss: 1.0665 - val_accuracy: 0.5338\n",
      "Epoch 175/400\n",
      "13/13 [==============================] - 0s 6ms/step - loss: 1.0824 - accuracy: 0.5408 - val_loss: 1.0668 - val_accuracy: 0.5330\n",
      "Epoch 176/400\n",
      "13/13 [==============================] - 0s 6ms/step - loss: 1.0811 - accuracy: 0.5398 - val_loss: 1.0661 - val_accuracy: 0.5286\n",
      "Epoch 177/400\n",
      "13/13 [==============================] - 0s 6ms/step - loss: 1.0824 - accuracy: 0.5404 - val_loss: 1.0658 - val_accuracy: 0.5308\n",
      "Epoch 178/400\n",
      "13/13 [==============================] - 0s 5ms/step - loss: 1.0802 - accuracy: 0.5392 - val_loss: 1.0658 - val_accuracy: 0.5293\n",
      "Epoch 179/400\n",
      "13/13 [==============================] - 0s 5ms/step - loss: 1.0865 - accuracy: 0.5331 - val_loss: 1.0654 - val_accuracy: 0.5323\n",
      "Epoch 180/400\n",
      "13/13 [==============================] - 0s 5ms/step - loss: 1.0885 - accuracy: 0.5341 - val_loss: 1.0655 - val_accuracy: 0.5301\n",
      "Epoch 181/400\n",
      "13/13 [==============================] - 0s 5ms/step - loss: 1.0809 - accuracy: 0.5459 - val_loss: 1.0648 - val_accuracy: 0.5249\n",
      "Epoch 182/400\n",
      "13/13 [==============================] - 0s 6ms/step - loss: 1.0882 - accuracy: 0.5417 - val_loss: 1.0647 - val_accuracy: 0.5249\n",
      "Epoch 183/400\n",
      "13/13 [==============================] - 0s 6ms/step - loss: 1.0815 - accuracy: 0.5376 - val_loss: 1.0660 - val_accuracy: 0.5330\n",
      "Epoch 184/400\n",
      "13/13 [==============================] - 0s 6ms/step - loss: 1.0788 - accuracy: 0.5465 - val_loss: 1.0638 - val_accuracy: 0.5264\n",
      "Epoch 185/400\n",
      "13/13 [==============================] - 0s 6ms/step - loss: 1.0780 - accuracy: 0.5401 - val_loss: 1.0654 - val_accuracy: 0.5316\n",
      "Epoch 186/400\n",
      "13/13 [==============================] - 0s 6ms/step - loss: 1.0786 - accuracy: 0.5525 - val_loss: 1.0639 - val_accuracy: 0.5286\n",
      "Epoch 187/400\n",
      "13/13 [==============================] - 0s 6ms/step - loss: 1.0783 - accuracy: 0.5459 - val_loss: 1.0638 - val_accuracy: 0.5293\n",
      "Epoch 188/400\n",
      "13/13 [==============================] - 0s 6ms/step - loss: 1.0890 - accuracy: 0.5328 - val_loss: 1.0662 - val_accuracy: 0.5345\n",
      "Epoch 189/400\n",
      "13/13 [==============================] - 0s 6ms/step - loss: 1.0868 - accuracy: 0.5347 - val_loss: 1.0644 - val_accuracy: 0.5278\n",
      "Epoch 190/400\n",
      "13/13 [==============================] - 0s 6ms/step - loss: 1.0872 - accuracy: 0.5363 - val_loss: 1.0649 - val_accuracy: 0.5286\n",
      "Epoch 191/400\n",
      "13/13 [==============================] - 0s 7ms/step - loss: 1.0798 - accuracy: 0.5455 - val_loss: 1.0644 - val_accuracy: 0.5316\n",
      "Epoch 192/400\n",
      "13/13 [==============================] - 0s 5ms/step - loss: 1.0771 - accuracy: 0.5357 - val_loss: 1.0636 - val_accuracy: 0.5226\n",
      "Epoch 193/400\n",
      "13/13 [==============================] - 0s 6ms/step - loss: 1.0770 - accuracy: 0.5408 - val_loss: 1.0635 - val_accuracy: 0.5256\n",
      "Epoch 194/400\n",
      "13/13 [==============================] - 0s 6ms/step - loss: 1.0814 - accuracy: 0.5433 - val_loss: 1.0642 - val_accuracy: 0.5278\n",
      "Epoch 195/400\n",
      "13/13 [==============================] - 0s 5ms/step - loss: 1.0765 - accuracy: 0.5420 - val_loss: 1.0638 - val_accuracy: 0.5286\n",
      "Epoch 196/400\n",
      "13/13 [==============================] - 0s 5ms/step - loss: 1.0787 - accuracy: 0.5350 - val_loss: 1.0644 - val_accuracy: 0.5293\n",
      "Epoch 197/400\n",
      "13/13 [==============================] - 0s 6ms/step - loss: 1.0814 - accuracy: 0.5420 - val_loss: 1.0631 - val_accuracy: 0.5264\n",
      "Epoch 198/400\n",
      "13/13 [==============================] - 0s 5ms/step - loss: 1.0819 - accuracy: 0.5436 - val_loss: 1.0630 - val_accuracy: 0.5256\n",
      "Epoch 199/400\n",
      "13/13 [==============================] - 0s 6ms/step - loss: 1.0749 - accuracy: 0.5446 - val_loss: 1.0634 - val_accuracy: 0.5330\n",
      "Epoch 200/400\n",
      "13/13 [==============================] - 0s 5ms/step - loss: 1.0770 - accuracy: 0.5443 - val_loss: 1.0622 - val_accuracy: 0.5256\n",
      "Epoch 201/400\n",
      "13/13 [==============================] - 0s 6ms/step - loss: 1.0846 - accuracy: 0.5439 - val_loss: 1.0626 - val_accuracy: 0.5293\n",
      "Epoch 202/400\n",
      "13/13 [==============================] - 0s 7ms/step - loss: 1.0764 - accuracy: 0.5404 - val_loss: 1.0632 - val_accuracy: 0.5256\n",
      "Epoch 203/400\n",
      "13/13 [==============================] - 0s 6ms/step - loss: 1.0778 - accuracy: 0.5373 - val_loss: 1.0628 - val_accuracy: 0.5323\n",
      "Epoch 204/400\n",
      "13/13 [==============================] - 0s 6ms/step - loss: 1.0815 - accuracy: 0.5338 - val_loss: 1.0636 - val_accuracy: 0.5338\n",
      "Epoch 205/400\n",
      "13/13 [==============================] - 0s 6ms/step - loss: 1.0792 - accuracy: 0.5389 - val_loss: 1.0630 - val_accuracy: 0.5293\n",
      "Epoch 206/400\n",
      "13/13 [==============================] - 0s 6ms/step - loss: 1.0761 - accuracy: 0.5475 - val_loss: 1.0624 - val_accuracy: 0.5249\n",
      "Epoch 207/400\n",
      "13/13 [==============================] - 0s 5ms/step - loss: 1.0822 - accuracy: 0.5382 - val_loss: 1.0629 - val_accuracy: 0.5256\n",
      "Epoch 208/400\n",
      "13/13 [==============================] - 0s 6ms/step - loss: 1.0813 - accuracy: 0.5417 - val_loss: 1.0637 - val_accuracy: 0.5316\n",
      "Epoch 209/400\n",
      "13/13 [==============================] - 0s 6ms/step - loss: 1.0784 - accuracy: 0.5417 - val_loss: 1.0627 - val_accuracy: 0.5278\n",
      "Epoch 210/400\n",
      "13/13 [==============================] - 0s 6ms/step - loss: 1.0856 - accuracy: 0.5439 - val_loss: 1.0622 - val_accuracy: 0.5226\n",
      "Epoch 211/400\n",
      "13/13 [==============================] - 0s 6ms/step - loss: 1.0777 - accuracy: 0.5436 - val_loss: 1.0630 - val_accuracy: 0.5286\n",
      "Epoch 212/400\n",
      "13/13 [==============================] - 0s 6ms/step - loss: 1.0718 - accuracy: 0.5503 - val_loss: 1.0621 - val_accuracy: 0.5241\n",
      "Epoch 213/400\n",
      "13/13 [==============================] - 0s 6ms/step - loss: 1.0768 - accuracy: 0.5430 - val_loss: 1.0622 - val_accuracy: 0.5241\n",
      "Epoch 214/400\n",
      "13/13 [==============================] - 0s 6ms/step - loss: 1.0787 - accuracy: 0.5404 - val_loss: 1.0613 - val_accuracy: 0.5256\n",
      "Epoch 215/400\n",
      "13/13 [==============================] - 0s 5ms/step - loss: 1.0797 - accuracy: 0.5366 - val_loss: 1.0617 - val_accuracy: 0.5249\n",
      "Epoch 216/400\n",
      "13/13 [==============================] - 0s 5ms/step - loss: 1.0736 - accuracy: 0.5379 - val_loss: 1.0619 - val_accuracy: 0.5249\n",
      "Epoch 217/400\n",
      "13/13 [==============================] - 0s 6ms/step - loss: 1.0710 - accuracy: 0.5411 - val_loss: 1.0610 - val_accuracy: 0.5249\n",
      "Epoch 218/400\n",
      "13/13 [==============================] - 0s 6ms/step - loss: 1.0697 - accuracy: 0.5443 - val_loss: 1.0607 - val_accuracy: 0.5264\n",
      "Epoch 219/400\n",
      "13/13 [==============================] - 0s 6ms/step - loss: 1.0811 - accuracy: 0.5411 - val_loss: 1.0611 - val_accuracy: 0.5256\n",
      "Epoch 220/400\n",
      "13/13 [==============================] - 0s 6ms/step - loss: 1.0694 - accuracy: 0.5503 - val_loss: 1.0613 - val_accuracy: 0.5278\n",
      "Epoch 221/400\n",
      "13/13 [==============================] - 0s 5ms/step - loss: 1.0710 - accuracy: 0.5389 - val_loss: 1.0607 - val_accuracy: 0.5256\n",
      "Epoch 222/400\n",
      "13/13 [==============================] - 0s 6ms/step - loss: 1.0771 - accuracy: 0.5420 - val_loss: 1.0614 - val_accuracy: 0.5286\n",
      "Epoch 223/400\n",
      "13/13 [==============================] - 0s 5ms/step - loss: 1.0723 - accuracy: 0.5427 - val_loss: 1.0605 - val_accuracy: 0.5278\n",
      "Epoch 224/400\n",
      "13/13 [==============================] - 0s 6ms/step - loss: 1.0734 - accuracy: 0.5462 - val_loss: 1.0607 - val_accuracy: 0.5301\n",
      "Epoch 225/400\n",
      "13/13 [==============================] - 0s 5ms/step - loss: 1.0758 - accuracy: 0.5471 - val_loss: 1.0608 - val_accuracy: 0.5308\n",
      "Epoch 226/400\n",
      "13/13 [==============================] - 0s 5ms/step - loss: 1.0694 - accuracy: 0.5455 - val_loss: 1.0603 - val_accuracy: 0.5293\n",
      "Epoch 227/400\n",
      "13/13 [==============================] - 0s 6ms/step - loss: 1.0751 - accuracy: 0.5420 - val_loss: 1.0608 - val_accuracy: 0.5286\n",
      "Epoch 228/400\n",
      "13/13 [==============================] - 0s 6ms/step - loss: 1.0710 - accuracy: 0.5484 - val_loss: 1.0607 - val_accuracy: 0.5323\n",
      "Epoch 229/400\n",
      "13/13 [==============================] - 0s 6ms/step - loss: 1.0672 - accuracy: 0.5424 - val_loss: 1.0599 - val_accuracy: 0.5241\n",
      "Epoch 230/400\n",
      "13/13 [==============================] - 0s 5ms/step - loss: 1.0714 - accuracy: 0.5503 - val_loss: 1.0599 - val_accuracy: 0.5264\n",
      "Epoch 231/400\n",
      "13/13 [==============================] - 0s 5ms/step - loss: 1.0745 - accuracy: 0.5331 - val_loss: 1.0607 - val_accuracy: 0.5286\n",
      "Epoch 232/400\n",
      "13/13 [==============================] - 0s 6ms/step - loss: 1.0709 - accuracy: 0.5427 - val_loss: 1.0597 - val_accuracy: 0.5293\n",
      "Epoch 233/400\n",
      "13/13 [==============================] - 0s 5ms/step - loss: 1.0749 - accuracy: 0.5452 - val_loss: 1.0591 - val_accuracy: 0.5241\n",
      "Epoch 234/400\n",
      "13/13 [==============================] - 0s 6ms/step - loss: 1.0734 - accuracy: 0.5379 - val_loss: 1.0596 - val_accuracy: 0.5286\n",
      "Epoch 235/400\n",
      "13/13 [==============================] - 0s 6ms/step - loss: 1.0654 - accuracy: 0.5462 - val_loss: 1.0590 - val_accuracy: 0.5264\n",
      "Epoch 236/400\n",
      "13/13 [==============================] - 0s 5ms/step - loss: 1.0646 - accuracy: 0.5446 - val_loss: 1.0583 - val_accuracy: 0.5286\n",
      "Epoch 237/400\n",
      "13/13 [==============================] - 0s 6ms/step - loss: 1.0719 - accuracy: 0.5404 - val_loss: 1.0590 - val_accuracy: 0.5316\n",
      "Epoch 238/400\n",
      "13/13 [==============================] - 0s 6ms/step - loss: 1.0731 - accuracy: 0.5484 - val_loss: 1.0585 - val_accuracy: 0.5278\n",
      "Epoch 239/400\n",
      "13/13 [==============================] - 0s 6ms/step - loss: 1.0669 - accuracy: 0.5475 - val_loss: 1.0586 - val_accuracy: 0.5249\n",
      "Epoch 240/400\n",
      "13/13 [==============================] - 0s 6ms/step - loss: 1.0755 - accuracy: 0.5446 - val_loss: 1.0591 - val_accuracy: 0.5301\n",
      "Epoch 241/400\n",
      "13/13 [==============================] - 0s 6ms/step - loss: 1.0737 - accuracy: 0.5443 - val_loss: 1.0588 - val_accuracy: 0.5278\n",
      "Epoch 242/400\n",
      "13/13 [==============================] - 0s 6ms/step - loss: 1.0680 - accuracy: 0.5411 - val_loss: 1.0584 - val_accuracy: 0.5264\n",
      "Epoch 243/400\n",
      "13/13 [==============================] - 0s 6ms/step - loss: 1.0602 - accuracy: 0.5462 - val_loss: 1.0580 - val_accuracy: 0.5278\n",
      "Epoch 244/400\n",
      "13/13 [==============================] - 0s 5ms/step - loss: 1.0671 - accuracy: 0.5459 - val_loss: 1.0577 - val_accuracy: 0.5278\n",
      "Epoch 245/400\n",
      "13/13 [==============================] - 0s 6ms/step - loss: 1.0716 - accuracy: 0.5439 - val_loss: 1.0585 - val_accuracy: 0.5271\n",
      "Epoch 246/400\n",
      "13/13 [==============================] - 0s 7ms/step - loss: 1.0774 - accuracy: 0.5404 - val_loss: 1.0582 - val_accuracy: 0.5308\n",
      "Epoch 247/400\n",
      "13/13 [==============================] - 0s 5ms/step - loss: 1.0649 - accuracy: 0.5357 - val_loss: 1.0584 - val_accuracy: 0.5308\n",
      "Epoch 248/400\n",
      "13/13 [==============================] - 0s 6ms/step - loss: 1.0614 - accuracy: 0.5500 - val_loss: 1.0580 - val_accuracy: 0.5264\n",
      "Epoch 249/400\n",
      "13/13 [==============================] - 0s 6ms/step - loss: 1.0672 - accuracy: 0.5433 - val_loss: 1.0574 - val_accuracy: 0.5286\n",
      "Epoch 250/400\n",
      "13/13 [==============================] - 0s 7ms/step - loss: 1.0594 - accuracy: 0.5484 - val_loss: 1.0581 - val_accuracy: 0.5293\n",
      "Epoch 251/400\n",
      "13/13 [==============================] - 0s 7ms/step - loss: 1.0606 - accuracy: 0.5490 - val_loss: 1.0577 - val_accuracy: 0.5308\n",
      "Epoch 252/400\n",
      "13/13 [==============================] - 0s 5ms/step - loss: 1.0606 - accuracy: 0.5462 - val_loss: 1.0578 - val_accuracy: 0.5330\n",
      "Epoch 253/400\n",
      "13/13 [==============================] - 0s 6ms/step - loss: 1.0656 - accuracy: 0.5427 - val_loss: 1.0574 - val_accuracy: 0.5301\n",
      "Epoch 254/400\n",
      "13/13 [==============================] - 0s 6ms/step - loss: 1.0641 - accuracy: 0.5506 - val_loss: 1.0580 - val_accuracy: 0.5286\n",
      "Epoch 255/400\n",
      "13/13 [==============================] - 0s 7ms/step - loss: 1.0641 - accuracy: 0.5484 - val_loss: 1.0577 - val_accuracy: 0.5278\n",
      "Epoch 256/400\n",
      "13/13 [==============================] - 0s 6ms/step - loss: 1.0680 - accuracy: 0.5471 - val_loss: 1.0572 - val_accuracy: 0.5301\n",
      "Epoch 257/400\n",
      "13/13 [==============================] - 0s 6ms/step - loss: 1.0590 - accuracy: 0.5471 - val_loss: 1.0569 - val_accuracy: 0.5308\n",
      "Epoch 258/400\n",
      "13/13 [==============================] - 0s 7ms/step - loss: 1.0625 - accuracy: 0.5475 - val_loss: 1.0568 - val_accuracy: 0.5301\n",
      "Epoch 259/400\n",
      "13/13 [==============================] - 0s 6ms/step - loss: 1.0618 - accuracy: 0.5436 - val_loss: 1.0570 - val_accuracy: 0.5278\n",
      "Epoch 260/400\n",
      "13/13 [==============================] - 0s 6ms/step - loss: 1.0614 - accuracy: 0.5459 - val_loss: 1.0568 - val_accuracy: 0.5278\n",
      "Epoch 261/400\n",
      "13/13 [==============================] - 0s 6ms/step - loss: 1.0645 - accuracy: 0.5373 - val_loss: 1.0560 - val_accuracy: 0.5323\n",
      "Epoch 262/400\n",
      "13/13 [==============================] - 0s 5ms/step - loss: 1.0646 - accuracy: 0.5449 - val_loss: 1.0560 - val_accuracy: 0.5293\n",
      "Epoch 263/400\n",
      "13/13 [==============================] - 0s 6ms/step - loss: 1.0654 - accuracy: 0.5392 - val_loss: 1.0555 - val_accuracy: 0.5316\n",
      "Epoch 264/400\n",
      "13/13 [==============================] - 0s 6ms/step - loss: 1.0611 - accuracy: 0.5420 - val_loss: 1.0557 - val_accuracy: 0.5286\n",
      "Epoch 265/400\n",
      "13/13 [==============================] - 0s 7ms/step - loss: 1.0602 - accuracy: 0.5439 - val_loss: 1.0558 - val_accuracy: 0.5301\n",
      "Epoch 266/400\n",
      "13/13 [==============================] - 0s 5ms/step - loss: 1.0609 - accuracy: 0.5459 - val_loss: 1.0563 - val_accuracy: 0.5301\n",
      "Epoch 267/400\n",
      "13/13 [==============================] - 0s 6ms/step - loss: 1.0536 - accuracy: 0.5417 - val_loss: 1.0554 - val_accuracy: 0.5293\n",
      "Epoch 268/400\n",
      "13/13 [==============================] - 0s 6ms/step - loss: 1.0642 - accuracy: 0.5462 - val_loss: 1.0556 - val_accuracy: 0.5308\n",
      "Epoch 269/400\n",
      "13/13 [==============================] - 0s 6ms/step - loss: 1.0624 - accuracy: 0.5452 - val_loss: 1.0549 - val_accuracy: 0.5301\n",
      "Epoch 270/400\n",
      "13/13 [==============================] - 0s 7ms/step - loss: 1.0596 - accuracy: 0.5465 - val_loss: 1.0552 - val_accuracy: 0.5271\n",
      "Epoch 271/400\n",
      "13/13 [==============================] - 0s 7ms/step - loss: 1.0658 - accuracy: 0.5452 - val_loss: 1.0552 - val_accuracy: 0.5278\n",
      "Epoch 272/400\n",
      "13/13 [==============================] - 0s 6ms/step - loss: 1.0589 - accuracy: 0.5535 - val_loss: 1.0544 - val_accuracy: 0.5256\n",
      "Epoch 273/400\n",
      "13/13 [==============================] - 0s 6ms/step - loss: 1.0545 - accuracy: 0.5459 - val_loss: 1.0543 - val_accuracy: 0.5301\n",
      "Epoch 274/400\n",
      "13/13 [==============================] - 0s 5ms/step - loss: 1.0601 - accuracy: 0.5459 - val_loss: 1.0549 - val_accuracy: 0.5286\n",
      "Epoch 275/400\n",
      "13/13 [==============================] - 0s 5ms/step - loss: 1.0618 - accuracy: 0.5420 - val_loss: 1.0550 - val_accuracy: 0.5286\n",
      "Epoch 276/400\n",
      "13/13 [==============================] - 0s 6ms/step - loss: 1.0568 - accuracy: 0.5414 - val_loss: 1.0548 - val_accuracy: 0.5308\n",
      "Epoch 277/400\n",
      "13/13 [==============================] - 0s 5ms/step - loss: 1.0597 - accuracy: 0.5500 - val_loss: 1.0548 - val_accuracy: 0.5264\n",
      "Epoch 278/400\n",
      "13/13 [==============================] - 0s 6ms/step - loss: 1.0596 - accuracy: 0.5519 - val_loss: 1.0544 - val_accuracy: 0.5278\n",
      "Epoch 279/400\n",
      "13/13 [==============================] - 0s 6ms/step - loss: 1.0632 - accuracy: 0.5510 - val_loss: 1.0547 - val_accuracy: 0.5293\n",
      "Epoch 280/400\n",
      "13/13 [==============================] - 0s 6ms/step - loss: 1.0578 - accuracy: 0.5452 - val_loss: 1.0542 - val_accuracy: 0.5308\n",
      "Epoch 281/400\n",
      "13/13 [==============================] - 0s 6ms/step - loss: 1.0545 - accuracy: 0.5468 - val_loss: 1.0541 - val_accuracy: 0.5330\n",
      "Epoch 282/400\n",
      "13/13 [==============================] - 0s 6ms/step - loss: 1.0601 - accuracy: 0.5516 - val_loss: 1.0543 - val_accuracy: 0.5345\n",
      "Epoch 283/400\n",
      "13/13 [==============================] - 0s 5ms/step - loss: 1.0584 - accuracy: 0.5564 - val_loss: 1.0537 - val_accuracy: 0.5323\n",
      "Epoch 284/400\n",
      "13/13 [==============================] - 0s 5ms/step - loss: 1.0633 - accuracy: 0.5382 - val_loss: 1.0546 - val_accuracy: 0.5323\n",
      "Epoch 285/400\n",
      "13/13 [==============================] - 0s 5ms/step - loss: 1.0539 - accuracy: 0.5478 - val_loss: 1.0542 - val_accuracy: 0.5330\n",
      "Epoch 286/400\n",
      "13/13 [==============================] - 0s 5ms/step - loss: 1.0658 - accuracy: 0.5436 - val_loss: 1.0537 - val_accuracy: 0.5330\n",
      "Epoch 287/400\n",
      "13/13 [==============================] - 0s 5ms/step - loss: 1.0590 - accuracy: 0.5497 - val_loss: 1.0537 - val_accuracy: 0.5316\n",
      "Epoch 288/400\n",
      "13/13 [==============================] - 0s 5ms/step - loss: 1.0553 - accuracy: 0.5538 - val_loss: 1.0535 - val_accuracy: 0.5316\n",
      "Epoch 289/400\n",
      "13/13 [==============================] - 0s 5ms/step - loss: 1.0520 - accuracy: 0.5510 - val_loss: 1.0534 - val_accuracy: 0.5330\n",
      "Epoch 290/400\n",
      "13/13 [==============================] - 0s 5ms/step - loss: 1.0670 - accuracy: 0.5462 - val_loss: 1.0535 - val_accuracy: 0.5286\n",
      "Epoch 291/400\n",
      "13/13 [==============================] - 0s 5ms/step - loss: 1.0569 - accuracy: 0.5459 - val_loss: 1.0525 - val_accuracy: 0.5301\n",
      "Epoch 292/400\n",
      "13/13 [==============================] - 0s 5ms/step - loss: 1.0550 - accuracy: 0.5481 - val_loss: 1.0526 - val_accuracy: 0.5278\n",
      "Epoch 293/400\n",
      "13/13 [==============================] - 0s 5ms/step - loss: 1.0553 - accuracy: 0.5494 - val_loss: 1.0525 - val_accuracy: 0.5256\n",
      "Epoch 294/400\n",
      "13/13 [==============================] - 0s 6ms/step - loss: 1.0492 - accuracy: 0.5490 - val_loss: 1.0528 - val_accuracy: 0.5249\n",
      "Epoch 295/400\n",
      "13/13 [==============================] - 0s 6ms/step - loss: 1.0627 - accuracy: 0.5404 - val_loss: 1.0528 - val_accuracy: 0.5286\n",
      "Epoch 296/400\n",
      "13/13 [==============================] - 0s 5ms/step - loss: 1.0528 - accuracy: 0.5439 - val_loss: 1.0530 - val_accuracy: 0.5264\n",
      "Epoch 297/400\n",
      "13/13 [==============================] - 0s 6ms/step - loss: 1.0603 - accuracy: 0.5452 - val_loss: 1.0525 - val_accuracy: 0.5256\n",
      "Epoch 298/400\n",
      "13/13 [==============================] - 0s 5ms/step - loss: 1.0564 - accuracy: 0.5443 - val_loss: 1.0519 - val_accuracy: 0.5249\n",
      "Epoch 299/400\n",
      "13/13 [==============================] - 0s 5ms/step - loss: 1.0571 - accuracy: 0.5484 - val_loss: 1.0526 - val_accuracy: 0.5278\n",
      "Epoch 300/400\n",
      "13/13 [==============================] - 0s 5ms/step - loss: 1.0582 - accuracy: 0.5487 - val_loss: 1.0531 - val_accuracy: 0.5308\n",
      "Epoch 301/400\n",
      "13/13 [==============================] - 0s 6ms/step - loss: 1.0508 - accuracy: 0.5427 - val_loss: 1.0528 - val_accuracy: 0.5293\n",
      "Epoch 302/400\n",
      "13/13 [==============================] - 0s 6ms/step - loss: 1.0525 - accuracy: 0.5449 - val_loss: 1.0515 - val_accuracy: 0.5256\n",
      "Epoch 303/400\n",
      "13/13 [==============================] - 0s 5ms/step - loss: 1.0558 - accuracy: 0.5516 - val_loss: 1.0516 - val_accuracy: 0.5226\n",
      "Epoch 304/400\n",
      "13/13 [==============================] - 0s 5ms/step - loss: 1.0572 - accuracy: 0.5471 - val_loss: 1.0520 - val_accuracy: 0.5278\n",
      "Epoch 305/400\n",
      "13/13 [==============================] - 0s 6ms/step - loss: 1.0543 - accuracy: 0.5430 - val_loss: 1.0517 - val_accuracy: 0.5264\n",
      "Epoch 306/400\n",
      "13/13 [==============================] - 0s 6ms/step - loss: 1.0492 - accuracy: 0.5487 - val_loss: 1.0518 - val_accuracy: 0.5264\n",
      "Epoch 307/400\n",
      "13/13 [==============================] - 0s 6ms/step - loss: 1.0627 - accuracy: 0.5385 - val_loss: 1.0514 - val_accuracy: 0.5316\n",
      "Epoch 308/400\n",
      "13/13 [==============================] - 0s 5ms/step - loss: 1.0475 - accuracy: 0.5417 - val_loss: 1.0506 - val_accuracy: 0.5249\n",
      "Epoch 309/400\n",
      "13/13 [==============================] - 0s 6ms/step - loss: 1.0518 - accuracy: 0.5481 - val_loss: 1.0508 - val_accuracy: 0.5301\n",
      "Epoch 310/400\n",
      "13/13 [==============================] - 0s 5ms/step - loss: 1.0491 - accuracy: 0.5516 - val_loss: 1.0515 - val_accuracy: 0.5286\n",
      "Epoch 311/400\n",
      "13/13 [==============================] - 0s 5ms/step - loss: 1.0491 - accuracy: 0.5538 - val_loss: 1.0513 - val_accuracy: 0.5301\n",
      "Epoch 312/400\n",
      "13/13 [==============================] - 0s 6ms/step - loss: 1.0420 - accuracy: 0.5494 - val_loss: 1.0506 - val_accuracy: 0.5316\n",
      "Epoch 313/400\n",
      "13/13 [==============================] - 0s 5ms/step - loss: 1.0489 - accuracy: 0.5525 - val_loss: 1.0506 - val_accuracy: 0.5308\n",
      "Epoch 314/400\n",
      "13/13 [==============================] - 0s 5ms/step - loss: 1.0476 - accuracy: 0.5475 - val_loss: 1.0502 - val_accuracy: 0.5264\n",
      "Epoch 315/400\n",
      "13/13 [==============================] - 0s 5ms/step - loss: 1.0479 - accuracy: 0.5554 - val_loss: 1.0498 - val_accuracy: 0.5323\n",
      "Epoch 316/400\n",
      "13/13 [==============================] - 0s 5ms/step - loss: 1.0510 - accuracy: 0.5599 - val_loss: 1.0497 - val_accuracy: 0.5316\n",
      "Epoch 317/400\n",
      "13/13 [==============================] - 0s 5ms/step - loss: 1.0521 - accuracy: 0.5503 - val_loss: 1.0501 - val_accuracy: 0.5286\n",
      "Epoch 318/400\n",
      "13/13 [==============================] - 0s 6ms/step - loss: 1.0468 - accuracy: 0.5561 - val_loss: 1.0493 - val_accuracy: 0.5286\n",
      "Epoch 319/400\n",
      "13/13 [==============================] - 0s 5ms/step - loss: 1.0510 - accuracy: 0.5478 - val_loss: 1.0494 - val_accuracy: 0.5278\n",
      "Epoch 320/400\n",
      "13/13 [==============================] - 0s 5ms/step - loss: 1.0469 - accuracy: 0.5564 - val_loss: 1.0491 - val_accuracy: 0.5249\n",
      "Epoch 321/400\n",
      "13/13 [==============================] - 0s 5ms/step - loss: 1.0471 - accuracy: 0.5500 - val_loss: 1.0490 - val_accuracy: 0.5301\n",
      "Epoch 322/400\n",
      "13/13 [==============================] - 0s 6ms/step - loss: 1.0485 - accuracy: 0.5484 - val_loss: 1.0501 - val_accuracy: 0.5323\n",
      "Epoch 323/400\n",
      "13/13 [==============================] - 0s 5ms/step - loss: 1.0479 - accuracy: 0.5487 - val_loss: 1.0494 - val_accuracy: 0.5264\n",
      "Epoch 324/400\n",
      "13/13 [==============================] - 0s 6ms/step - loss: 1.0513 - accuracy: 0.5452 - val_loss: 1.0494 - val_accuracy: 0.5278\n",
      "Epoch 325/400\n",
      "13/13 [==============================] - 0s 5ms/step - loss: 1.0481 - accuracy: 0.5494 - val_loss: 1.0496 - val_accuracy: 0.5256\n",
      "Epoch 326/400\n",
      "13/13 [==============================] - 0s 6ms/step - loss: 1.0439 - accuracy: 0.5583 - val_loss: 1.0492 - val_accuracy: 0.5234\n",
      "Epoch 327/400\n",
      "13/13 [==============================] - 0s 6ms/step - loss: 1.0507 - accuracy: 0.5529 - val_loss: 1.0490 - val_accuracy: 0.5204\n",
      "Epoch 328/400\n",
      "13/13 [==============================] - 0s 6ms/step - loss: 1.0544 - accuracy: 0.5471 - val_loss: 1.0493 - val_accuracy: 0.5308\n",
      "Epoch 329/400\n",
      "13/13 [==============================] - 0s 6ms/step - loss: 1.0458 - accuracy: 0.5506 - val_loss: 1.0484 - val_accuracy: 0.5256\n",
      "Epoch 330/400\n",
      "13/13 [==============================] - 0s 6ms/step - loss: 1.0491 - accuracy: 0.5522 - val_loss: 1.0488 - val_accuracy: 0.5264\n",
      "Epoch 331/400\n",
      "13/13 [==============================] - 0s 6ms/step - loss: 1.0467 - accuracy: 0.5500 - val_loss: 1.0481 - val_accuracy: 0.5241\n",
      "Epoch 332/400\n",
      "13/13 [==============================] - 0s 6ms/step - loss: 1.0500 - accuracy: 0.5392 - val_loss: 1.0480 - val_accuracy: 0.5256\n",
      "Epoch 333/400\n",
      "13/13 [==============================] - 0s 6ms/step - loss: 1.0469 - accuracy: 0.5497 - val_loss: 1.0478 - val_accuracy: 0.5301\n",
      "Epoch 334/400\n",
      "13/13 [==============================] - 0s 5ms/step - loss: 1.0455 - accuracy: 0.5538 - val_loss: 1.0478 - val_accuracy: 0.5249\n",
      "Epoch 335/400\n",
      "13/13 [==============================] - 0s 6ms/step - loss: 1.0507 - accuracy: 0.5497 - val_loss: 1.0482 - val_accuracy: 0.5234\n",
      "Epoch 336/400\n",
      "13/13 [==============================] - 0s 5ms/step - loss: 1.0437 - accuracy: 0.5439 - val_loss: 1.0481 - val_accuracy: 0.5316\n",
      "Epoch 337/400\n",
      "13/13 [==============================] - 0s 5ms/step - loss: 1.0409 - accuracy: 0.5567 - val_loss: 1.0486 - val_accuracy: 0.5256\n",
      "Epoch 338/400\n",
      "13/13 [==============================] - 0s 5ms/step - loss: 1.0480 - accuracy: 0.5462 - val_loss: 1.0479 - val_accuracy: 0.5219\n",
      "Epoch 339/400\n",
      "13/13 [==============================] - 0s 5ms/step - loss: 1.0479 - accuracy: 0.5408 - val_loss: 1.0476 - val_accuracy: 0.5264\n",
      "Epoch 340/400\n",
      "13/13 [==============================] - 0s 5ms/step - loss: 1.0437 - accuracy: 0.5535 - val_loss: 1.0480 - val_accuracy: 0.5308\n",
      "Epoch 341/400\n",
      "13/13 [==============================] - 0s 5ms/step - loss: 1.0461 - accuracy: 0.5487 - val_loss: 1.0471 - val_accuracy: 0.5316\n",
      "Epoch 342/400\n",
      "13/13 [==============================] - 0s 5ms/step - loss: 1.0449 - accuracy: 0.5497 - val_loss: 1.0472 - val_accuracy: 0.5308\n",
      "Epoch 343/400\n",
      "13/13 [==============================] - 0s 5ms/step - loss: 1.0426 - accuracy: 0.5395 - val_loss: 1.0472 - val_accuracy: 0.5301\n",
      "Epoch 344/400\n",
      "13/13 [==============================] - 0s 6ms/step - loss: 1.0436 - accuracy: 0.5462 - val_loss: 1.0472 - val_accuracy: 0.5316\n",
      "Epoch 345/400\n",
      "13/13 [==============================] - 0s 5ms/step - loss: 1.0361 - accuracy: 0.5580 - val_loss: 1.0457 - val_accuracy: 0.5271\n",
      "Epoch 346/400\n",
      "13/13 [==============================] - 0s 6ms/step - loss: 1.0454 - accuracy: 0.5494 - val_loss: 1.0457 - val_accuracy: 0.5286\n",
      "Epoch 347/400\n",
      "13/13 [==============================] - 0s 6ms/step - loss: 1.0499 - accuracy: 0.5478 - val_loss: 1.0461 - val_accuracy: 0.5241\n",
      "Epoch 348/400\n",
      "13/13 [==============================] - 0s 6ms/step - loss: 1.0468 - accuracy: 0.5516 - val_loss: 1.0466 - val_accuracy: 0.5264\n",
      "Epoch 349/400\n",
      "13/13 [==============================] - 0s 6ms/step - loss: 1.0453 - accuracy: 0.5538 - val_loss: 1.0466 - val_accuracy: 0.5241\n",
      "Epoch 350/400\n",
      "13/13 [==============================] - 0s 6ms/step - loss: 1.0436 - accuracy: 0.5427 - val_loss: 1.0464 - val_accuracy: 0.5212\n",
      "Epoch 351/400\n",
      "13/13 [==============================] - 0s 6ms/step - loss: 1.0456 - accuracy: 0.5576 - val_loss: 1.0464 - val_accuracy: 0.5286\n",
      "Epoch 352/400\n",
      "13/13 [==============================] - 0s 5ms/step - loss: 1.0476 - accuracy: 0.5465 - val_loss: 1.0457 - val_accuracy: 0.5256\n",
      "Epoch 353/400\n",
      "13/13 [==============================] - 0s 6ms/step - loss: 1.0419 - accuracy: 0.5497 - val_loss: 1.0447 - val_accuracy: 0.5308\n",
      "Epoch 354/400\n",
      "13/13 [==============================] - 0s 6ms/step - loss: 1.0410 - accuracy: 0.5487 - val_loss: 1.0449 - val_accuracy: 0.5278\n",
      "Epoch 355/400\n",
      "13/13 [==============================] - 0s 6ms/step - loss: 1.0437 - accuracy: 0.5532 - val_loss: 1.0452 - val_accuracy: 0.5286\n",
      "Epoch 356/400\n",
      "13/13 [==============================] - 0s 6ms/step - loss: 1.0425 - accuracy: 0.5510 - val_loss: 1.0451 - val_accuracy: 0.5271\n",
      "Epoch 357/400\n",
      "13/13 [==============================] - 0s 7ms/step - loss: 1.0409 - accuracy: 0.5465 - val_loss: 1.0454 - val_accuracy: 0.5264\n",
      "Epoch 358/400\n",
      "13/13 [==============================] - 0s 5ms/step - loss: 1.0395 - accuracy: 0.5490 - val_loss: 1.0453 - val_accuracy: 0.5293\n",
      "Epoch 359/400\n",
      "13/13 [==============================] - 0s 6ms/step - loss: 1.0408 - accuracy: 0.5580 - val_loss: 1.0450 - val_accuracy: 0.5293\n",
      "Epoch 360/400\n",
      "13/13 [==============================] - 0s 6ms/step - loss: 1.0377 - accuracy: 0.5510 - val_loss: 1.0453 - val_accuracy: 0.5249\n",
      "Epoch 361/400\n",
      "13/13 [==============================] - 0s 7ms/step - loss: 1.0348 - accuracy: 0.5471 - val_loss: 1.0453 - val_accuracy: 0.5323\n",
      "Epoch 362/400\n",
      "13/13 [==============================] - 0s 6ms/step - loss: 1.0347 - accuracy: 0.5513 - val_loss: 1.0446 - val_accuracy: 0.5264\n",
      "Epoch 363/400\n",
      "13/13 [==============================] - 0s 6ms/step - loss: 1.0391 - accuracy: 0.5576 - val_loss: 1.0447 - val_accuracy: 0.5278\n",
      "Epoch 364/400\n",
      "13/13 [==============================] - 0s 6ms/step - loss: 1.0428 - accuracy: 0.5506 - val_loss: 1.0449 - val_accuracy: 0.5271\n",
      "Epoch 365/400\n",
      "13/13 [==============================] - 0s 6ms/step - loss: 1.0440 - accuracy: 0.5545 - val_loss: 1.0450 - val_accuracy: 0.5241\n",
      "Epoch 366/400\n",
      "13/13 [==============================] - 0s 6ms/step - loss: 1.0420 - accuracy: 0.5503 - val_loss: 1.0448 - val_accuracy: 0.5271\n",
      "Epoch 367/400\n",
      "13/13 [==============================] - 0s 6ms/step - loss: 1.0412 - accuracy: 0.5525 - val_loss: 1.0447 - val_accuracy: 0.5316\n",
      "Epoch 368/400\n",
      "13/13 [==============================] - 0s 6ms/step - loss: 1.0459 - accuracy: 0.5449 - val_loss: 1.0445 - val_accuracy: 0.5286\n",
      "Epoch 369/400\n",
      "13/13 [==============================] - 0s 6ms/step - loss: 1.0387 - accuracy: 0.5471 - val_loss: 1.0443 - val_accuracy: 0.5278\n",
      "Epoch 370/400\n",
      "13/13 [==============================] - 0s 6ms/step - loss: 1.0376 - accuracy: 0.5487 - val_loss: 1.0449 - val_accuracy: 0.5323\n",
      "Epoch 371/400\n",
      "13/13 [==============================] - 0s 5ms/step - loss: 1.0415 - accuracy: 0.5443 - val_loss: 1.0442 - val_accuracy: 0.5271\n",
      "Epoch 372/400\n",
      "13/13 [==============================] - 0s 6ms/step - loss: 1.0355 - accuracy: 0.5548 - val_loss: 1.0446 - val_accuracy: 0.5278\n",
      "Epoch 373/400\n",
      "13/13 [==============================] - 0s 5ms/step - loss: 1.0359 - accuracy: 0.5487 - val_loss: 1.0440 - val_accuracy: 0.5271\n",
      "Epoch 374/400\n",
      "13/13 [==============================] - 0s 6ms/step - loss: 1.0383 - accuracy: 0.5506 - val_loss: 1.0441 - val_accuracy: 0.5293\n",
      "Epoch 375/400\n",
      "13/13 [==============================] - 0s 6ms/step - loss: 1.0405 - accuracy: 0.5487 - val_loss: 1.0440 - val_accuracy: 0.5301\n",
      "Epoch 376/400\n",
      "13/13 [==============================] - 0s 5ms/step - loss: 1.0367 - accuracy: 0.5500 - val_loss: 1.0444 - val_accuracy: 0.5278\n",
      "Epoch 377/400\n",
      "13/13 [==============================] - 0s 6ms/step - loss: 1.0464 - accuracy: 0.5471 - val_loss: 1.0446 - val_accuracy: 0.5271\n",
      "Epoch 378/400\n",
      "13/13 [==============================] - 0s 6ms/step - loss: 1.0422 - accuracy: 0.5382 - val_loss: 1.0442 - val_accuracy: 0.5293\n",
      "Epoch 379/400\n",
      "13/13 [==============================] - 0s 6ms/step - loss: 1.0427 - accuracy: 0.5417 - val_loss: 1.0438 - val_accuracy: 0.5286\n",
      "Epoch 380/400\n",
      "13/13 [==============================] - 0s 5ms/step - loss: 1.0402 - accuracy: 0.5564 - val_loss: 1.0441 - val_accuracy: 0.5308\n",
      "Epoch 381/400\n",
      "13/13 [==============================] - 0s 5ms/step - loss: 1.0363 - accuracy: 0.5497 - val_loss: 1.0438 - val_accuracy: 0.5271\n",
      "Epoch 382/400\n",
      "13/13 [==============================] - 0s 5ms/step - loss: 1.0450 - accuracy: 0.5529 - val_loss: 1.0444 - val_accuracy: 0.5286\n",
      "Epoch 383/400\n",
      "13/13 [==============================] - 0s 5ms/step - loss: 1.0360 - accuracy: 0.5576 - val_loss: 1.0449 - val_accuracy: 0.5360\n",
      "Epoch 384/400\n",
      "13/13 [==============================] - 0s 6ms/step - loss: 1.0401 - accuracy: 0.5446 - val_loss: 1.0438 - val_accuracy: 0.5338\n",
      "Epoch 385/400\n",
      "13/13 [==============================] - 0s 6ms/step - loss: 1.0480 - accuracy: 0.5404 - val_loss: 1.0449 - val_accuracy: 0.5360\n",
      "Epoch 386/400\n",
      "13/13 [==============================] - 0s 6ms/step - loss: 1.0442 - accuracy: 0.5497 - val_loss: 1.0436 - val_accuracy: 0.5286\n",
      "Epoch 387/400\n",
      "13/13 [==============================] - 0s 5ms/step - loss: 1.0364 - accuracy: 0.5494 - val_loss: 1.0438 - val_accuracy: 0.5316\n",
      "Epoch 388/400\n",
      "13/13 [==============================] - 0s 5ms/step - loss: 1.0383 - accuracy: 0.5592 - val_loss: 1.0443 - val_accuracy: 0.5278\n",
      "Epoch 389/400\n",
      "13/13 [==============================] - 0s 5ms/step - loss: 1.0449 - accuracy: 0.5446 - val_loss: 1.0438 - val_accuracy: 0.5367\n",
      "Epoch 390/400\n",
      "13/13 [==============================] - 0s 6ms/step - loss: 1.0404 - accuracy: 0.5516 - val_loss: 1.0428 - val_accuracy: 0.5338\n",
      "Epoch 391/400\n",
      "13/13 [==============================] - 0s 6ms/step - loss: 1.0432 - accuracy: 0.5541 - val_loss: 1.0434 - val_accuracy: 0.5301\n",
      "Epoch 392/400\n",
      "13/13 [==============================] - 0s 5ms/step - loss: 1.0360 - accuracy: 0.5519 - val_loss: 1.0435 - val_accuracy: 0.5301\n",
      "Epoch 393/400\n",
      "13/13 [==============================] - 0s 7ms/step - loss: 1.0345 - accuracy: 0.5459 - val_loss: 1.0435 - val_accuracy: 0.5308\n",
      "Epoch 394/400\n",
      "13/13 [==============================] - 0s 6ms/step - loss: 1.0368 - accuracy: 0.5525 - val_loss: 1.0435 - val_accuracy: 0.5308\n",
      "Epoch 395/400\n",
      "13/13 [==============================] - 0s 6ms/step - loss: 1.0321 - accuracy: 0.5605 - val_loss: 1.0429 - val_accuracy: 0.5301\n",
      "Epoch 396/400\n",
      "13/13 [==============================] - 0s 6ms/step - loss: 1.0346 - accuracy: 0.5487 - val_loss: 1.0437 - val_accuracy: 0.5323\n",
      "Epoch 397/400\n",
      "13/13 [==============================] - 0s 6ms/step - loss: 1.0346 - accuracy: 0.5525 - val_loss: 1.0437 - val_accuracy: 0.5353\n",
      "Epoch 398/400\n",
      "13/13 [==============================] - 0s 6ms/step - loss: 1.0348 - accuracy: 0.5605 - val_loss: 1.0439 - val_accuracy: 0.5338\n",
      "Epoch 399/400\n",
      "13/13 [==============================] - 0s 7ms/step - loss: 1.0407 - accuracy: 0.5465 - val_loss: 1.0441 - val_accuracy: 0.5382\n",
      "Epoch 400/400\n",
      "13/13 [==============================] - 0s 6ms/step - loss: 1.0363 - accuracy: 0.5513 - val_loss: 1.0428 - val_accuracy: 0.5330\n"
     ]
    },
    {
     "data": {
      "text/plain": [
       "<keras.callbacks.History at 0x7f7d285fd810>"
      ]
     },
     "execution_count": 51,
     "metadata": {},
     "output_type": "execute_result"
    }
   ],
   "source": [
    "model.fit(x=X_train, \n",
    "          y=y_train,\n",
    "          epochs=400,\n",
    "          validation_data=(X_test, y_test),\n",
    "          batch_size = 256,\n",
    "          callbacks=[early_stop]\n",
    "          )"
   ]
  },
  {
   "cell_type": "code",
   "execution_count": 52,
   "id": "ae8c9011",
   "metadata": {
    "execution": {
     "iopub.execute_input": "2023-03-24T17:52:13.228368Z",
     "iopub.status.busy": "2023-03-24T17:52:13.227086Z",
     "iopub.status.idle": "2023-03-24T17:52:13.234422Z",
     "shell.execute_reply": "2023-03-24T17:52:13.233498Z"
    },
    "papermill": {
     "duration": 0.135479,
     "end_time": "2023-03-24T17:52:13.236865",
     "exception": false,
     "start_time": "2023-03-24T17:52:13.101386",
     "status": "completed"
    },
    "tags": []
   },
   "outputs": [],
   "source": [
    "model_loss_do = pd.DataFrame(model.history.history)"
   ]
  },
  {
   "cell_type": "code",
   "execution_count": 53,
   "id": "38ca2868",
   "metadata": {
    "execution": {
     "iopub.execute_input": "2023-03-24T17:52:13.457939Z",
     "iopub.status.busy": "2023-03-24T17:52:13.456682Z",
     "iopub.status.idle": "2023-03-24T17:52:13.877345Z",
     "shell.execute_reply": "2023-03-24T17:52:13.876030Z"
    },
    "papermill": {
     "duration": 0.535371,
     "end_time": "2023-03-24T17:52:13.880299",
     "exception": false,
     "start_time": "2023-03-24T17:52:13.344928",
     "status": "completed"
    },
    "tags": []
   },
   "outputs": [
    {
     "data": {
      "text/plain": [
       "<AxesSubplot:>"
      ]
     },
     "execution_count": 53,
     "metadata": {},
     "output_type": "execute_result"
    },
    {
     "data": {
      "image/png": "[encoded data removed]",
      "text/plain": [
       "<Figure size 1200x600 with 1 Axes>"
      ]
     },
     "metadata": {},
     "output_type": "display_data"
    }
   ],
   "source": [
    "model_loss_do.plot(figsize=(12,6))"
   ]
  },
  {
   "cell_type": "markdown",
   "id": "9f358404",
   "metadata": {
    "papermill": {
     "duration": 0.105602,
     "end_time": "2023-03-24T17:52:14.092353",
     "exception": false,
     "start_time": "2023-03-24T17:52:13.986751",
     "status": "completed"
    },
    "tags": []
   },
   "source": [
    "Not great, accuracy of 55%. That's is not a good one and lower than the random forest."
   ]
  },
  {
   "cell_type": "code",
   "execution_count": 54,
   "id": "48723f69",
   "metadata": {
    "execution": {
     "iopub.execute_input": "2023-03-24T17:52:14.308436Z",
     "iopub.status.busy": "2023-03-24T17:52:14.307992Z",
     "iopub.status.idle": "2023-03-24T17:52:14.553604Z",
     "shell.execute_reply": "2023-03-24T17:52:14.552210Z"
    },
    "papermill": {
     "duration": 0.3576,
     "end_time": "2023-03-24T17:52:14.556528",
     "exception": false,
     "start_time": "2023-03-24T17:52:14.198928",
     "status": "completed"
    },
    "tags": []
   },
   "outputs": [
    {
     "name": "stdout",
     "output_type": "stream",
     "text": [
      "43/43 [==============================] - 0s 1ms/step\n"
     ]
    }
   ],
   "source": [
    "pred_DO_White = (model.predict(X_test))"
   ]
  },
  {
   "cell_type": "code",
   "execution_count": 55,
   "id": "34fa0aeb",
   "metadata": {
    "execution": {
     "iopub.execute_input": "2023-03-24T17:52:14.772392Z",
     "iopub.status.busy": "2023-03-24T17:52:14.771320Z",
     "iopub.status.idle": "2023-03-24T17:52:14.778788Z",
     "shell.execute_reply": "2023-03-24T17:52:14.777952Z"
    },
    "papermill": {
     "duration": 0.117621,
     "end_time": "2023-03-24T17:52:14.781029",
     "exception": false,
     "start_time": "2023-03-24T17:52:14.663408",
     "status": "completed"
    },
    "scrolled": true,
    "tags": []
   },
   "outputs": [
    {
     "data": {
      "text/plain": [
       "array([[0.0034633 , 0.03604581, 0.397438  , 0.444296  , 0.1187569 ],\n",
       "       [0.00137474, 0.03300305, 0.44307777, 0.43091148, 0.09163306],\n",
       "       [0.00438305, 0.0522723 , 0.44099376, 0.4110414 , 0.09130947],\n",
       "       ...,\n",
       "       [0.01916268, 0.24407648, 0.5591517 , 0.15673745, 0.02087178],\n",
       "       [0.0094021 , 0.23166844, 0.5475744 , 0.18066885, 0.03068619],\n",
       "       [0.00102891, 0.01422342, 0.34411567, 0.524475  , 0.11615704]],\n",
       "      dtype=float32)"
      ]
     },
     "execution_count": 55,
     "metadata": {},
     "output_type": "execute_result"
    }
   ],
   "source": [
    "pred_DO_White"
   ]
  },
  {
   "cell_type": "code",
   "execution_count": 56,
   "id": "4be1c9be",
   "metadata": {
    "execution": {
     "iopub.execute_input": "2023-03-24T17:52:15.074976Z",
     "iopub.status.busy": "2023-03-24T17:52:15.073649Z",
     "iopub.status.idle": "2023-03-24T17:52:15.079103Z",
     "shell.execute_reply": "2023-03-24T17:52:15.078113Z"
    },
    "papermill": {
     "duration": 0.19194,
     "end_time": "2023-03-24T17:52:15.081618",
     "exception": false,
     "start_time": "2023-03-24T17:52:14.889678",
     "status": "completed"
    },
    "tags": []
   },
   "outputs": [],
   "source": [
    "from keras.wrappers.scikit_learn import KerasClassifier\n",
    "from sklearn.model_selection import cross_val_score"
   ]
  },
  {
   "cell_type": "code",
   "execution_count": 57,
   "id": "2b2fde5d",
   "metadata": {
    "execution": {
     "iopub.execute_input": "2023-03-24T17:52:15.300613Z",
     "iopub.status.busy": "2023-03-24T17:52:15.299445Z",
     "iopub.status.idle": "2023-03-24T17:52:15.510282Z",
     "shell.execute_reply": "2023-03-24T17:52:15.509130Z"
    },
    "papermill": {
     "duration": 0.323278,
     "end_time": "2023-03-24T17:52:15.512925",
     "exception": false,
     "start_time": "2023-03-24T17:52:15.189647",
     "status": "completed"
    },
    "tags": []
   },
   "outputs": [],
   "source": [
    "score = model.evaluate(X_train, y_train, verbose=0)"
   ]
  },
  {
   "cell_type": "code",
   "execution_count": 58,
   "id": "080d838e",
   "metadata": {
    "execution": {
     "iopub.execute_input": "2023-03-24T17:52:15.732344Z",
     "iopub.status.busy": "2023-03-24T17:52:15.731247Z",
     "iopub.status.idle": "2023-03-24T17:52:15.863495Z",
     "shell.execute_reply": "2023-03-24T17:52:15.862326Z"
    },
    "papermill": {
     "duration": 0.245157,
     "end_time": "2023-03-24T17:52:15.866310",
     "exception": false,
     "start_time": "2023-03-24T17:52:15.621153",
     "status": "completed"
    },
    "tags": []
   },
   "outputs": [],
   "source": [
    "score2 = model.evaluate(X_test, y_test, verbose=0)"
   ]
  },
  {
   "cell_type": "code",
   "execution_count": 59,
   "id": "df9c21af",
   "metadata": {
    "execution": {
     "iopub.execute_input": "2023-03-24T17:52:16.091462Z",
     "iopub.status.busy": "2023-03-24T17:52:16.090235Z",
     "iopub.status.idle": "2023-03-24T17:52:16.096828Z",
     "shell.execute_reply": "2023-03-24T17:52:16.095424Z"
    },
    "papermill": {
     "duration": 0.121355,
     "end_time": "2023-03-24T17:52:16.099938",
     "exception": false,
     "start_time": "2023-03-24T17:52:15.978583",
     "status": "completed"
    },
    "scrolled": true,
    "tags": []
   },
   "outputs": [
    {
     "name": "stdout",
     "output_type": "stream",
     "text": [
      "0.5640127658843994 0.4359872341156006\n"
     ]
    }
   ],
   "source": [
    "print('{} {}'.format(score[1], 1 - score[1]))"
   ]
  },
  {
   "cell_type": "code",
   "execution_count": 60,
   "id": "1185e1f7",
   "metadata": {
    "execution": {
     "iopub.execute_input": "2023-03-24T17:52:16.320410Z",
     "iopub.status.busy": "2023-03-24T17:52:16.319995Z",
     "iopub.status.idle": "2023-03-24T17:52:16.325760Z",
     "shell.execute_reply": "2023-03-24T17:52:16.324545Z"
    },
    "papermill": {
     "duration": 0.119173,
     "end_time": "2023-03-24T17:52:16.329162",
     "exception": false,
     "start_time": "2023-03-24T17:52:16.209989",
     "status": "completed"
    },
    "tags": []
   },
   "outputs": [
    {
     "name": "stdout",
     "output_type": "stream",
     "text": [
      "0.5330363512039185 0.46696364879608154\n"
     ]
    }
   ],
   "source": [
    "print('{} {}'.format(score2[1], 1 - score2[1]))"
   ]
  },
  {
   "cell_type": "markdown",
   "id": "5bce8c87",
   "metadata": {
    "papermill": {
     "duration": 0.108143,
     "end_time": "2023-03-24T17:52:16.545455",
     "exception": false,
     "start_time": "2023-03-24T17:52:16.437312",
     "status": "completed"
    },
    "tags": []
   },
   "source": [
    "## Red"
   ]
  },
  {
   "cell_type": "code",
   "execution_count": 61,
   "id": "b5f2325e",
   "metadata": {
    "execution": {
     "iopub.execute_input": "2023-03-24T17:52:16.762963Z",
     "iopub.status.busy": "2023-03-24T17:52:16.762527Z",
     "iopub.status.idle": "2023-03-24T17:52:16.787786Z",
     "shell.execute_reply": "2023-03-24T17:52:16.786353Z"
    },
    "papermill": {
     "duration": 0.137191,
     "end_time": "2023-03-24T17:52:16.790861",
     "exception": false,
     "start_time": "2023-03-24T17:52:16.653670",
     "status": "completed"
    },
    "tags": []
   },
   "outputs": [
    {
     "data": {
      "text/html": [
       "<div>\n",
       "<style scoped>\n",
       "    .dataframe tbody tr th:only-of-type {\n",
       "        vertical-align: middle;\n",
       "    }\n",
       "\n",
       "    .dataframe tbody tr th {\n",
       "        vertical-align: top;\n",
       "    }\n",
       "\n",
       "    .dataframe thead th {\n",
       "        text-align: right;\n",
       "    }\n",
       "</style>\n",
       "<table border=\"1\" class=\"dataframe\">\n",
       "  <thead>\n",
       "    <tr style=\"text-align: right;\">\n",
       "      <th></th>\n",
       "      <th>fixed acidity</th>\n",
       "      <th>volatile acidity</th>\n",
       "      <th>citric acid</th>\n",
       "      <th>residual sugar</th>\n",
       "      <th>chlorides</th>\n",
       "      <th>free sulfur dioxide</th>\n",
       "      <th>total sulfur dioxide</th>\n",
       "      <th>density</th>\n",
       "      <th>pH</th>\n",
       "      <th>sulphates</th>\n",
       "      <th>alcohol</th>\n",
       "      <th>quality</th>\n",
       "      <th>4</th>\n",
       "      <th>5</th>\n",
       "      <th>6</th>\n",
       "      <th>7</th>\n",
       "      <th>8</th>\n",
       "    </tr>\n",
       "  </thead>\n",
       "  <tbody>\n",
       "    <tr>\n",
       "      <th>0</th>\n",
       "      <td>7.4</td>\n",
       "      <td>0.70</td>\n",
       "      <td>0.00</td>\n",
       "      <td>1.9</td>\n",
       "      <td>0.076</td>\n",
       "      <td>11.0</td>\n",
       "      <td>34.0</td>\n",
       "      <td>0.9978</td>\n",
       "      <td>3.51</td>\n",
       "      <td>0.56</td>\n",
       "      <td>9.4</td>\n",
       "      <td>5</td>\n",
       "      <td>0</td>\n",
       "      <td>1</td>\n",
       "      <td>0</td>\n",
       "      <td>0</td>\n",
       "      <td>0</td>\n",
       "    </tr>\n",
       "    <tr>\n",
       "      <th>1</th>\n",
       "      <td>7.8</td>\n",
       "      <td>0.88</td>\n",
       "      <td>0.00</td>\n",
       "      <td>2.6</td>\n",
       "      <td>0.098</td>\n",
       "      <td>25.0</td>\n",
       "      <td>67.0</td>\n",
       "      <td>0.9968</td>\n",
       "      <td>3.20</td>\n",
       "      <td>0.68</td>\n",
       "      <td>9.8</td>\n",
       "      <td>5</td>\n",
       "      <td>0</td>\n",
       "      <td>1</td>\n",
       "      <td>0</td>\n",
       "      <td>0</td>\n",
       "      <td>0</td>\n",
       "    </tr>\n",
       "    <tr>\n",
       "      <th>2</th>\n",
       "      <td>7.8</td>\n",
       "      <td>0.76</td>\n",
       "      <td>0.04</td>\n",
       "      <td>2.3</td>\n",
       "      <td>0.092</td>\n",
       "      <td>15.0</td>\n",
       "      <td>54.0</td>\n",
       "      <td>0.9970</td>\n",
       "      <td>3.26</td>\n",
       "      <td>0.65</td>\n",
       "      <td>9.8</td>\n",
       "      <td>5</td>\n",
       "      <td>0</td>\n",
       "      <td>1</td>\n",
       "      <td>0</td>\n",
       "      <td>0</td>\n",
       "      <td>0</td>\n",
       "    </tr>\n",
       "    <tr>\n",
       "      <th>3</th>\n",
       "      <td>11.2</td>\n",
       "      <td>0.28</td>\n",
       "      <td>0.56</td>\n",
       "      <td>1.9</td>\n",
       "      <td>0.075</td>\n",
       "      <td>17.0</td>\n",
       "      <td>60.0</td>\n",
       "      <td>0.9980</td>\n",
       "      <td>3.16</td>\n",
       "      <td>0.58</td>\n",
       "      <td>9.8</td>\n",
       "      <td>6</td>\n",
       "      <td>0</td>\n",
       "      <td>0</td>\n",
       "      <td>1</td>\n",
       "      <td>0</td>\n",
       "      <td>0</td>\n",
       "    </tr>\n",
       "    <tr>\n",
       "      <th>4</th>\n",
       "      <td>7.4</td>\n",
       "      <td>0.70</td>\n",
       "      <td>0.00</td>\n",
       "      <td>1.9</td>\n",
       "      <td>0.076</td>\n",
       "      <td>11.0</td>\n",
       "      <td>34.0</td>\n",
       "      <td>0.9978</td>\n",
       "      <td>3.51</td>\n",
       "      <td>0.56</td>\n",
       "      <td>9.4</td>\n",
       "      <td>5</td>\n",
       "      <td>0</td>\n",
       "      <td>1</td>\n",
       "      <td>0</td>\n",
       "      <td>0</td>\n",
       "      <td>0</td>\n",
       "    </tr>\n",
       "  </tbody>\n",
       "</table>\n",
       "</div>"
      ],
      "text/plain": [
       "   fixed acidity  volatile acidity  citric acid  residual sugar  chlorides  \\\n",
       "0            7.4              0.70         0.00             1.9      0.076   \n",
       "1            7.8              0.88         0.00             2.6      0.098   \n",
       "2            7.8              0.76         0.04             2.3      0.092   \n",
       "3           11.2              0.28         0.56             1.9      0.075   \n",
       "4            7.4              0.70         0.00             1.9      0.076   \n",
       "\n",
       "   free sulfur dioxide  total sulfur dioxide  density    pH  sulphates  \\\n",
       "0                 11.0                  34.0   0.9978  3.51       0.56   \n",
       "1                 25.0                  67.0   0.9968  3.20       0.68   \n",
       "2                 15.0                  54.0   0.9970  3.26       0.65   \n",
       "3                 17.0                  60.0   0.9980  3.16       0.58   \n",
       "4                 11.0                  34.0   0.9978  3.51       0.56   \n",
       "\n",
       "   alcohol  quality  4  5  6  7  8  \n",
       "0      9.4        5  0  1  0  0  0  \n",
       "1      9.8        5  0  1  0  0  0  \n",
       "2      9.8        5  0  1  0  0  0  \n",
       "3      9.8        6  0  0  1  0  0  \n",
       "4      9.4        5  0  1  0  0  0  "
      ]
     },
     "execution_count": 61,
     "metadata": {},
     "output_type": "execute_result"
    }
   ],
   "source": [
    "dummy_Red = pd.get_dummies(df_Red['quality'], drop_first=False)\n",
    "\n",
    "df_Red = pd.concat([df_Red, dummy_Red], axis=1)\n",
    "\n",
    "df_Red.head()"
   ]
  },
  {
   "cell_type": "code",
   "execution_count": 62,
   "id": "22cb5801",
   "metadata": {
    "execution": {
     "iopub.execute_input": "2023-03-24T17:52:17.012989Z",
     "iopub.status.busy": "2023-03-24T17:52:17.012498Z",
     "iopub.status.idle": "2023-03-24T17:52:17.020314Z",
     "shell.execute_reply": "2023-03-24T17:52:17.019175Z"
    },
    "papermill": {
     "duration": 0.122674,
     "end_time": "2023-03-24T17:52:17.022643",
     "exception": false,
     "start_time": "2023-03-24T17:52:16.899969",
     "status": "completed"
    },
    "tags": []
   },
   "outputs": [
    {
     "data": {
      "text/plain": [
       "5"
      ]
     },
     "execution_count": 62,
     "metadata": {},
     "output_type": "execute_result"
    }
   ],
   "source": [
    "ys_r = df_Red['quality'].nunique()\n",
    "ys_r"
   ]
  },
  {
   "cell_type": "code",
   "execution_count": 63,
   "id": "afc1b8ea",
   "metadata": {
    "execution": {
     "iopub.execute_input": "2023-03-24T17:52:17.243762Z",
     "iopub.status.busy": "2023-03-24T17:52:17.242578Z",
     "iopub.status.idle": "2023-03-24T17:52:17.271284Z",
     "shell.execute_reply": "2023-03-24T17:52:17.270047Z"
    },
    "papermill": {
     "duration": 0.142875,
     "end_time": "2023-03-24T17:52:17.273892",
     "exception": false,
     "start_time": "2023-03-24T17:52:17.131017",
     "status": "completed"
    },
    "tags": []
   },
   "outputs": [
    {
     "data": {
      "text/html": [
       "<div>\n",
       "<style scoped>\n",
       "    .dataframe tbody tr th:only-of-type {\n",
       "        vertical-align: middle;\n",
       "    }\n",
       "\n",
       "    .dataframe tbody tr th {\n",
       "        vertical-align: top;\n",
       "    }\n",
       "\n",
       "    .dataframe thead th {\n",
       "        text-align: right;\n",
       "    }\n",
       "</style>\n",
       "<table border=\"1\" class=\"dataframe\">\n",
       "  <thead>\n",
       "    <tr style=\"text-align: right;\">\n",
       "      <th></th>\n",
       "      <th>fixed acidity</th>\n",
       "      <th>volatile acidity</th>\n",
       "      <th>citric acid</th>\n",
       "      <th>residual sugar</th>\n",
       "      <th>chlorides</th>\n",
       "      <th>free sulfur dioxide</th>\n",
       "      <th>total sulfur dioxide</th>\n",
       "      <th>density</th>\n",
       "      <th>pH</th>\n",
       "      <th>sulphates</th>\n",
       "      <th>alcohol</th>\n",
       "    </tr>\n",
       "  </thead>\n",
       "  <tbody>\n",
       "    <tr>\n",
       "      <th>0</th>\n",
       "      <td>7.4</td>\n",
       "      <td>0.700</td>\n",
       "      <td>0.00</td>\n",
       "      <td>1.9</td>\n",
       "      <td>0.076</td>\n",
       "      <td>11.0</td>\n",
       "      <td>34.0</td>\n",
       "      <td>0.99780</td>\n",
       "      <td>3.51</td>\n",
       "      <td>0.56</td>\n",
       "      <td>9.4</td>\n",
       "    </tr>\n",
       "    <tr>\n",
       "      <th>1</th>\n",
       "      <td>7.8</td>\n",
       "      <td>0.880</td>\n",
       "      <td>0.00</td>\n",
       "      <td>2.6</td>\n",
       "      <td>0.098</td>\n",
       "      <td>25.0</td>\n",
       "      <td>67.0</td>\n",
       "      <td>0.99680</td>\n",
       "      <td>3.20</td>\n",
       "      <td>0.68</td>\n",
       "      <td>9.8</td>\n",
       "    </tr>\n",
       "    <tr>\n",
       "      <th>2</th>\n",
       "      <td>7.8</td>\n",
       "      <td>0.760</td>\n",
       "      <td>0.04</td>\n",
       "      <td>2.3</td>\n",
       "      <td>0.092</td>\n",
       "      <td>15.0</td>\n",
       "      <td>54.0</td>\n",
       "      <td>0.99700</td>\n",
       "      <td>3.26</td>\n",
       "      <td>0.65</td>\n",
       "      <td>9.8</td>\n",
       "    </tr>\n",
       "    <tr>\n",
       "      <th>3</th>\n",
       "      <td>11.2</td>\n",
       "      <td>0.280</td>\n",
       "      <td>0.56</td>\n",
       "      <td>1.9</td>\n",
       "      <td>0.075</td>\n",
       "      <td>17.0</td>\n",
       "      <td>60.0</td>\n",
       "      <td>0.99800</td>\n",
       "      <td>3.16</td>\n",
       "      <td>0.58</td>\n",
       "      <td>9.8</td>\n",
       "    </tr>\n",
       "    <tr>\n",
       "      <th>4</th>\n",
       "      <td>7.4</td>\n",
       "      <td>0.700</td>\n",
       "      <td>0.00</td>\n",
       "      <td>1.9</td>\n",
       "      <td>0.076</td>\n",
       "      <td>11.0</td>\n",
       "      <td>34.0</td>\n",
       "      <td>0.99780</td>\n",
       "      <td>3.51</td>\n",
       "      <td>0.56</td>\n",
       "      <td>9.4</td>\n",
       "    </tr>\n",
       "    <tr>\n",
       "      <th>...</th>\n",
       "      <td>...</td>\n",
       "      <td>...</td>\n",
       "      <td>...</td>\n",
       "      <td>...</td>\n",
       "      <td>...</td>\n",
       "      <td>...</td>\n",
       "      <td>...</td>\n",
       "      <td>...</td>\n",
       "      <td>...</td>\n",
       "      <td>...</td>\n",
       "      <td>...</td>\n",
       "    </tr>\n",
       "    <tr>\n",
       "      <th>1594</th>\n",
       "      <td>6.2</td>\n",
       "      <td>0.600</td>\n",
       "      <td>0.08</td>\n",
       "      <td>2.0</td>\n",
       "      <td>0.090</td>\n",
       "      <td>32.0</td>\n",
       "      <td>44.0</td>\n",
       "      <td>0.99490</td>\n",
       "      <td>3.45</td>\n",
       "      <td>0.58</td>\n",
       "      <td>10.5</td>\n",
       "    </tr>\n",
       "    <tr>\n",
       "      <th>1595</th>\n",
       "      <td>5.9</td>\n",
       "      <td>0.550</td>\n",
       "      <td>0.10</td>\n",
       "      <td>2.2</td>\n",
       "      <td>0.062</td>\n",
       "      <td>39.0</td>\n",
       "      <td>51.0</td>\n",
       "      <td>0.99512</td>\n",
       "      <td>3.52</td>\n",
       "      <td>0.76</td>\n",
       "      <td>11.2</td>\n",
       "    </tr>\n",
       "    <tr>\n",
       "      <th>1596</th>\n",
       "      <td>6.3</td>\n",
       "      <td>0.510</td>\n",
       "      <td>0.13</td>\n",
       "      <td>2.3</td>\n",
       "      <td>0.076</td>\n",
       "      <td>29.0</td>\n",
       "      <td>40.0</td>\n",
       "      <td>0.99574</td>\n",
       "      <td>3.42</td>\n",
       "      <td>0.75</td>\n",
       "      <td>11.0</td>\n",
       "    </tr>\n",
       "    <tr>\n",
       "      <th>1597</th>\n",
       "      <td>5.9</td>\n",
       "      <td>0.645</td>\n",
       "      <td>0.12</td>\n",
       "      <td>2.0</td>\n",
       "      <td>0.075</td>\n",
       "      <td>32.0</td>\n",
       "      <td>44.0</td>\n",
       "      <td>0.99547</td>\n",
       "      <td>3.57</td>\n",
       "      <td>0.71</td>\n",
       "      <td>10.2</td>\n",
       "    </tr>\n",
       "    <tr>\n",
       "      <th>1598</th>\n",
       "      <td>6.0</td>\n",
       "      <td>0.310</td>\n",
       "      <td>0.47</td>\n",
       "      <td>3.6</td>\n",
       "      <td>0.067</td>\n",
       "      <td>18.0</td>\n",
       "      <td>42.0</td>\n",
       "      <td>0.99549</td>\n",
       "      <td>3.39</td>\n",
       "      <td>0.66</td>\n",
       "      <td>11.0</td>\n",
       "    </tr>\n",
       "  </tbody>\n",
       "</table>\n",
       "<p>1451 rows × 11 columns</p>\n",
       "</div>"
      ],
      "text/plain": [
       "      fixed acidity  volatile acidity  citric acid  residual sugar  chlorides  \\\n",
       "0               7.4             0.700         0.00             1.9      0.076   \n",
       "1               7.8             0.880         0.00             2.6      0.098   \n",
       "2               7.8             0.760         0.04             2.3      0.092   \n",
       "3              11.2             0.280         0.56             1.9      0.075   \n",
       "4               7.4             0.700         0.00             1.9      0.076   \n",
       "...             ...               ...          ...             ...        ...   \n",
       "1594            6.2             0.600         0.08             2.0      0.090   \n",
       "1595            5.9             0.550         0.10             2.2      0.062   \n",
       "1596            6.3             0.510         0.13             2.3      0.076   \n",
       "1597            5.9             0.645         0.12             2.0      0.075   \n",
       "1598            6.0             0.310         0.47             3.6      0.067   \n",
       "\n",
       "      free sulfur dioxide  total sulfur dioxide  density    pH  sulphates  \\\n",
       "0                    11.0                  34.0  0.99780  3.51       0.56   \n",
       "1                    25.0                  67.0  0.99680  3.20       0.68   \n",
       "2                    15.0                  54.0  0.99700  3.26       0.65   \n",
       "3                    17.0                  60.0  0.99800  3.16       0.58   \n",
       "4                    11.0                  34.0  0.99780  3.51       0.56   \n",
       "...                   ...                   ...      ...   ...        ...   \n",
       "1594                 32.0                  44.0  0.99490  3.45       0.58   \n",
       "1595                 39.0                  51.0  0.99512  3.52       0.76   \n",
       "1596                 29.0                  40.0  0.99574  3.42       0.75   \n",
       "1597                 32.0                  44.0  0.99547  3.57       0.71   \n",
       "1598                 18.0                  42.0  0.99549  3.39       0.66   \n",
       "\n",
       "      alcohol  \n",
       "0         9.4  \n",
       "1         9.8  \n",
       "2         9.8  \n",
       "3         9.8  \n",
       "4         9.4  \n",
       "...       ...  \n",
       "1594     10.5  \n",
       "1595     11.2  \n",
       "1596     11.0  \n",
       "1597     10.2  \n",
       "1598     11.0  \n",
       "\n",
       "[1451 rows x 11 columns]"
      ]
     },
     "execution_count": 63,
     "metadata": {},
     "output_type": "execute_result"
    }
   ],
   "source": [
    "quality_r = df_Red['quality']\n",
    "\n",
    "df_Red.drop(['quality'], axis=1, inplace=True)\n",
    "\n",
    "df_Red.drop(df_Red.iloc[:,-ys_r:], axis=1)"
   ]
  },
  {
   "cell_type": "code",
   "execution_count": 64,
   "id": "acf824ac",
   "metadata": {
    "execution": {
     "iopub.execute_input": "2023-03-24T17:52:17.498878Z",
     "iopub.status.busy": "2023-03-24T17:52:17.498403Z",
     "iopub.status.idle": "2023-03-24T17:52:17.508991Z",
     "shell.execute_reply": "2023-03-24T17:52:17.507643Z"
    },
    "papermill": {
     "duration": 0.12766,
     "end_time": "2023-03-24T17:52:17.512043",
     "exception": false,
     "start_time": "2023-03-24T17:52:17.384383",
     "status": "completed"
    },
    "tags": []
   },
   "outputs": [],
   "source": [
    "X = df_Red.drop(df_Red.iloc[:,-ys_r:], axis=1).values\n",
    "y = df_Red.iloc[:,-ys_r:].values\n",
    "\n",
    "X_train, X_test, y_train, y_test = train_test_split(X, y, test_size=0.30, random_state=42)\n",
    "\n",
    "X_train = scaler.fit_transform(X_train)"
   ]
  },
  {
   "cell_type": "code",
   "execution_count": 65,
   "id": "a13716b4",
   "metadata": {
    "execution": {
     "iopub.execute_input": "2023-03-24T17:52:17.736740Z",
     "iopub.status.busy": "2023-03-24T17:52:17.736333Z",
     "iopub.status.idle": "2023-03-24T17:52:17.743448Z",
     "shell.execute_reply": "2023-03-24T17:52:17.742570Z"
    },
    "papermill": {
     "duration": 0.121912,
     "end_time": "2023-03-24T17:52:17.745539",
     "exception": false,
     "start_time": "2023-03-24T17:52:17.623627",
     "status": "completed"
    },
    "tags": []
   },
   "outputs": [
    {
     "data": {
      "text/plain": [
       "6"
      ]
     },
     "execution_count": 65,
     "metadata": {},
     "output_type": "execute_result"
    }
   ],
   "source": [
    "np.round(X_train.shape[1]/2).astype('int32')"
   ]
  },
  {
   "cell_type": "code",
   "execution_count": 66,
   "id": "467ad39d",
   "metadata": {
    "execution": {
     "iopub.execute_input": "2023-03-24T17:52:17.970443Z",
     "iopub.status.busy": "2023-03-24T17:52:17.969361Z",
     "iopub.status.idle": "2023-03-24T17:52:17.976271Z",
     "shell.execute_reply": "2023-03-24T17:52:17.975029Z"
    },
    "papermill": {
     "duration": 0.121759,
     "end_time": "2023-03-24T17:52:17.978808",
     "exception": false,
     "start_time": "2023-03-24T17:52:17.857049",
     "status": "completed"
    },
    "tags": []
   },
   "outputs": [],
   "source": [
    "X_test = scaler.transform(X_test)\n",
    "\n",
    "early_stop = EarlyStopping(monitor='val_loss', mode='min', verbose=1, patience=25)"
   ]
  },
  {
   "cell_type": "markdown",
   "id": "e9702dcd",
   "metadata": {
    "papermill": {
     "duration": 0.112163,
     "end_time": "2023-03-24T17:52:18.202300",
     "exception": false,
     "start_time": "2023-03-24T17:52:18.090137",
     "status": "completed"
    },
    "tags": []
   },
   "source": [
    "I decided to automate the number of neurons for the hidden layers and output layer. "
   ]
  },
  {
   "cell_type": "code",
   "execution_count": 67,
   "id": "3e7c2903",
   "metadata": {
    "execution": {
     "iopub.execute_input": "2023-03-24T17:52:18.485239Z",
     "iopub.status.busy": "2023-03-24T17:52:18.484801Z",
     "iopub.status.idle": "2023-03-24T17:52:18.507646Z",
     "shell.execute_reply": "2023-03-24T17:52:18.506720Z"
    },
    "papermill": {
     "duration": 0.196704,
     "end_time": "2023-03-24T17:52:18.510401",
     "exception": false,
     "start_time": "2023-03-24T17:52:18.313697",
     "status": "completed"
    },
    "tags": []
   },
   "outputs": [],
   "source": [
    "model = Sequential()\n",
    "\n",
    "model.add(Dense(units=X_train.shape[1], activation='relu'))\n",
    "model.add(Dropout(0.1))\n",
    "\n",
    "model.add(Dense(units=np.round(X_train.shape[1]/2).astype('int32'), activation='relu'))\n",
    "model.add(Dropout(0.1))\n",
    "\n",
    "model.add(Dense(units=y_train.shape[1], activation='softmax'))\n",
    "\n",
    "model.compile(loss='categorical_crossentropy', optimizer = 'adam', metrics=['accuracy'])"
   ]
  },
  {
   "cell_type": "code",
   "execution_count": 68,
   "id": "1ca3846c",
   "metadata": {
    "execution": {
     "iopub.execute_input": "2023-03-24T17:52:18.733948Z",
     "iopub.status.busy": "2023-03-24T17:52:18.732639Z",
     "iopub.status.idle": "2023-03-24T17:52:40.049067Z",
     "shell.execute_reply": "2023-03-24T17:52:40.047850Z"
    },
    "papermill": {
     "duration": 21.430682,
     "end_time": "2023-03-24T17:52:40.051624",
     "exception": false,
     "start_time": "2023-03-24T17:52:18.620942",
     "status": "completed"
    },
    "tags": []
   },
   "outputs": [
    {
     "name": "stdout",
     "output_type": "stream",
     "text": [
      "Epoch 1/400\n",
      "4/4 [==============================] - 1s 73ms/step - loss: 1.8044 - accuracy: 0.3271 - val_loss: 1.7622 - val_accuracy: 0.4014\n",
      "Epoch 2/400\n",
      "4/4 [==============================] - 0s 13ms/step - loss: 1.7594 - accuracy: 0.3557 - val_loss: 1.7286 - val_accuracy: 0.4037\n",
      "Epoch 3/400\n",
      "4/4 [==============================] - 0s 14ms/step - loss: 1.7259 - accuracy: 0.3586 - val_loss: 1.6987 - val_accuracy: 0.4037\n",
      "Epoch 4/400\n",
      "4/4 [==============================] - 0s 13ms/step - loss: 1.7006 - accuracy: 0.3438 - val_loss: 1.6729 - val_accuracy: 0.3991\n",
      "Epoch 5/400\n",
      "4/4 [==============================] - 0s 13ms/step - loss: 1.6810 - accuracy: 0.3458 - val_loss: 1.6512 - val_accuracy: 0.3991\n",
      "Epoch 6/400\n",
      "4/4 [==============================] - 0s 12ms/step - loss: 1.6621 - accuracy: 0.3586 - val_loss: 1.6325 - val_accuracy: 0.3922\n",
      "Epoch 7/400\n",
      "4/4 [==============================] - 0s 13ms/step - loss: 1.6448 - accuracy: 0.3379 - val_loss: 1.6174 - val_accuracy: 0.3830\n",
      "Epoch 8/400\n",
      "4/4 [==============================] - 0s 13ms/step - loss: 1.6298 - accuracy: 0.3369 - val_loss: 1.6050 - val_accuracy: 0.3716\n",
      "Epoch 9/400\n",
      "4/4 [==============================] - 0s 13ms/step - loss: 1.6147 - accuracy: 0.3330 - val_loss: 1.5947 - val_accuracy: 0.3716\n",
      "Epoch 10/400\n",
      "4/4 [==============================] - 0s 14ms/step - loss: 1.5988 - accuracy: 0.3330 - val_loss: 1.5857 - val_accuracy: 0.3716\n",
      "Epoch 11/400\n",
      "4/4 [==============================] - 0s 14ms/step - loss: 1.5923 - accuracy: 0.3429 - val_loss: 1.5773 - val_accuracy: 0.3784\n",
      "Epoch 12/400\n",
      "4/4 [==============================] - 0s 14ms/step - loss: 1.5875 - accuracy: 0.3527 - val_loss: 1.5692 - val_accuracy: 0.3945\n",
      "Epoch 13/400\n",
      "4/4 [==============================] - 0s 14ms/step - loss: 1.5757 - accuracy: 0.3882 - val_loss: 1.5614 - val_accuracy: 0.3991\n",
      "Epoch 14/400\n",
      "4/4 [==============================] - 0s 14ms/step - loss: 1.5750 - accuracy: 0.3911 - val_loss: 1.5539 - val_accuracy: 0.3968\n",
      "Epoch 15/400\n",
      "4/4 [==============================] - 0s 14ms/step - loss: 1.5640 - accuracy: 0.4049 - val_loss: 1.5466 - val_accuracy: 0.4037\n",
      "Epoch 16/400\n",
      "4/4 [==============================] - 0s 13ms/step - loss: 1.5550 - accuracy: 0.4079 - val_loss: 1.5395 - val_accuracy: 0.4037\n",
      "Epoch 17/400\n",
      "4/4 [==============================] - 0s 14ms/step - loss: 1.5450 - accuracy: 0.4138 - val_loss: 1.5325 - val_accuracy: 0.4014\n",
      "Epoch 18/400\n",
      "4/4 [==============================] - 0s 14ms/step - loss: 1.5357 - accuracy: 0.4207 - val_loss: 1.5255 - val_accuracy: 0.4060\n",
      "Epoch 19/400\n",
      "4/4 [==============================] - 0s 14ms/step - loss: 1.5278 - accuracy: 0.4177 - val_loss: 1.5186 - val_accuracy: 0.4106\n",
      "Epoch 20/400\n",
      "4/4 [==============================] - 0s 18ms/step - loss: 1.5247 - accuracy: 0.4276 - val_loss: 1.5118 - val_accuracy: 0.4106\n",
      "Epoch 21/400\n",
      "4/4 [==============================] - 0s 14ms/step - loss: 1.5129 - accuracy: 0.4286 - val_loss: 1.5053 - val_accuracy: 0.4106\n",
      "Epoch 22/400\n",
      "4/4 [==============================] - 0s 14ms/step - loss: 1.5123 - accuracy: 0.4315 - val_loss: 1.4991 - val_accuracy: 0.4128\n",
      "Epoch 23/400\n",
      "4/4 [==============================] - 0s 14ms/step - loss: 1.5018 - accuracy: 0.4355 - val_loss: 1.4928 - val_accuracy: 0.4128\n",
      "Epoch 24/400\n",
      "4/4 [==============================] - 0s 18ms/step - loss: 1.4980 - accuracy: 0.4335 - val_loss: 1.4865 - val_accuracy: 0.4151\n",
      "Epoch 25/400\n",
      "4/4 [==============================] - 0s 13ms/step - loss: 1.4815 - accuracy: 0.4325 - val_loss: 1.4801 - val_accuracy: 0.4151\n",
      "Epoch 26/400\n",
      "4/4 [==============================] - 0s 18ms/step - loss: 1.4796 - accuracy: 0.4355 - val_loss: 1.4736 - val_accuracy: 0.4197\n",
      "Epoch 27/400\n",
      "4/4 [==============================] - 0s 13ms/step - loss: 1.4703 - accuracy: 0.4404 - val_loss: 1.4670 - val_accuracy: 0.4266\n",
      "Epoch 28/400\n",
      "4/4 [==============================] - 0s 13ms/step - loss: 1.4650 - accuracy: 0.4542 - val_loss: 1.4602 - val_accuracy: 0.4358\n",
      "Epoch 29/400\n",
      "4/4 [==============================] - 0s 13ms/step - loss: 1.4581 - accuracy: 0.4473 - val_loss: 1.4533 - val_accuracy: 0.4358\n",
      "Epoch 30/400\n",
      "4/4 [==============================] - 0s 14ms/step - loss: 1.4466 - accuracy: 0.4562 - val_loss: 1.4462 - val_accuracy: 0.4381\n",
      "Epoch 31/400\n",
      "4/4 [==============================] - 0s 14ms/step - loss: 1.4383 - accuracy: 0.4621 - val_loss: 1.4389 - val_accuracy: 0.4472\n",
      "Epoch 32/400\n",
      "4/4 [==============================] - 0s 14ms/step - loss: 1.4321 - accuracy: 0.4650 - val_loss: 1.4316 - val_accuracy: 0.4495\n",
      "Epoch 33/400\n",
      "4/4 [==============================] - 0s 14ms/step - loss: 1.4285 - accuracy: 0.4739 - val_loss: 1.4242 - val_accuracy: 0.4518\n",
      "Epoch 34/400\n",
      "4/4 [==============================] - 0s 13ms/step - loss: 1.4092 - accuracy: 0.4759 - val_loss: 1.4168 - val_accuracy: 0.4564\n",
      "Epoch 35/400\n",
      "4/4 [==============================] - 0s 14ms/step - loss: 1.4114 - accuracy: 0.4601 - val_loss: 1.4094 - val_accuracy: 0.4541\n",
      "Epoch 36/400\n",
      "4/4 [==============================] - 0s 14ms/step - loss: 1.4016 - accuracy: 0.4749 - val_loss: 1.4019 - val_accuracy: 0.4656\n",
      "Epoch 37/400\n",
      "4/4 [==============================] - 0s 13ms/step - loss: 1.3911 - accuracy: 0.4867 - val_loss: 1.3944 - val_accuracy: 0.4748\n",
      "Epoch 38/400\n",
      "4/4 [==============================] - 0s 13ms/step - loss: 1.3870 - accuracy: 0.4759 - val_loss: 1.3868 - val_accuracy: 0.4771\n",
      "Epoch 39/400\n",
      "4/4 [==============================] - 0s 13ms/step - loss: 1.3751 - accuracy: 0.4828 - val_loss: 1.3791 - val_accuracy: 0.4817\n",
      "Epoch 40/400\n",
      "4/4 [==============================] - 0s 13ms/step - loss: 1.3699 - accuracy: 0.4926 - val_loss: 1.3714 - val_accuracy: 0.4862\n",
      "Epoch 41/400\n",
      "4/4 [==============================] - 0s 13ms/step - loss: 1.3579 - accuracy: 0.4887 - val_loss: 1.3636 - val_accuracy: 0.4885\n",
      "Epoch 42/400\n",
      "4/4 [==============================] - 0s 13ms/step - loss: 1.3468 - accuracy: 0.4926 - val_loss: 1.3558 - val_accuracy: 0.4908\n",
      "Epoch 43/400\n",
      "4/4 [==============================] - 0s 13ms/step - loss: 1.3496 - accuracy: 0.4897 - val_loss: 1.3483 - val_accuracy: 0.4954\n",
      "Epoch 44/400\n",
      "4/4 [==============================] - 0s 13ms/step - loss: 1.3400 - accuracy: 0.4975 - val_loss: 1.3407 - val_accuracy: 0.4954\n",
      "Epoch 45/400\n",
      "4/4 [==============================] - 0s 13ms/step - loss: 1.3200 - accuracy: 0.5123 - val_loss: 1.3331 - val_accuracy: 0.4931\n",
      "Epoch 46/400\n",
      "4/4 [==============================] - 0s 12ms/step - loss: 1.3262 - accuracy: 0.5025 - val_loss: 1.3254 - val_accuracy: 0.4931\n",
      "Epoch 47/400\n",
      "4/4 [==============================] - 0s 12ms/step - loss: 1.3125 - accuracy: 0.5113 - val_loss: 1.3177 - val_accuracy: 0.4885\n",
      "Epoch 48/400\n",
      "4/4 [==============================] - 0s 12ms/step - loss: 1.3054 - accuracy: 0.5064 - val_loss: 1.3100 - val_accuracy: 0.4908\n",
      "Epoch 49/400\n",
      "4/4 [==============================] - 0s 13ms/step - loss: 1.3031 - accuracy: 0.5054 - val_loss: 1.3025 - val_accuracy: 0.4977\n",
      "Epoch 50/400\n",
      "4/4 [==============================] - 0s 12ms/step - loss: 1.2865 - accuracy: 0.5202 - val_loss: 1.2951 - val_accuracy: 0.5092\n",
      "Epoch 51/400\n",
      "4/4 [==============================] - 0s 13ms/step - loss: 1.2789 - accuracy: 0.5222 - val_loss: 1.2878 - val_accuracy: 0.5069\n",
      "Epoch 52/400\n",
      "4/4 [==============================] - 0s 13ms/step - loss: 1.2697 - accuracy: 0.5064 - val_loss: 1.2803 - val_accuracy: 0.5069\n",
      "Epoch 53/400\n",
      "4/4 [==============================] - 0s 18ms/step - loss: 1.2684 - accuracy: 0.5113 - val_loss: 1.2729 - val_accuracy: 0.5046\n",
      "Epoch 54/400\n",
      "4/4 [==============================] - 0s 13ms/step - loss: 1.2545 - accuracy: 0.5123 - val_loss: 1.2657 - val_accuracy: 0.5023\n",
      "Epoch 55/400\n",
      "4/4 [==============================] - 0s 13ms/step - loss: 1.2542 - accuracy: 0.5153 - val_loss: 1.2585 - val_accuracy: 0.5069\n",
      "Epoch 56/400\n",
      "4/4 [==============================] - 0s 14ms/step - loss: 1.2478 - accuracy: 0.5113 - val_loss: 1.2516 - val_accuracy: 0.5092\n",
      "Epoch 57/400\n",
      "4/4 [==============================] - 0s 14ms/step - loss: 1.2365 - accuracy: 0.5094 - val_loss: 1.2446 - val_accuracy: 0.5115\n",
      "Epoch 58/400\n",
      "4/4 [==============================] - 0s 13ms/step - loss: 1.2408 - accuracy: 0.5094 - val_loss: 1.2381 - val_accuracy: 0.5115\n",
      "Epoch 59/400\n",
      "4/4 [==============================] - 0s 15ms/step - loss: 1.2215 - accuracy: 0.5232 - val_loss: 1.2313 - val_accuracy: 0.5161\n",
      "Epoch 60/400\n",
      "4/4 [==============================] - 0s 16ms/step - loss: 1.2210 - accuracy: 0.5094 - val_loss: 1.2246 - val_accuracy: 0.5161\n",
      "Epoch 61/400\n",
      "4/4 [==============================] - 0s 15ms/step - loss: 1.2189 - accuracy: 0.5113 - val_loss: 1.2182 - val_accuracy: 0.5206\n",
      "Epoch 62/400\n",
      "4/4 [==============================] - 0s 14ms/step - loss: 1.2024 - accuracy: 0.5143 - val_loss: 1.2119 - val_accuracy: 0.5206\n",
      "Epoch 63/400\n",
      "4/4 [==============================] - 0s 14ms/step - loss: 1.2056 - accuracy: 0.5251 - val_loss: 1.2058 - val_accuracy: 0.5275\n",
      "Epoch 64/400\n",
      "4/4 [==============================] - 0s 19ms/step - loss: 1.1870 - accuracy: 0.5389 - val_loss: 1.1998 - val_accuracy: 0.5321\n",
      "Epoch 65/400\n",
      "4/4 [==============================] - 0s 13ms/step - loss: 1.1849 - accuracy: 0.5241 - val_loss: 1.1937 - val_accuracy: 0.5390\n",
      "Epoch 66/400\n",
      "4/4 [==============================] - 0s 14ms/step - loss: 1.1810 - accuracy: 0.5271 - val_loss: 1.1879 - val_accuracy: 0.5528\n",
      "Epoch 67/400\n",
      "4/4 [==============================] - 0s 14ms/step - loss: 1.1726 - accuracy: 0.5222 - val_loss: 1.1819 - val_accuracy: 0.5596\n",
      "Epoch 68/400\n",
      "4/4 [==============================] - 0s 14ms/step - loss: 1.1674 - accuracy: 0.5291 - val_loss: 1.1763 - val_accuracy: 0.5619\n",
      "Epoch 69/400\n",
      "4/4 [==============================] - 0s 13ms/step - loss: 1.1717 - accuracy: 0.5340 - val_loss: 1.1708 - val_accuracy: 0.5619\n",
      "Epoch 70/400\n",
      "4/4 [==============================] - 0s 14ms/step - loss: 1.1500 - accuracy: 0.5507 - val_loss: 1.1654 - val_accuracy: 0.5642\n",
      "Epoch 71/400\n",
      "4/4 [==============================] - 0s 23ms/step - loss: 1.1497 - accuracy: 0.5458 - val_loss: 1.1602 - val_accuracy: 0.5665\n",
      "Epoch 72/400\n",
      "4/4 [==============================] - 0s 20ms/step - loss: 1.1500 - accuracy: 0.5616 - val_loss: 1.1549 - val_accuracy: 0.5688\n",
      "Epoch 73/400\n",
      "4/4 [==============================] - 0s 14ms/step - loss: 1.1511 - accuracy: 0.5389 - val_loss: 1.1500 - val_accuracy: 0.5688\n",
      "Epoch 74/400\n",
      "4/4 [==============================] - 0s 14ms/step - loss: 1.1442 - accuracy: 0.5488 - val_loss: 1.1453 - val_accuracy: 0.5688\n",
      "Epoch 75/400\n",
      "4/4 [==============================] - 0s 14ms/step - loss: 1.1490 - accuracy: 0.5399 - val_loss: 1.1410 - val_accuracy: 0.5665\n",
      "Epoch 76/400\n",
      "4/4 [==============================] - 0s 14ms/step - loss: 1.1316 - accuracy: 0.5567 - val_loss: 1.1368 - val_accuracy: 0.5688\n",
      "Epoch 77/400\n",
      "4/4 [==============================] - 0s 13ms/step - loss: 1.1223 - accuracy: 0.5586 - val_loss: 1.1323 - val_accuracy: 0.5688\n",
      "Epoch 78/400\n",
      "4/4 [==============================] - 0s 13ms/step - loss: 1.1226 - accuracy: 0.5488 - val_loss: 1.1279 - val_accuracy: 0.5688\n",
      "Epoch 79/400\n",
      "4/4 [==============================] - 0s 13ms/step - loss: 1.1253 - accuracy: 0.5468 - val_loss: 1.1239 - val_accuracy: 0.5688\n",
      "Epoch 80/400\n",
      "4/4 [==============================] - 0s 18ms/step - loss: 1.1055 - accuracy: 0.5468 - val_loss: 1.1202 - val_accuracy: 0.5596\n",
      "Epoch 81/400\n",
      "4/4 [==============================] - 0s 13ms/step - loss: 1.1232 - accuracy: 0.5488 - val_loss: 1.1165 - val_accuracy: 0.5596\n",
      "Epoch 82/400\n",
      "4/4 [==============================] - 0s 13ms/step - loss: 1.1047 - accuracy: 0.5458 - val_loss: 1.1131 - val_accuracy: 0.5665\n",
      "Epoch 83/400\n",
      "4/4 [==============================] - 0s 19ms/step - loss: 1.1130 - accuracy: 0.5498 - val_loss: 1.1098 - val_accuracy: 0.5665\n",
      "Epoch 84/400\n",
      "4/4 [==============================] - 0s 14ms/step - loss: 1.1080 - accuracy: 0.5557 - val_loss: 1.1067 - val_accuracy: 0.5711\n",
      "Epoch 85/400\n",
      "4/4 [==============================] - 0s 14ms/step - loss: 1.1063 - accuracy: 0.5567 - val_loss: 1.1038 - val_accuracy: 0.5642\n",
      "Epoch 86/400\n",
      "4/4 [==============================] - 0s 13ms/step - loss: 1.0976 - accuracy: 0.5458 - val_loss: 1.1010 - val_accuracy: 0.5665\n",
      "Epoch 87/400\n",
      "4/4 [==============================] - 0s 14ms/step - loss: 1.1029 - accuracy: 0.5507 - val_loss: 1.0979 - val_accuracy: 0.5665\n",
      "Epoch 88/400\n",
      "4/4 [==============================] - 0s 14ms/step - loss: 1.0976 - accuracy: 0.5626 - val_loss: 1.0947 - val_accuracy: 0.5642\n",
      "Epoch 89/400\n",
      "4/4 [==============================] - 0s 14ms/step - loss: 1.0873 - accuracy: 0.5567 - val_loss: 1.0919 - val_accuracy: 0.5665\n",
      "Epoch 90/400\n",
      "4/4 [==============================] - 0s 13ms/step - loss: 1.0881 - accuracy: 0.5498 - val_loss: 1.0890 - val_accuracy: 0.5665\n",
      "Epoch 91/400\n",
      "4/4 [==============================] - 0s 13ms/step - loss: 1.0969 - accuracy: 0.5744 - val_loss: 1.0865 - val_accuracy: 0.5665\n",
      "Epoch 92/400\n",
      "4/4 [==============================] - 0s 13ms/step - loss: 1.1060 - accuracy: 0.5350 - val_loss: 1.0842 - val_accuracy: 0.5688\n",
      "Epoch 93/400\n",
      "4/4 [==============================] - 0s 19ms/step - loss: 1.0787 - accuracy: 0.5557 - val_loss: 1.0823 - val_accuracy: 0.5734\n",
      "Epoch 94/400\n",
      "4/4 [==============================] - 0s 13ms/step - loss: 1.0819 - accuracy: 0.5635 - val_loss: 1.0806 - val_accuracy: 0.5711\n",
      "Epoch 95/400\n",
      "4/4 [==============================] - 0s 13ms/step - loss: 1.0784 - accuracy: 0.5724 - val_loss: 1.0787 - val_accuracy: 0.5688\n",
      "Epoch 96/400\n",
      "4/4 [==============================] - 0s 18ms/step - loss: 1.0731 - accuracy: 0.5557 - val_loss: 1.0765 - val_accuracy: 0.5688\n",
      "Epoch 97/400\n",
      "4/4 [==============================] - 0s 14ms/step - loss: 1.0714 - accuracy: 0.5695 - val_loss: 1.0741 - val_accuracy: 0.5688\n",
      "Epoch 98/400\n",
      "4/4 [==============================] - 0s 14ms/step - loss: 1.0876 - accuracy: 0.5468 - val_loss: 1.0719 - val_accuracy: 0.5711\n",
      "Epoch 99/400\n",
      "4/4 [==============================] - 0s 13ms/step - loss: 1.0603 - accuracy: 0.5714 - val_loss: 1.0701 - val_accuracy: 0.5711\n",
      "Epoch 100/400\n",
      "4/4 [==============================] - 0s 13ms/step - loss: 1.0701 - accuracy: 0.5488 - val_loss: 1.0682 - val_accuracy: 0.5780\n",
      "Epoch 101/400\n",
      "4/4 [==============================] - 0s 14ms/step - loss: 1.0668 - accuracy: 0.5635 - val_loss: 1.0665 - val_accuracy: 0.5757\n",
      "Epoch 102/400\n",
      "4/4 [==============================] - 0s 14ms/step - loss: 1.0540 - accuracy: 0.5665 - val_loss: 1.0648 - val_accuracy: 0.5711\n",
      "Epoch 103/400\n",
      "4/4 [==============================] - 0s 14ms/step - loss: 1.0580 - accuracy: 0.5645 - val_loss: 1.0631 - val_accuracy: 0.5711\n",
      "Epoch 104/400\n",
      "4/4 [==============================] - 0s 19ms/step - loss: 1.0633 - accuracy: 0.5685 - val_loss: 1.0616 - val_accuracy: 0.5688\n",
      "Epoch 105/400\n",
      "4/4 [==============================] - 0s 14ms/step - loss: 1.0784 - accuracy: 0.5507 - val_loss: 1.0601 - val_accuracy: 0.5688\n",
      "Epoch 106/400\n",
      "4/4 [==============================] - 0s 14ms/step - loss: 1.0538 - accuracy: 0.5557 - val_loss: 1.0587 - val_accuracy: 0.5688\n",
      "Epoch 107/400\n",
      "4/4 [==============================] - 0s 13ms/step - loss: 1.0488 - accuracy: 0.5724 - val_loss: 1.0572 - val_accuracy: 0.5711\n",
      "Epoch 108/400\n",
      "4/4 [==============================] - 0s 13ms/step - loss: 1.0731 - accuracy: 0.5567 - val_loss: 1.0558 - val_accuracy: 0.5734\n",
      "Epoch 109/400\n",
      "4/4 [==============================] - 0s 15ms/step - loss: 1.0547 - accuracy: 0.5754 - val_loss: 1.0543 - val_accuracy: 0.5734\n",
      "Epoch 110/400\n",
      "4/4 [==============================] - 0s 13ms/step - loss: 1.0635 - accuracy: 0.5557 - val_loss: 1.0528 - val_accuracy: 0.5734\n",
      "Epoch 111/400\n",
      "4/4 [==============================] - 0s 14ms/step - loss: 1.0541 - accuracy: 0.5586 - val_loss: 1.0514 - val_accuracy: 0.5734\n",
      "Epoch 112/400\n",
      "4/4 [==============================] - 0s 19ms/step - loss: 1.0718 - accuracy: 0.5586 - val_loss: 1.0502 - val_accuracy: 0.5734\n",
      "Epoch 113/400\n",
      "4/4 [==============================] - 0s 14ms/step - loss: 1.0579 - accuracy: 0.5783 - val_loss: 1.0493 - val_accuracy: 0.5734\n",
      "Epoch 114/400\n",
      "4/4 [==============================] - 0s 13ms/step - loss: 1.0649 - accuracy: 0.5606 - val_loss: 1.0484 - val_accuracy: 0.5711\n",
      "Epoch 115/400\n",
      "4/4 [==============================] - 0s 13ms/step - loss: 1.0476 - accuracy: 0.5685 - val_loss: 1.0476 - val_accuracy: 0.5734\n",
      "Epoch 116/400\n",
      "4/4 [==============================] - 0s 18ms/step - loss: 1.0599 - accuracy: 0.5547 - val_loss: 1.0468 - val_accuracy: 0.5734\n",
      "Epoch 117/400\n",
      "4/4 [==============================] - 0s 14ms/step - loss: 1.0361 - accuracy: 0.5576 - val_loss: 1.0458 - val_accuracy: 0.5734\n",
      "Epoch 118/400\n",
      "4/4 [==============================] - 0s 14ms/step - loss: 1.0475 - accuracy: 0.5635 - val_loss: 1.0444 - val_accuracy: 0.5688\n",
      "Epoch 119/400\n",
      "4/4 [==============================] - 0s 13ms/step - loss: 1.0331 - accuracy: 0.5793 - val_loss: 1.0432 - val_accuracy: 0.5688\n",
      "Epoch 120/400\n",
      "4/4 [==============================] - 0s 14ms/step - loss: 1.0384 - accuracy: 0.5734 - val_loss: 1.0420 - val_accuracy: 0.5688\n",
      "Epoch 121/400\n",
      "4/4 [==============================] - 0s 13ms/step - loss: 1.0349 - accuracy: 0.5734 - val_loss: 1.0409 - val_accuracy: 0.5665\n",
      "Epoch 122/400\n",
      "4/4 [==============================] - 0s 13ms/step - loss: 1.0377 - accuracy: 0.5793 - val_loss: 1.0399 - val_accuracy: 0.5711\n",
      "Epoch 123/400\n",
      "4/4 [==============================] - 0s 14ms/step - loss: 1.0391 - accuracy: 0.5764 - val_loss: 1.0390 - val_accuracy: 0.5734\n",
      "Epoch 124/400\n",
      "4/4 [==============================] - 0s 13ms/step - loss: 1.0384 - accuracy: 0.5665 - val_loss: 1.0381 - val_accuracy: 0.5780\n",
      "Epoch 125/400\n",
      "4/4 [==============================] - 0s 13ms/step - loss: 1.0379 - accuracy: 0.5567 - val_loss: 1.0373 - val_accuracy: 0.5734\n",
      "Epoch 126/400\n",
      "4/4 [==============================] - 0s 14ms/step - loss: 1.0320 - accuracy: 0.5635 - val_loss: 1.0361 - val_accuracy: 0.5734\n",
      "Epoch 127/400\n",
      "4/4 [==============================] - 0s 14ms/step - loss: 1.0409 - accuracy: 0.5586 - val_loss: 1.0352 - val_accuracy: 0.5711\n",
      "Epoch 128/400\n",
      "4/4 [==============================] - 0s 13ms/step - loss: 1.0403 - accuracy: 0.5537 - val_loss: 1.0344 - val_accuracy: 0.5734\n",
      "Epoch 129/400\n",
      "4/4 [==============================] - 0s 13ms/step - loss: 1.0251 - accuracy: 0.5734 - val_loss: 1.0336 - val_accuracy: 0.5734\n",
      "Epoch 130/400\n",
      "4/4 [==============================] - 0s 13ms/step - loss: 1.0217 - accuracy: 0.5704 - val_loss: 1.0325 - val_accuracy: 0.5757\n",
      "Epoch 131/400\n",
      "4/4 [==============================] - 0s 14ms/step - loss: 1.0301 - accuracy: 0.5704 - val_loss: 1.0315 - val_accuracy: 0.5734\n",
      "Epoch 132/400\n",
      "4/4 [==============================] - 0s 13ms/step - loss: 1.0228 - accuracy: 0.5714 - val_loss: 1.0306 - val_accuracy: 0.5734\n",
      "Epoch 133/400\n",
      "4/4 [==============================] - 0s 14ms/step - loss: 1.0194 - accuracy: 0.5616 - val_loss: 1.0299 - val_accuracy: 0.5665\n",
      "Epoch 134/400\n",
      "4/4 [==============================] - 0s 14ms/step - loss: 1.0454 - accuracy: 0.5507 - val_loss: 1.0294 - val_accuracy: 0.5642\n",
      "Epoch 135/400\n",
      "4/4 [==============================] - 0s 13ms/step - loss: 1.0265 - accuracy: 0.5675 - val_loss: 1.0289 - val_accuracy: 0.5642\n",
      "Epoch 136/400\n",
      "4/4 [==============================] - 0s 14ms/step - loss: 1.0161 - accuracy: 0.5665 - val_loss: 1.0280 - val_accuracy: 0.5642\n",
      "Epoch 137/400\n",
      "4/4 [==============================] - 0s 13ms/step - loss: 1.0210 - accuracy: 0.5803 - val_loss: 1.0268 - val_accuracy: 0.5665\n",
      "Epoch 138/400\n",
      "4/4 [==============================] - 0s 13ms/step - loss: 1.0226 - accuracy: 0.5616 - val_loss: 1.0259 - val_accuracy: 0.5642\n",
      "Epoch 139/400\n",
      "4/4 [==============================] - 0s 13ms/step - loss: 1.0323 - accuracy: 0.5675 - val_loss: 1.0250 - val_accuracy: 0.5642\n",
      "Epoch 140/400\n",
      "4/4 [==============================] - 0s 13ms/step - loss: 1.0241 - accuracy: 0.5616 - val_loss: 1.0243 - val_accuracy: 0.5665\n",
      "Epoch 141/400\n",
      "4/4 [==============================] - 0s 14ms/step - loss: 1.0248 - accuracy: 0.5507 - val_loss: 1.0239 - val_accuracy: 0.5665\n",
      "Epoch 142/400\n",
      "4/4 [==============================] - 0s 14ms/step - loss: 1.0459 - accuracy: 0.5655 - val_loss: 1.0235 - val_accuracy: 0.5642\n",
      "Epoch 143/400\n",
      "4/4 [==============================] - 0s 13ms/step - loss: 1.0345 - accuracy: 0.5704 - val_loss: 1.0231 - val_accuracy: 0.5665\n",
      "Epoch 144/400\n",
      "4/4 [==============================] - 0s 13ms/step - loss: 1.0196 - accuracy: 0.5626 - val_loss: 1.0224 - val_accuracy: 0.5642\n",
      "Epoch 145/400\n",
      "4/4 [==============================] - 0s 13ms/step - loss: 1.0150 - accuracy: 0.5606 - val_loss: 1.0215 - val_accuracy: 0.5688\n",
      "Epoch 146/400\n",
      "4/4 [==============================] - 0s 13ms/step - loss: 1.0400 - accuracy: 0.5596 - val_loss: 1.0209 - val_accuracy: 0.5688\n",
      "Epoch 147/400\n",
      "4/4 [==============================] - 0s 13ms/step - loss: 1.0373 - accuracy: 0.5635 - val_loss: 1.0204 - val_accuracy: 0.5665\n",
      "Epoch 148/400\n",
      "4/4 [==============================] - 0s 19ms/step - loss: 1.0209 - accuracy: 0.5724 - val_loss: 1.0196 - val_accuracy: 0.5642\n",
      "Epoch 149/400\n",
      "4/4 [==============================] - 0s 19ms/step - loss: 1.0210 - accuracy: 0.5635 - val_loss: 1.0192 - val_accuracy: 0.5619\n",
      "Epoch 150/400\n",
      "4/4 [==============================] - 0s 14ms/step - loss: 0.9926 - accuracy: 0.5892 - val_loss: 1.0186 - val_accuracy: 0.5642\n",
      "Epoch 151/400\n",
      "4/4 [==============================] - 0s 14ms/step - loss: 1.0250 - accuracy: 0.5527 - val_loss: 1.0177 - val_accuracy: 0.5642\n",
      "Epoch 152/400\n",
      "4/4 [==============================] - 0s 13ms/step - loss: 0.9972 - accuracy: 0.5744 - val_loss: 1.0171 - val_accuracy: 0.5619\n",
      "Epoch 153/400\n",
      "4/4 [==============================] - 0s 13ms/step - loss: 1.0220 - accuracy: 0.5724 - val_loss: 1.0167 - val_accuracy: 0.5619\n",
      "Epoch 154/400\n",
      "4/4 [==============================] - 0s 13ms/step - loss: 1.0236 - accuracy: 0.5567 - val_loss: 1.0163 - val_accuracy: 0.5665\n",
      "Epoch 155/400\n",
      "4/4 [==============================] - 0s 14ms/step - loss: 1.0227 - accuracy: 0.5576 - val_loss: 1.0157 - val_accuracy: 0.5642\n",
      "Epoch 156/400\n",
      "4/4 [==============================] - 0s 13ms/step - loss: 1.0015 - accuracy: 0.5813 - val_loss: 1.0153 - val_accuracy: 0.5665\n",
      "Epoch 157/400\n",
      "4/4 [==============================] - 0s 14ms/step - loss: 1.0057 - accuracy: 0.5704 - val_loss: 1.0151 - val_accuracy: 0.5665\n",
      "Epoch 158/400\n",
      "4/4 [==============================] - 0s 14ms/step - loss: 1.0102 - accuracy: 0.5635 - val_loss: 1.0148 - val_accuracy: 0.5642\n",
      "Epoch 159/400\n",
      "4/4 [==============================] - 0s 13ms/step - loss: 1.0084 - accuracy: 0.5793 - val_loss: 1.0143 - val_accuracy: 0.5665\n",
      "Epoch 160/400\n",
      "4/4 [==============================] - 0s 13ms/step - loss: 1.0152 - accuracy: 0.5734 - val_loss: 1.0135 - val_accuracy: 0.5665\n",
      "Epoch 161/400\n",
      "4/4 [==============================] - 0s 13ms/step - loss: 1.0064 - accuracy: 0.5596 - val_loss: 1.0126 - val_accuracy: 0.5642\n",
      "Epoch 162/400\n",
      "4/4 [==============================] - 0s 13ms/step - loss: 1.0171 - accuracy: 0.5754 - val_loss: 1.0122 - val_accuracy: 0.5688\n",
      "Epoch 163/400\n",
      "4/4 [==============================] - 0s 14ms/step - loss: 1.0215 - accuracy: 0.5537 - val_loss: 1.0119 - val_accuracy: 0.5711\n",
      "Epoch 164/400\n",
      "4/4 [==============================] - 0s 13ms/step - loss: 1.0080 - accuracy: 0.5724 - val_loss: 1.0115 - val_accuracy: 0.5711\n",
      "Epoch 165/400\n",
      "4/4 [==============================] - 0s 14ms/step - loss: 0.9993 - accuracy: 0.5803 - val_loss: 1.0105 - val_accuracy: 0.5665\n",
      "Epoch 166/400\n",
      "4/4 [==============================] - 0s 19ms/step - loss: 0.9876 - accuracy: 0.5823 - val_loss: 1.0095 - val_accuracy: 0.5711\n",
      "Epoch 167/400\n",
      "4/4 [==============================] - 0s 13ms/step - loss: 1.0077 - accuracy: 0.5635 - val_loss: 1.0088 - val_accuracy: 0.5688\n",
      "Epoch 168/400\n",
      "4/4 [==============================] - 0s 14ms/step - loss: 1.0056 - accuracy: 0.5596 - val_loss: 1.0081 - val_accuracy: 0.5688\n",
      "Epoch 169/400\n",
      "4/4 [==============================] - 0s 13ms/step - loss: 1.0083 - accuracy: 0.5547 - val_loss: 1.0075 - val_accuracy: 0.5734\n",
      "Epoch 170/400\n",
      "4/4 [==============================] - 0s 14ms/step - loss: 0.9963 - accuracy: 0.5754 - val_loss: 1.0071 - val_accuracy: 0.5734\n",
      "Epoch 171/400\n",
      "4/4 [==============================] - 0s 14ms/step - loss: 1.0040 - accuracy: 0.5655 - val_loss: 1.0066 - val_accuracy: 0.5734\n",
      "Epoch 172/400\n",
      "4/4 [==============================] - 0s 13ms/step - loss: 0.9978 - accuracy: 0.5704 - val_loss: 1.0061 - val_accuracy: 0.5734\n",
      "Epoch 173/400\n",
      "4/4 [==============================] - 0s 13ms/step - loss: 0.9995 - accuracy: 0.5764 - val_loss: 1.0057 - val_accuracy: 0.5757\n",
      "Epoch 174/400\n",
      "4/4 [==============================] - 0s 13ms/step - loss: 0.9833 - accuracy: 0.5744 - val_loss: 1.0051 - val_accuracy: 0.5734\n",
      "Epoch 175/400\n",
      "4/4 [==============================] - 0s 13ms/step - loss: 1.0009 - accuracy: 0.5665 - val_loss: 1.0045 - val_accuracy: 0.5734\n",
      "Epoch 176/400\n",
      "4/4 [==============================] - 0s 13ms/step - loss: 1.0063 - accuracy: 0.5665 - val_loss: 1.0041 - val_accuracy: 0.5711\n",
      "Epoch 177/400\n",
      "4/4 [==============================] - 0s 19ms/step - loss: 1.0099 - accuracy: 0.5616 - val_loss: 1.0040 - val_accuracy: 0.5711\n",
      "Epoch 178/400\n",
      "4/4 [==============================] - 0s 13ms/step - loss: 1.0041 - accuracy: 0.5547 - val_loss: 1.0038 - val_accuracy: 0.5734\n",
      "Epoch 179/400\n",
      "4/4 [==============================] - 0s 19ms/step - loss: 1.0088 - accuracy: 0.5714 - val_loss: 1.0036 - val_accuracy: 0.5734\n",
      "Epoch 180/400\n",
      "4/4 [==============================] - 0s 19ms/step - loss: 1.0012 - accuracy: 0.5635 - val_loss: 1.0032 - val_accuracy: 0.5734\n",
      "Epoch 181/400\n",
      "4/4 [==============================] - 0s 14ms/step - loss: 0.9980 - accuracy: 0.5655 - val_loss: 1.0027 - val_accuracy: 0.5734\n",
      "Epoch 182/400\n",
      "4/4 [==============================] - 0s 13ms/step - loss: 0.9960 - accuracy: 0.5655 - val_loss: 1.0025 - val_accuracy: 0.5734\n",
      "Epoch 183/400\n",
      "4/4 [==============================] - 0s 13ms/step - loss: 0.9879 - accuracy: 0.5921 - val_loss: 1.0023 - val_accuracy: 0.5757\n",
      "Epoch 184/400\n",
      "4/4 [==============================] - 0s 13ms/step - loss: 0.9952 - accuracy: 0.5803 - val_loss: 1.0020 - val_accuracy: 0.5757\n",
      "Epoch 185/400\n",
      "4/4 [==============================] - 0s 14ms/step - loss: 0.9855 - accuracy: 0.5754 - val_loss: 1.0016 - val_accuracy: 0.5757\n",
      "Epoch 186/400\n",
      "4/4 [==============================] - 0s 13ms/step - loss: 0.9844 - accuracy: 0.5734 - val_loss: 1.0008 - val_accuracy: 0.5688\n",
      "Epoch 187/400\n",
      "4/4 [==============================] - 0s 14ms/step - loss: 1.0047 - accuracy: 0.5754 - val_loss: 1.0003 - val_accuracy: 0.5734\n",
      "Epoch 188/400\n",
      "4/4 [==============================] - 0s 13ms/step - loss: 1.0110 - accuracy: 0.5616 - val_loss: 0.9998 - val_accuracy: 0.5711\n",
      "Epoch 189/400\n",
      "4/4 [==============================] - 0s 14ms/step - loss: 0.9937 - accuracy: 0.5655 - val_loss: 0.9996 - val_accuracy: 0.5757\n",
      "Epoch 190/400\n",
      "4/4 [==============================] - 0s 13ms/step - loss: 1.0058 - accuracy: 0.5576 - val_loss: 0.9999 - val_accuracy: 0.5688\n",
      "Epoch 191/400\n",
      "4/4 [==============================] - 0s 13ms/step - loss: 0.9935 - accuracy: 0.5764 - val_loss: 0.9994 - val_accuracy: 0.5711\n",
      "Epoch 192/400\n",
      "4/4 [==============================] - 0s 13ms/step - loss: 0.9817 - accuracy: 0.5783 - val_loss: 0.9985 - val_accuracy: 0.5757\n",
      "Epoch 193/400\n",
      "4/4 [==============================] - 0s 14ms/step - loss: 0.9913 - accuracy: 0.5833 - val_loss: 0.9979 - val_accuracy: 0.5757\n",
      "Epoch 194/400\n",
      "4/4 [==============================] - 0s 14ms/step - loss: 0.9932 - accuracy: 0.5635 - val_loss: 0.9973 - val_accuracy: 0.5757\n",
      "Epoch 195/400\n",
      "4/4 [==============================] - 0s 13ms/step - loss: 0.9945 - accuracy: 0.5596 - val_loss: 0.9969 - val_accuracy: 0.5711\n",
      "Epoch 196/400\n",
      "4/4 [==============================] - 0s 13ms/step - loss: 0.9915 - accuracy: 0.5626 - val_loss: 0.9964 - val_accuracy: 0.5734\n",
      "Epoch 197/400\n",
      "4/4 [==============================] - 0s 19ms/step - loss: 0.9890 - accuracy: 0.5764 - val_loss: 0.9961 - val_accuracy: 0.5757\n",
      "Epoch 198/400\n",
      "4/4 [==============================] - 0s 13ms/step - loss: 1.0090 - accuracy: 0.5635 - val_loss: 0.9959 - val_accuracy: 0.5734\n",
      "Epoch 199/400\n",
      "4/4 [==============================] - 0s 13ms/step - loss: 0.9839 - accuracy: 0.5823 - val_loss: 0.9958 - val_accuracy: 0.5757\n",
      "Epoch 200/400\n",
      "4/4 [==============================] - 0s 18ms/step - loss: 0.9986 - accuracy: 0.5596 - val_loss: 0.9957 - val_accuracy: 0.5734\n",
      "Epoch 201/400\n",
      "4/4 [==============================] - 0s 14ms/step - loss: 1.0013 - accuracy: 0.5714 - val_loss: 0.9957 - val_accuracy: 0.5734\n",
      "Epoch 202/400\n",
      "4/4 [==============================] - 0s 13ms/step - loss: 0.9915 - accuracy: 0.5645 - val_loss: 0.9955 - val_accuracy: 0.5757\n",
      "Epoch 203/400\n",
      "4/4 [==============================] - 0s 13ms/step - loss: 0.9894 - accuracy: 0.5527 - val_loss: 0.9951 - val_accuracy: 0.5734\n",
      "Epoch 204/400\n",
      "4/4 [==============================] - 0s 14ms/step - loss: 0.9771 - accuracy: 0.5852 - val_loss: 0.9944 - val_accuracy: 0.5734\n",
      "Epoch 205/400\n",
      "4/4 [==============================] - 0s 13ms/step - loss: 0.9953 - accuracy: 0.5695 - val_loss: 0.9937 - val_accuracy: 0.5780\n",
      "Epoch 206/400\n",
      "4/4 [==============================] - 0s 14ms/step - loss: 1.0065 - accuracy: 0.5606 - val_loss: 0.9934 - val_accuracy: 0.5711\n",
      "Epoch 207/400\n",
      "4/4 [==============================] - 0s 12ms/step - loss: 0.9976 - accuracy: 0.5586 - val_loss: 0.9931 - val_accuracy: 0.5711\n",
      "Epoch 208/400\n",
      "4/4 [==============================] - 0s 13ms/step - loss: 1.0000 - accuracy: 0.5665 - val_loss: 0.9930 - val_accuracy: 0.5688\n",
      "Epoch 209/400\n",
      "4/4 [==============================] - 0s 13ms/step - loss: 0.9817 - accuracy: 0.5655 - val_loss: 0.9929 - val_accuracy: 0.5734\n",
      "Epoch 210/400\n",
      "4/4 [==============================] - 0s 14ms/step - loss: 0.9763 - accuracy: 0.5901 - val_loss: 0.9927 - val_accuracy: 0.5734\n",
      "Epoch 211/400\n",
      "4/4 [==============================] - 0s 13ms/step - loss: 0.9745 - accuracy: 0.5803 - val_loss: 0.9925 - val_accuracy: 0.5734\n",
      "Epoch 212/400\n",
      "4/4 [==============================] - 0s 13ms/step - loss: 0.9783 - accuracy: 0.5616 - val_loss: 0.9921 - val_accuracy: 0.5688\n",
      "Epoch 213/400\n",
      "4/4 [==============================] - 0s 14ms/step - loss: 0.9845 - accuracy: 0.5724 - val_loss: 0.9917 - val_accuracy: 0.5757\n",
      "Epoch 214/400\n",
      "4/4 [==============================] - 0s 14ms/step - loss: 0.9854 - accuracy: 0.5773 - val_loss: 0.9913 - val_accuracy: 0.5688\n",
      "Epoch 215/400\n",
      "4/4 [==============================] - 0s 15ms/step - loss: 0.9773 - accuracy: 0.5803 - val_loss: 0.9911 - val_accuracy: 0.5688\n",
      "Epoch 216/400\n",
      "4/4 [==============================] - 0s 13ms/step - loss: 0.9719 - accuracy: 0.5823 - val_loss: 0.9912 - val_accuracy: 0.5688\n",
      "Epoch 217/400\n",
      "4/4 [==============================] - 0s 14ms/step - loss: 0.9855 - accuracy: 0.5635 - val_loss: 0.9911 - val_accuracy: 0.5688\n",
      "Epoch 218/400\n",
      "4/4 [==============================] - 0s 15ms/step - loss: 0.9829 - accuracy: 0.5813 - val_loss: 0.9909 - val_accuracy: 0.5711\n",
      "Epoch 219/400\n",
      "4/4 [==============================] - 0s 14ms/step - loss: 0.9629 - accuracy: 0.5714 - val_loss: 0.9908 - val_accuracy: 0.5665\n",
      "Epoch 220/400\n",
      "4/4 [==============================] - 0s 15ms/step - loss: 0.9703 - accuracy: 0.5813 - val_loss: 0.9908 - val_accuracy: 0.5711\n",
      "Epoch 221/400\n",
      "4/4 [==============================] - 0s 14ms/step - loss: 0.9896 - accuracy: 0.5773 - val_loss: 0.9907 - val_accuracy: 0.5665\n",
      "Epoch 222/400\n",
      "4/4 [==============================] - 0s 14ms/step - loss: 0.9731 - accuracy: 0.5744 - val_loss: 0.9904 - val_accuracy: 0.5688\n",
      "Epoch 223/400\n",
      "4/4 [==============================] - 0s 13ms/step - loss: 0.9695 - accuracy: 0.5764 - val_loss: 0.9898 - val_accuracy: 0.5665\n",
      "Epoch 224/400\n",
      "4/4 [==============================] - 0s 13ms/step - loss: 0.9722 - accuracy: 0.5744 - val_loss: 0.9894 - val_accuracy: 0.5711\n",
      "Epoch 225/400\n",
      "4/4 [==============================] - 0s 13ms/step - loss: 0.9673 - accuracy: 0.5714 - val_loss: 0.9890 - val_accuracy: 0.5688\n",
      "Epoch 226/400\n",
      "4/4 [==============================] - 0s 13ms/step - loss: 0.9883 - accuracy: 0.5695 - val_loss: 0.9888 - val_accuracy: 0.5757\n",
      "Epoch 227/400\n",
      "4/4 [==============================] - 0s 13ms/step - loss: 0.9720 - accuracy: 0.5685 - val_loss: 0.9887 - val_accuracy: 0.5688\n",
      "Epoch 228/400\n",
      "4/4 [==============================] - 0s 13ms/step - loss: 0.9735 - accuracy: 0.5833 - val_loss: 0.9888 - val_accuracy: 0.5711\n",
      "Epoch 229/400\n",
      "4/4 [==============================] - 0s 14ms/step - loss: 0.9776 - accuracy: 0.5773 - val_loss: 0.9887 - val_accuracy: 0.5711\n",
      "Epoch 230/400\n",
      "4/4 [==============================] - 0s 13ms/step - loss: 0.9785 - accuracy: 0.5773 - val_loss: 0.9886 - val_accuracy: 0.5711\n",
      "Epoch 231/400\n",
      "4/4 [==============================] - 0s 19ms/step - loss: 0.9687 - accuracy: 0.5675 - val_loss: 0.9887 - val_accuracy: 0.5688\n",
      "Epoch 232/400\n",
      "4/4 [==============================] - 0s 14ms/step - loss: 0.9721 - accuracy: 0.5793 - val_loss: 0.9885 - val_accuracy: 0.5688\n",
      "Epoch 233/400\n",
      "4/4 [==============================] - 0s 19ms/step - loss: 0.9760 - accuracy: 0.5675 - val_loss: 0.9882 - val_accuracy: 0.5711\n",
      "Epoch 234/400\n",
      "4/4 [==============================] - 0s 14ms/step - loss: 0.9691 - accuracy: 0.5823 - val_loss: 0.9879 - val_accuracy: 0.5688\n",
      "Epoch 235/400\n",
      "4/4 [==============================] - 0s 13ms/step - loss: 0.9552 - accuracy: 0.5961 - val_loss: 0.9873 - val_accuracy: 0.5711\n",
      "Epoch 236/400\n",
      "4/4 [==============================] - 0s 14ms/step - loss: 0.9798 - accuracy: 0.5635 - val_loss: 0.9867 - val_accuracy: 0.5688\n",
      "Epoch 237/400\n",
      "4/4 [==============================] - 0s 13ms/step - loss: 0.9815 - accuracy: 0.5645 - val_loss: 0.9865 - val_accuracy: 0.5711\n",
      "Epoch 238/400\n",
      "4/4 [==============================] - 0s 13ms/step - loss: 0.9713 - accuracy: 0.5773 - val_loss: 0.9864 - val_accuracy: 0.5711\n",
      "Epoch 239/400\n",
      "4/4 [==============================] - 0s 13ms/step - loss: 0.9634 - accuracy: 0.5764 - val_loss: 0.9862 - val_accuracy: 0.5642\n",
      "Epoch 240/400\n",
      "4/4 [==============================] - 0s 14ms/step - loss: 0.9734 - accuracy: 0.5803 - val_loss: 0.9863 - val_accuracy: 0.5665\n",
      "Epoch 241/400\n",
      "4/4 [==============================] - 0s 13ms/step - loss: 0.9776 - accuracy: 0.5695 - val_loss: 0.9865 - val_accuracy: 0.5642\n",
      "Epoch 242/400\n",
      "4/4 [==============================] - 0s 13ms/step - loss: 0.9732 - accuracy: 0.5645 - val_loss: 0.9865 - val_accuracy: 0.5711\n",
      "Epoch 243/400\n",
      "4/4 [==============================] - 0s 13ms/step - loss: 0.9481 - accuracy: 0.5882 - val_loss: 0.9864 - val_accuracy: 0.5688\n",
      "Epoch 244/400\n",
      "4/4 [==============================] - 0s 18ms/step - loss: 0.9894 - accuracy: 0.5606 - val_loss: 0.9865 - val_accuracy: 0.5665\n",
      "Epoch 245/400\n",
      "4/4 [==============================] - 0s 13ms/step - loss: 0.9654 - accuracy: 0.5842 - val_loss: 0.9865 - val_accuracy: 0.5688\n",
      "Epoch 246/400\n",
      "4/4 [==============================] - 0s 13ms/step - loss: 0.9691 - accuracy: 0.5793 - val_loss: 0.9862 - val_accuracy: 0.5665\n",
      "Epoch 247/400\n",
      "4/4 [==============================] - 0s 14ms/step - loss: 0.9618 - accuracy: 0.5862 - val_loss: 0.9861 - val_accuracy: 0.5688\n",
      "Epoch 248/400\n",
      "4/4 [==============================] - 0s 13ms/step - loss: 0.9637 - accuracy: 0.5862 - val_loss: 0.9858 - val_accuracy: 0.5688\n",
      "Epoch 249/400\n",
      "4/4 [==============================] - 0s 18ms/step - loss: 0.9632 - accuracy: 0.5803 - val_loss: 0.9856 - val_accuracy: 0.5711\n",
      "Epoch 250/400\n",
      "4/4 [==============================] - 0s 14ms/step - loss: 0.9755 - accuracy: 0.5645 - val_loss: 0.9853 - val_accuracy: 0.5688\n",
      "Epoch 251/400\n",
      "4/4 [==============================] - 0s 13ms/step - loss: 0.9610 - accuracy: 0.5714 - val_loss: 0.9853 - val_accuracy: 0.5665\n",
      "Epoch 252/400\n",
      "4/4 [==============================] - 0s 15ms/step - loss: 0.9642 - accuracy: 0.5813 - val_loss: 0.9852 - val_accuracy: 0.5665\n",
      "Epoch 253/400\n",
      "4/4 [==============================] - 0s 15ms/step - loss: 0.9584 - accuracy: 0.5754 - val_loss: 0.9849 - val_accuracy: 0.5688\n",
      "Epoch 254/400\n",
      "4/4 [==============================] - 0s 14ms/step - loss: 0.9601 - accuracy: 0.5783 - val_loss: 0.9844 - val_accuracy: 0.5688\n",
      "Epoch 255/400\n",
      "4/4 [==============================] - 0s 13ms/step - loss: 0.9615 - accuracy: 0.5921 - val_loss: 0.9840 - val_accuracy: 0.5688\n",
      "Epoch 256/400\n",
      "4/4 [==============================] - 0s 13ms/step - loss: 0.9736 - accuracy: 0.5704 - val_loss: 0.9837 - val_accuracy: 0.5688\n",
      "Epoch 257/400\n",
      "4/4 [==============================] - 0s 13ms/step - loss: 0.9640 - accuracy: 0.5783 - val_loss: 0.9838 - val_accuracy: 0.5688\n",
      "Epoch 258/400\n",
      "4/4 [==============================] - 0s 13ms/step - loss: 0.9605 - accuracy: 0.5773 - val_loss: 0.9841 - val_accuracy: 0.5711\n",
      "Epoch 259/400\n",
      "4/4 [==============================] - 0s 13ms/step - loss: 0.9626 - accuracy: 0.5803 - val_loss: 0.9841 - val_accuracy: 0.5711\n",
      "Epoch 260/400\n",
      "4/4 [==============================] - 0s 13ms/step - loss: 0.9525 - accuracy: 0.5882 - val_loss: 0.9837 - val_accuracy: 0.5711\n",
      "Epoch 261/400\n",
      "4/4 [==============================] - 0s 14ms/step - loss: 0.9465 - accuracy: 0.5970 - val_loss: 0.9832 - val_accuracy: 0.5711\n",
      "Epoch 262/400\n",
      "4/4 [==============================] - 0s 13ms/step - loss: 0.9605 - accuracy: 0.5901 - val_loss: 0.9828 - val_accuracy: 0.5711\n",
      "Epoch 263/400\n",
      "4/4 [==============================] - 0s 13ms/step - loss: 0.9466 - accuracy: 0.5882 - val_loss: 0.9828 - val_accuracy: 0.5711\n",
      "Epoch 264/400\n",
      "4/4 [==============================] - 0s 13ms/step - loss: 0.9620 - accuracy: 0.5714 - val_loss: 0.9830 - val_accuracy: 0.5711\n",
      "Epoch 265/400\n",
      "4/4 [==============================] - 0s 13ms/step - loss: 0.9483 - accuracy: 0.5852 - val_loss: 0.9829 - val_accuracy: 0.5711\n",
      "Epoch 266/400\n",
      "4/4 [==============================] - 0s 19ms/step - loss: 0.9557 - accuracy: 0.5862 - val_loss: 0.9829 - val_accuracy: 0.5688\n",
      "Epoch 267/400\n",
      "4/4 [==============================] - 0s 13ms/step - loss: 0.9575 - accuracy: 0.5872 - val_loss: 0.9826 - val_accuracy: 0.5711\n",
      "Epoch 268/400\n",
      "4/4 [==============================] - 0s 13ms/step - loss: 0.9507 - accuracy: 0.5882 - val_loss: 0.9824 - val_accuracy: 0.5711\n",
      "Epoch 269/400\n",
      "4/4 [==============================] - 0s 13ms/step - loss: 0.9817 - accuracy: 0.5626 - val_loss: 0.9823 - val_accuracy: 0.5688\n",
      "Epoch 270/400\n",
      "4/4 [==============================] - 0s 14ms/step - loss: 0.9613 - accuracy: 0.5793 - val_loss: 0.9822 - val_accuracy: 0.5711\n",
      "Epoch 271/400\n",
      "4/4 [==============================] - 0s 13ms/step - loss: 0.9722 - accuracy: 0.5754 - val_loss: 0.9821 - val_accuracy: 0.5711\n",
      "Epoch 272/400\n",
      "4/4 [==============================] - 0s 13ms/step - loss: 0.9477 - accuracy: 0.5823 - val_loss: 0.9817 - val_accuracy: 0.5711\n",
      "Epoch 273/400\n",
      "4/4 [==============================] - 0s 14ms/step - loss: 0.9713 - accuracy: 0.5675 - val_loss: 0.9815 - val_accuracy: 0.5688\n",
      "Epoch 274/400\n",
      "4/4 [==============================] - 0s 18ms/step - loss: 0.9593 - accuracy: 0.5842 - val_loss: 0.9814 - val_accuracy: 0.5665\n",
      "Epoch 275/400\n",
      "4/4 [==============================] - 0s 13ms/step - loss: 0.9552 - accuracy: 0.5734 - val_loss: 0.9814 - val_accuracy: 0.5665\n",
      "Epoch 276/400\n",
      "4/4 [==============================] - 0s 13ms/step - loss: 0.9538 - accuracy: 0.5813 - val_loss: 0.9812 - val_accuracy: 0.5665\n",
      "Epoch 277/400\n",
      "4/4 [==============================] - 0s 15ms/step - loss: 0.9670 - accuracy: 0.5813 - val_loss: 0.9812 - val_accuracy: 0.5734\n",
      "Epoch 278/400\n",
      "4/4 [==============================] - 0s 13ms/step - loss: 0.9534 - accuracy: 0.5872 - val_loss: 0.9812 - val_accuracy: 0.5780\n",
      "Epoch 279/400\n",
      "4/4 [==============================] - 0s 13ms/step - loss: 0.9670 - accuracy: 0.5695 - val_loss: 0.9813 - val_accuracy: 0.5780\n",
      "Epoch 280/400\n",
      "4/4 [==============================] - 0s 13ms/step - loss: 0.9497 - accuracy: 0.5842 - val_loss: 0.9810 - val_accuracy: 0.5780\n",
      "Epoch 281/400\n",
      "4/4 [==============================] - 0s 13ms/step - loss: 0.9530 - accuracy: 0.5872 - val_loss: 0.9809 - val_accuracy: 0.5734\n",
      "Epoch 282/400\n",
      "4/4 [==============================] - 0s 13ms/step - loss: 0.9564 - accuracy: 0.5882 - val_loss: 0.9810 - val_accuracy: 0.5642\n",
      "Epoch 283/400\n",
      "4/4 [==============================] - 0s 13ms/step - loss: 0.9471 - accuracy: 0.5724 - val_loss: 0.9810 - val_accuracy: 0.5688\n",
      "Epoch 284/400\n",
      "4/4 [==============================] - 0s 14ms/step - loss: 0.9612 - accuracy: 0.5764 - val_loss: 0.9812 - val_accuracy: 0.5665\n",
      "Epoch 285/400\n",
      "4/4 [==============================] - 0s 13ms/step - loss: 0.9555 - accuracy: 0.5970 - val_loss: 0.9810 - val_accuracy: 0.5734\n",
      "Epoch 286/400\n",
      "4/4 [==============================] - 0s 13ms/step - loss: 0.9501 - accuracy: 0.5704 - val_loss: 0.9806 - val_accuracy: 0.5734\n",
      "Epoch 287/400\n",
      "4/4 [==============================] - 0s 13ms/step - loss: 0.9722 - accuracy: 0.5675 - val_loss: 0.9804 - val_accuracy: 0.5757\n",
      "Epoch 288/400\n",
      "4/4 [==============================] - 0s 15ms/step - loss: 0.9583 - accuracy: 0.5773 - val_loss: 0.9802 - val_accuracy: 0.5734\n",
      "Epoch 289/400\n",
      "4/4 [==============================] - 0s 22ms/step - loss: 0.9505 - accuracy: 0.5961 - val_loss: 0.9803 - val_accuracy: 0.5734\n",
      "Epoch 290/400\n",
      "4/4 [==============================] - 0s 22ms/step - loss: 0.9568 - accuracy: 0.5823 - val_loss: 0.9802 - val_accuracy: 0.5734\n",
      "Epoch 291/400\n",
      "4/4 [==============================] - 0s 14ms/step - loss: 0.9513 - accuracy: 0.5892 - val_loss: 0.9800 - val_accuracy: 0.5734\n",
      "Epoch 292/400\n",
      "4/4 [==============================] - 0s 13ms/step - loss: 0.9526 - accuracy: 0.5764 - val_loss: 0.9797 - val_accuracy: 0.5711\n",
      "Epoch 293/400\n",
      "4/4 [==============================] - 0s 20ms/step - loss: 0.9457 - accuracy: 0.5862 - val_loss: 0.9791 - val_accuracy: 0.5734\n",
      "Epoch 294/400\n",
      "4/4 [==============================] - 0s 14ms/step - loss: 0.9497 - accuracy: 0.6020 - val_loss: 0.9789 - val_accuracy: 0.5711\n",
      "Epoch 295/400\n",
      "4/4 [==============================] - 0s 14ms/step - loss: 0.9548 - accuracy: 0.5823 - val_loss: 0.9789 - val_accuracy: 0.5757\n",
      "Epoch 296/400\n",
      "4/4 [==============================] - 0s 13ms/step - loss: 0.9462 - accuracy: 0.5872 - val_loss: 0.9791 - val_accuracy: 0.5734\n",
      "Epoch 297/400\n",
      "4/4 [==============================] - 0s 13ms/step - loss: 0.9348 - accuracy: 0.5921 - val_loss: 0.9794 - val_accuracy: 0.5734\n",
      "Epoch 298/400\n",
      "4/4 [==============================] - 0s 13ms/step - loss: 0.9511 - accuracy: 0.5852 - val_loss: 0.9793 - val_accuracy: 0.5711\n",
      "Epoch 299/400\n",
      "4/4 [==============================] - 0s 13ms/step - loss: 0.9489 - accuracy: 0.5911 - val_loss: 0.9792 - val_accuracy: 0.5711\n",
      "Epoch 300/400\n",
      "4/4 [==============================] - 0s 13ms/step - loss: 0.9490 - accuracy: 0.5961 - val_loss: 0.9791 - val_accuracy: 0.5688\n",
      "Epoch 301/400\n",
      "4/4 [==============================] - 0s 13ms/step - loss: 0.9509 - accuracy: 0.5803 - val_loss: 0.9788 - val_accuracy: 0.5734\n",
      "Epoch 302/400\n",
      "4/4 [==============================] - 0s 12ms/step - loss: 0.9534 - accuracy: 0.5872 - val_loss: 0.9786 - val_accuracy: 0.5757\n",
      "Epoch 303/400\n",
      "4/4 [==============================] - 0s 14ms/step - loss: 0.9516 - accuracy: 0.5901 - val_loss: 0.9784 - val_accuracy: 0.5757\n",
      "Epoch 304/400\n",
      "4/4 [==============================] - 0s 13ms/step - loss: 0.9655 - accuracy: 0.5675 - val_loss: 0.9787 - val_accuracy: 0.5757\n",
      "Epoch 305/400\n",
      "4/4 [==============================] - 0s 13ms/step - loss: 0.9501 - accuracy: 0.5833 - val_loss: 0.9789 - val_accuracy: 0.5734\n",
      "Epoch 306/400\n",
      "4/4 [==============================] - 0s 13ms/step - loss: 0.9463 - accuracy: 0.5872 - val_loss: 0.9789 - val_accuracy: 0.5780\n",
      "Epoch 307/400\n",
      "4/4 [==============================] - 0s 13ms/step - loss: 0.9416 - accuracy: 0.5980 - val_loss: 0.9789 - val_accuracy: 0.5757\n",
      "Epoch 308/400\n",
      "4/4 [==============================] - 0s 14ms/step - loss: 0.9565 - accuracy: 0.5695 - val_loss: 0.9787 - val_accuracy: 0.5734\n",
      "Epoch 309/400\n",
      "4/4 [==============================] - 0s 13ms/step - loss: 0.9528 - accuracy: 0.5833 - val_loss: 0.9788 - val_accuracy: 0.5757\n",
      "Epoch 310/400\n",
      "4/4 [==============================] - 0s 13ms/step - loss: 0.9278 - accuracy: 0.5901 - val_loss: 0.9785 - val_accuracy: 0.5734\n",
      "Epoch 311/400\n",
      "4/4 [==============================] - 0s 13ms/step - loss: 0.9438 - accuracy: 0.5704 - val_loss: 0.9782 - val_accuracy: 0.5734\n",
      "Epoch 312/400\n",
      "4/4 [==============================] - 0s 13ms/step - loss: 0.9507 - accuracy: 0.5970 - val_loss: 0.9780 - val_accuracy: 0.5757\n",
      "Epoch 313/400\n",
      "4/4 [==============================] - 0s 14ms/step - loss: 0.9432 - accuracy: 0.5911 - val_loss: 0.9780 - val_accuracy: 0.5757\n",
      "Epoch 314/400\n",
      "4/4 [==============================] - 0s 14ms/step - loss: 0.9436 - accuracy: 0.5833 - val_loss: 0.9780 - val_accuracy: 0.5734\n",
      "Epoch 315/400\n",
      "4/4 [==============================] - 0s 14ms/step - loss: 0.9525 - accuracy: 0.5931 - val_loss: 0.9784 - val_accuracy: 0.5734\n",
      "Epoch 316/400\n",
      "4/4 [==============================] - 0s 14ms/step - loss: 0.9410 - accuracy: 0.5892 - val_loss: 0.9787 - val_accuracy: 0.5826\n",
      "Epoch 317/400\n",
      "4/4 [==============================] - 0s 14ms/step - loss: 0.9518 - accuracy: 0.5764 - val_loss: 0.9786 - val_accuracy: 0.5803\n",
      "Epoch 318/400\n",
      "4/4 [==============================] - 0s 18ms/step - loss: 0.9553 - accuracy: 0.5862 - val_loss: 0.9783 - val_accuracy: 0.5757\n",
      "Epoch 319/400\n",
      "4/4 [==============================] - 0s 19ms/step - loss: 0.9364 - accuracy: 0.5842 - val_loss: 0.9780 - val_accuracy: 0.5757\n",
      "Epoch 320/400\n",
      "4/4 [==============================] - 0s 20ms/step - loss: 0.9577 - accuracy: 0.5773 - val_loss: 0.9779 - val_accuracy: 0.5757\n",
      "Epoch 321/400\n",
      "4/4 [==============================] - 0s 13ms/step - loss: 0.9490 - accuracy: 0.5754 - val_loss: 0.9776 - val_accuracy: 0.5780\n",
      "Epoch 322/400\n",
      "4/4 [==============================] - 0s 13ms/step - loss: 0.9470 - accuracy: 0.5813 - val_loss: 0.9773 - val_accuracy: 0.5780\n",
      "Epoch 323/400\n",
      "4/4 [==============================] - 0s 13ms/step - loss: 0.9326 - accuracy: 0.5833 - val_loss: 0.9771 - val_accuracy: 0.5780\n",
      "Epoch 324/400\n",
      "4/4 [==============================] - 0s 19ms/step - loss: 0.9460 - accuracy: 0.5783 - val_loss: 0.9769 - val_accuracy: 0.5803\n",
      "Epoch 325/400\n",
      "4/4 [==============================] - 0s 14ms/step - loss: 0.9412 - accuracy: 0.5892 - val_loss: 0.9769 - val_accuracy: 0.5780\n",
      "Epoch 326/400\n",
      "4/4 [==============================] - 0s 13ms/step - loss: 0.9523 - accuracy: 0.5892 - val_loss: 0.9769 - val_accuracy: 0.5803\n",
      "Epoch 327/400\n",
      "4/4 [==============================] - 0s 19ms/step - loss: 0.9404 - accuracy: 0.5911 - val_loss: 0.9771 - val_accuracy: 0.5780\n",
      "Epoch 328/400\n",
      "4/4 [==============================] - 0s 14ms/step - loss: 0.9413 - accuracy: 0.5862 - val_loss: 0.9770 - val_accuracy: 0.5734\n",
      "Epoch 329/400\n",
      "4/4 [==============================] - 0s 14ms/step - loss: 0.9474 - accuracy: 0.5734 - val_loss: 0.9771 - val_accuracy: 0.5757\n",
      "Epoch 330/400\n",
      "4/4 [==============================] - 0s 14ms/step - loss: 0.9376 - accuracy: 0.6000 - val_loss: 0.9770 - val_accuracy: 0.5826\n",
      "Epoch 331/400\n",
      "4/4 [==============================] - 0s 14ms/step - loss: 0.9369 - accuracy: 0.6010 - val_loss: 0.9771 - val_accuracy: 0.5826\n",
      "Epoch 332/400\n",
      "4/4 [==============================] - 0s 13ms/step - loss: 0.9442 - accuracy: 0.5990 - val_loss: 0.9770 - val_accuracy: 0.5757\n",
      "Epoch 333/400\n",
      "4/4 [==============================] - 0s 14ms/step - loss: 0.9458 - accuracy: 0.5892 - val_loss: 0.9770 - val_accuracy: 0.5803\n",
      "Epoch 334/400\n",
      "4/4 [==============================] - 0s 14ms/step - loss: 0.9549 - accuracy: 0.5852 - val_loss: 0.9768 - val_accuracy: 0.5780\n",
      "Epoch 335/400\n",
      "4/4 [==============================] - 0s 14ms/step - loss: 0.9456 - accuracy: 0.5852 - val_loss: 0.9767 - val_accuracy: 0.5757\n",
      "Epoch 336/400\n",
      "4/4 [==============================] - 0s 13ms/step - loss: 0.9458 - accuracy: 0.5704 - val_loss: 0.9768 - val_accuracy: 0.5780\n",
      "Epoch 337/400\n",
      "4/4 [==============================] - 0s 13ms/step - loss: 0.9516 - accuracy: 0.5852 - val_loss: 0.9769 - val_accuracy: 0.5780\n",
      "Epoch 338/400\n",
      "4/4 [==============================] - 0s 13ms/step - loss: 0.9557 - accuracy: 0.5754 - val_loss: 0.9771 - val_accuracy: 0.5780\n",
      "Epoch 339/400\n",
      "4/4 [==============================] - 0s 14ms/step - loss: 0.9580 - accuracy: 0.5704 - val_loss: 0.9770 - val_accuracy: 0.5780\n",
      "Epoch 340/400\n",
      "4/4 [==============================] - 0s 14ms/step - loss: 0.9440 - accuracy: 0.5773 - val_loss: 0.9773 - val_accuracy: 0.5780\n",
      "Epoch 341/400\n",
      "4/4 [==============================] - 0s 13ms/step - loss: 0.9491 - accuracy: 0.5852 - val_loss: 0.9774 - val_accuracy: 0.5803\n",
      "Epoch 342/400\n",
      "4/4 [==============================] - 0s 13ms/step - loss: 0.9375 - accuracy: 0.5872 - val_loss: 0.9768 - val_accuracy: 0.5780\n",
      "Epoch 343/400\n",
      "4/4 [==============================] - 0s 13ms/step - loss: 0.9385 - accuracy: 0.5951 - val_loss: 0.9764 - val_accuracy: 0.5803\n",
      "Epoch 344/400\n",
      "4/4 [==============================] - 0s 13ms/step - loss: 0.9374 - accuracy: 0.5911 - val_loss: 0.9759 - val_accuracy: 0.5780\n",
      "Epoch 345/400\n",
      "4/4 [==============================] - 0s 13ms/step - loss: 0.9315 - accuracy: 0.6020 - val_loss: 0.9757 - val_accuracy: 0.5757\n",
      "Epoch 346/400\n",
      "4/4 [==============================] - 0s 13ms/step - loss: 0.9301 - accuracy: 0.6010 - val_loss: 0.9756 - val_accuracy: 0.5734\n",
      "Epoch 347/400\n",
      "4/4 [==============================] - 0s 14ms/step - loss: 0.9379 - accuracy: 0.5941 - val_loss: 0.9755 - val_accuracy: 0.5757\n",
      "Epoch 348/400\n",
      "4/4 [==============================] - 0s 14ms/step - loss: 0.9418 - accuracy: 0.5764 - val_loss: 0.9757 - val_accuracy: 0.5757\n",
      "Epoch 349/400\n",
      "4/4 [==============================] - 0s 19ms/step - loss: 0.9559 - accuracy: 0.5833 - val_loss: 0.9756 - val_accuracy: 0.5803\n",
      "Epoch 350/400\n",
      "4/4 [==============================] - 0s 15ms/step - loss: 0.9390 - accuracy: 0.5813 - val_loss: 0.9758 - val_accuracy: 0.5803\n",
      "Epoch 351/400\n",
      "4/4 [==============================] - 0s 15ms/step - loss: 0.9526 - accuracy: 0.5724 - val_loss: 0.9761 - val_accuracy: 0.5803\n",
      "Epoch 352/400\n",
      "4/4 [==============================] - 0s 14ms/step - loss: 0.9286 - accuracy: 0.6000 - val_loss: 0.9761 - val_accuracy: 0.5826\n",
      "Epoch 353/400\n",
      "4/4 [==============================] - 0s 14ms/step - loss: 0.9168 - accuracy: 0.5990 - val_loss: 0.9761 - val_accuracy: 0.5803\n",
      "Epoch 354/400\n",
      "4/4 [==============================] - 0s 14ms/step - loss: 0.9337 - accuracy: 0.5773 - val_loss: 0.9756 - val_accuracy: 0.5803\n",
      "Epoch 355/400\n",
      "4/4 [==============================] - 0s 14ms/step - loss: 0.9393 - accuracy: 0.6039 - val_loss: 0.9754 - val_accuracy: 0.5803\n",
      "Epoch 356/400\n",
      "4/4 [==============================] - 0s 14ms/step - loss: 0.9381 - accuracy: 0.5882 - val_loss: 0.9752 - val_accuracy: 0.5803\n",
      "Epoch 357/400\n",
      "4/4 [==============================] - 0s 14ms/step - loss: 0.9418 - accuracy: 0.5951 - val_loss: 0.9750 - val_accuracy: 0.5803\n",
      "Epoch 358/400\n",
      "4/4 [==============================] - 0s 13ms/step - loss: 0.9311 - accuracy: 0.5990 - val_loss: 0.9749 - val_accuracy: 0.5803\n",
      "Epoch 359/400\n",
      "4/4 [==============================] - 0s 13ms/step - loss: 0.9356 - accuracy: 0.5911 - val_loss: 0.9750 - val_accuracy: 0.5826\n",
      "Epoch 360/400\n",
      "4/4 [==============================] - 0s 13ms/step - loss: 0.9345 - accuracy: 0.5852 - val_loss: 0.9754 - val_accuracy: 0.5757\n",
      "Epoch 361/400\n",
      "4/4 [==============================] - 0s 13ms/step - loss: 0.9378 - accuracy: 0.5842 - val_loss: 0.9756 - val_accuracy: 0.5757\n",
      "Epoch 362/400\n",
      "4/4 [==============================] - 0s 13ms/step - loss: 0.9348 - accuracy: 0.6099 - val_loss: 0.9758 - val_accuracy: 0.5757\n",
      "Epoch 363/400\n",
      "4/4 [==============================] - 0s 13ms/step - loss: 0.9362 - accuracy: 0.5764 - val_loss: 0.9755 - val_accuracy: 0.5803\n",
      "Epoch 364/400\n",
      "4/4 [==============================] - 0s 13ms/step - loss: 0.9270 - accuracy: 0.6079 - val_loss: 0.9752 - val_accuracy: 0.5803\n",
      "Epoch 365/400\n",
      "4/4 [==============================] - 0s 19ms/step - loss: 0.9359 - accuracy: 0.6010 - val_loss: 0.9751 - val_accuracy: 0.5780\n",
      "Epoch 366/400\n",
      "4/4 [==============================] - 0s 14ms/step - loss: 0.9314 - accuracy: 0.5911 - val_loss: 0.9750 - val_accuracy: 0.5826\n",
      "Epoch 367/400\n",
      "4/4 [==============================] - 0s 14ms/step - loss: 0.9223 - accuracy: 0.5980 - val_loss: 0.9752 - val_accuracy: 0.5826\n",
      "Epoch 368/400\n",
      "4/4 [==============================] - 0s 14ms/step - loss: 0.9262 - accuracy: 0.5961 - val_loss: 0.9751 - val_accuracy: 0.5803\n",
      "Epoch 369/400\n",
      "4/4 [==============================] - 0s 13ms/step - loss: 0.9445 - accuracy: 0.5901 - val_loss: 0.9748 - val_accuracy: 0.5826\n",
      "Epoch 370/400\n",
      "4/4 [==============================] - 0s 14ms/step - loss: 0.9387 - accuracy: 0.5911 - val_loss: 0.9747 - val_accuracy: 0.5826\n",
      "Epoch 371/400\n",
      "4/4 [==============================] - 0s 14ms/step - loss: 0.9332 - accuracy: 0.5980 - val_loss: 0.9748 - val_accuracy: 0.5803\n",
      "Epoch 372/400\n",
      "4/4 [==============================] - 0s 13ms/step - loss: 0.9286 - accuracy: 0.5931 - val_loss: 0.9751 - val_accuracy: 0.5849\n",
      "Epoch 373/400\n",
      "4/4 [==============================] - 0s 14ms/step - loss: 0.9447 - accuracy: 0.5842 - val_loss: 0.9752 - val_accuracy: 0.5826\n",
      "Epoch 374/400\n",
      "4/4 [==============================] - 0s 14ms/step - loss: 0.9423 - accuracy: 0.6030 - val_loss: 0.9749 - val_accuracy: 0.5849\n",
      "Epoch 375/400\n",
      "4/4 [==============================] - 0s 14ms/step - loss: 0.9304 - accuracy: 0.6030 - val_loss: 0.9746 - val_accuracy: 0.5757\n",
      "Epoch 376/400\n",
      "4/4 [==============================] - 0s 13ms/step - loss: 0.9181 - accuracy: 0.5961 - val_loss: 0.9741 - val_accuracy: 0.5757\n",
      "Epoch 377/400\n",
      "4/4 [==============================] - 0s 18ms/step - loss: 0.9420 - accuracy: 0.5872 - val_loss: 0.9739 - val_accuracy: 0.5803\n",
      "Epoch 378/400\n",
      "4/4 [==============================] - 0s 13ms/step - loss: 0.9224 - accuracy: 0.5961 - val_loss: 0.9741 - val_accuracy: 0.5780\n",
      "Epoch 379/400\n",
      "4/4 [==============================] - 0s 13ms/step - loss: 0.9395 - accuracy: 0.5882 - val_loss: 0.9747 - val_accuracy: 0.5849\n",
      "Epoch 380/400\n",
      "4/4 [==============================] - 0s 18ms/step - loss: 0.9318 - accuracy: 0.5951 - val_loss: 0.9751 - val_accuracy: 0.5849\n",
      "Epoch 381/400\n",
      "4/4 [==============================] - 0s 13ms/step - loss: 0.9392 - accuracy: 0.5813 - val_loss: 0.9750 - val_accuracy: 0.5849\n",
      "Epoch 382/400\n",
      "4/4 [==============================] - 0s 13ms/step - loss: 0.9244 - accuracy: 0.5980 - val_loss: 0.9749 - val_accuracy: 0.5803\n",
      "Epoch 383/400\n",
      "4/4 [==============================] - 0s 13ms/step - loss: 0.9212 - accuracy: 0.5970 - val_loss: 0.9745 - val_accuracy: 0.5826\n",
      "Epoch 384/400\n",
      "4/4 [==============================] - 0s 14ms/step - loss: 0.9280 - accuracy: 0.5911 - val_loss: 0.9737 - val_accuracy: 0.5803\n",
      "Epoch 385/400\n",
      "4/4 [==============================] - 0s 13ms/step - loss: 0.9351 - accuracy: 0.5931 - val_loss: 0.9732 - val_accuracy: 0.5803\n",
      "Epoch 386/400\n",
      "4/4 [==============================] - 0s 19ms/step - loss: 0.9304 - accuracy: 0.5882 - val_loss: 0.9730 - val_accuracy: 0.5803\n",
      "Epoch 387/400\n",
      "4/4 [==============================] - 0s 14ms/step - loss: 0.9300 - accuracy: 0.5783 - val_loss: 0.9732 - val_accuracy: 0.5803\n",
      "Epoch 388/400\n",
      "4/4 [==============================] - 0s 14ms/step - loss: 0.9129 - accuracy: 0.6010 - val_loss: 0.9735 - val_accuracy: 0.5826\n",
      "Epoch 389/400\n",
      "4/4 [==============================] - 0s 14ms/step - loss: 0.9260 - accuracy: 0.6030 - val_loss: 0.9740 - val_accuracy: 0.5872\n",
      "Epoch 390/400\n",
      "4/4 [==============================] - 0s 13ms/step - loss: 0.9235 - accuracy: 0.5803 - val_loss: 0.9743 - val_accuracy: 0.5872\n",
      "Epoch 391/400\n",
      "4/4 [==============================] - 0s 14ms/step - loss: 0.9376 - accuracy: 0.6039 - val_loss: 0.9743 - val_accuracy: 0.5849\n",
      "Epoch 392/400\n",
      "4/4 [==============================] - 0s 14ms/step - loss: 0.9325 - accuracy: 0.5833 - val_loss: 0.9741 - val_accuracy: 0.5872\n",
      "Epoch 393/400\n",
      "4/4 [==============================] - 0s 14ms/step - loss: 0.9414 - accuracy: 0.6079 - val_loss: 0.9738 - val_accuracy: 0.5849\n",
      "Epoch 394/400\n",
      "4/4 [==============================] - 0s 14ms/step - loss: 0.9346 - accuracy: 0.5862 - val_loss: 0.9734 - val_accuracy: 0.5826\n",
      "Epoch 395/400\n",
      "4/4 [==============================] - 0s 13ms/step - loss: 0.9230 - accuracy: 0.6030 - val_loss: 0.9731 - val_accuracy: 0.5826\n",
      "Epoch 396/400\n",
      "4/4 [==============================] - 0s 13ms/step - loss: 0.9196 - accuracy: 0.5990 - val_loss: 0.9731 - val_accuracy: 0.5826\n",
      "Epoch 397/400\n",
      "4/4 [==============================] - 0s 14ms/step - loss: 0.9253 - accuracy: 0.6030 - val_loss: 0.9730 - val_accuracy: 0.5826\n",
      "Epoch 398/400\n",
      "4/4 [==============================] - 0s 14ms/step - loss: 0.9231 - accuracy: 0.5842 - val_loss: 0.9730 - val_accuracy: 0.5849\n",
      "Epoch 399/400\n",
      "4/4 [==============================] - 0s 13ms/step - loss: 0.9327 - accuracy: 0.5951 - val_loss: 0.9731 - val_accuracy: 0.5849\n",
      "Epoch 400/400\n",
      "4/4 [==============================] - 0s 12ms/step - loss: 0.9202 - accuracy: 0.6000 - val_loss: 0.9732 - val_accuracy: 0.5872\n"
     ]
    },
    {
     "data": {
      "text/plain": [
       "<keras.callbacks.History at 0x7f7d136ec710>"
      ]
     },
     "execution_count": 68,
     "metadata": {},
     "output_type": "execute_result"
    }
   ],
   "source": [
    "model.fit(x=X_train, \n",
    "          y=y_train,\n",
    "          epochs=400,\n",
    "          validation_data=(X_test, y_test),\n",
    "          batch_size = 256,\n",
    "          callbacks=[early_stop]\n",
    "          )"
   ]
  },
  {
   "cell_type": "markdown",
   "id": "a321b3c9",
   "metadata": {
    "papermill": {
     "duration": 0.183565,
     "end_time": "2023-03-24T17:52:40.423538",
     "exception": false,
     "start_time": "2023-03-24T17:52:40.239973",
     "status": "completed"
    },
    "tags": []
   },
   "source": [
    "Same as before. Are there ways to improve the accuracy?"
   ]
  },
  {
   "cell_type": "code",
   "execution_count": 69,
   "id": "bdf96009",
   "metadata": {
    "execution": {
     "iopub.execute_input": "2023-03-24T17:52:40.797828Z",
     "iopub.status.busy": "2023-03-24T17:52:40.796758Z",
     "iopub.status.idle": "2023-03-24T17:52:40.802936Z",
     "shell.execute_reply": "2023-03-24T17:52:40.801988Z"
    },
    "papermill": {
     "duration": 0.196236,
     "end_time": "2023-03-24T17:52:40.805635",
     "exception": false,
     "start_time": "2023-03-24T17:52:40.609399",
     "status": "completed"
    },
    "tags": []
   },
   "outputs": [],
   "source": [
    "model_loss_do = pd.DataFrame(model.history.history)"
   ]
  },
  {
   "cell_type": "code",
   "execution_count": 70,
   "id": "284be60f",
   "metadata": {
    "execution": {
     "iopub.execute_input": "2023-03-24T17:52:41.173649Z",
     "iopub.status.busy": "2023-03-24T17:52:41.173177Z",
     "iopub.status.idle": "2023-03-24T17:52:41.506135Z",
     "shell.execute_reply": "2023-03-24T17:52:41.504643Z"
    },
    "papermill": {
     "duration": 0.520417,
     "end_time": "2023-03-24T17:52:41.509069",
     "exception": false,
     "start_time": "2023-03-24T17:52:40.988652",
     "status": "completed"
    },
    "tags": []
   },
   "outputs": [
    {
     "data": {
      "text/plain": [
       "<AxesSubplot:>"
      ]
     },
     "execution_count": 70,
     "metadata": {},
     "output_type": "execute_result"
    },
    {
     "data": {
      "image/png": "[encoded data removed]",
      "text/plain": [
       "<Figure size 1200x600 with 1 Axes>"
      ]
     },
     "metadata": {},
     "output_type": "display_data"
    }
   ],
   "source": [
    "model_loss_do.plot(figsize=(12,6))"
   ]
  },
  {
   "cell_type": "code",
   "execution_count": 71,
   "id": "b2a08b94",
   "metadata": {
    "execution": {
     "iopub.execute_input": "2023-03-24T17:52:41.885210Z",
     "iopub.status.busy": "2023-03-24T17:52:41.884743Z",
     "iopub.status.idle": "2023-03-24T17:52:42.060344Z",
     "shell.execute_reply": "2023-03-24T17:52:42.059261Z"
    },
    "papermill": {
     "duration": 0.366672,
     "end_time": "2023-03-24T17:52:42.063302",
     "exception": false,
     "start_time": "2023-03-24T17:52:41.696630",
     "status": "completed"
    },
    "tags": []
   },
   "outputs": [
    {
     "name": "stdout",
     "output_type": "stream",
     "text": [
      "14/14 [==============================] - 0s 1ms/step\n"
     ]
    }
   ],
   "source": [
    "pred_DO_Red = (model.predict(X_test))"
   ]
  },
  {
   "cell_type": "code",
   "execution_count": 72,
   "id": "316283af",
   "metadata": {
    "execution": {
     "iopub.execute_input": "2023-03-24T17:52:42.435731Z",
     "iopub.status.busy": "2023-03-24T17:52:42.434926Z",
     "iopub.status.idle": "2023-03-24T17:52:42.442327Z",
     "shell.execute_reply": "2023-03-24T17:52:42.441238Z"
    },
    "papermill": {
     "duration": 0.196103,
     "end_time": "2023-03-24T17:52:42.444603",
     "exception": false,
     "start_time": "2023-03-24T17:52:42.248500",
     "status": "completed"
    },
    "tags": []
   },
   "outputs": [
    {
     "data": {
      "text/plain": [
       "array([[0, 0, 0, 1, 0],\n",
       "       [0, 1, 0, 0, 0],\n",
       "       [0, 1, 0, 0, 0],\n",
       "       ...,\n",
       "       [0, 0, 1, 0, 0],\n",
       "       [0, 1, 0, 0, 0],\n",
       "       [0, 0, 0, 1, 0]], dtype=uint8)"
      ]
     },
     "execution_count": 72,
     "metadata": {},
     "output_type": "execute_result"
    }
   ],
   "source": [
    "y_test"
   ]
  },
  {
   "cell_type": "code",
   "execution_count": 73,
   "id": "64cab749",
   "metadata": {
    "execution": {
     "iopub.execute_input": "2023-03-24T17:52:42.880554Z",
     "iopub.status.busy": "2023-03-24T17:52:42.879186Z",
     "iopub.status.idle": "2023-03-24T17:52:42.899486Z",
     "shell.execute_reply": "2023-03-24T17:52:42.898160Z"
    },
    "papermill": {
     "duration": 0.269842,
     "end_time": "2023-03-24T17:52:42.902400",
     "exception": false,
     "start_time": "2023-03-24T17:52:42.632558",
     "status": "completed"
    },
    "tags": []
   },
   "outputs": [
    {
     "data": {
      "text/html": [
       "<div>\n",
       "<style scoped>\n",
       "    .dataframe tbody tr th:only-of-type {\n",
       "        vertical-align: middle;\n",
       "    }\n",
       "\n",
       "    .dataframe tbody tr th {\n",
       "        vertical-align: top;\n",
       "    }\n",
       "\n",
       "    .dataframe thead th {\n",
       "        text-align: right;\n",
       "    }\n",
       "</style>\n",
       "<table border=\"1\" class=\"dataframe\">\n",
       "  <thead>\n",
       "    <tr style=\"text-align: right;\">\n",
       "      <th></th>\n",
       "      <th>0</th>\n",
       "      <th>1</th>\n",
       "      <th>2</th>\n",
       "      <th>3</th>\n",
       "      <th>4</th>\n",
       "      <th>0</th>\n",
       "      <th>1</th>\n",
       "      <th>2</th>\n",
       "      <th>3</th>\n",
       "      <th>4</th>\n",
       "    </tr>\n",
       "  </thead>\n",
       "  <tbody>\n",
       "    <tr>\n",
       "      <th>0</th>\n",
       "      <td>0.049264</td>\n",
       "      <td>0.141730</td>\n",
       "      <td>0.379949</td>\n",
       "      <td>0.390685</td>\n",
       "      <td>0.038372</td>\n",
       "      <td>0</td>\n",
       "      <td>0</td>\n",
       "      <td>0</td>\n",
       "      <td>1</td>\n",
       "      <td>0</td>\n",
       "    </tr>\n",
       "    <tr>\n",
       "      <th>1</th>\n",
       "      <td>0.039174</td>\n",
       "      <td>0.574946</td>\n",
       "      <td>0.374980</td>\n",
       "      <td>0.007850</td>\n",
       "      <td>0.003049</td>\n",
       "      <td>0</td>\n",
       "      <td>1</td>\n",
       "      <td>0</td>\n",
       "      <td>0</td>\n",
       "      <td>0</td>\n",
       "    </tr>\n",
       "    <tr>\n",
       "      <th>2</th>\n",
       "      <td>0.042296</td>\n",
       "      <td>0.603560</td>\n",
       "      <td>0.344636</td>\n",
       "      <td>0.006116</td>\n",
       "      <td>0.003392</td>\n",
       "      <td>0</td>\n",
       "      <td>1</td>\n",
       "      <td>0</td>\n",
       "      <td>0</td>\n",
       "      <td>0</td>\n",
       "    </tr>\n",
       "    <tr>\n",
       "      <th>3</th>\n",
       "      <td>0.024558</td>\n",
       "      <td>0.135232</td>\n",
       "      <td>0.505588</td>\n",
       "      <td>0.320748</td>\n",
       "      <td>0.013873</td>\n",
       "      <td>0</td>\n",
       "      <td>0</td>\n",
       "      <td>1</td>\n",
       "      <td>0</td>\n",
       "      <td>0</td>\n",
       "    </tr>\n",
       "    <tr>\n",
       "      <th>4</th>\n",
       "      <td>0.048875</td>\n",
       "      <td>0.481975</td>\n",
       "      <td>0.440372</td>\n",
       "      <td>0.022141</td>\n",
       "      <td>0.006637</td>\n",
       "      <td>0</td>\n",
       "      <td>0</td>\n",
       "      <td>1</td>\n",
       "      <td>0</td>\n",
       "      <td>0</td>\n",
       "    </tr>\n",
       "    <tr>\n",
       "      <th>...</th>\n",
       "      <td>...</td>\n",
       "      <td>...</td>\n",
       "      <td>...</td>\n",
       "      <td>...</td>\n",
       "      <td>...</td>\n",
       "      <td>...</td>\n",
       "      <td>...</td>\n",
       "      <td>...</td>\n",
       "      <td>...</td>\n",
       "      <td>...</td>\n",
       "    </tr>\n",
       "    <tr>\n",
       "      <th>431</th>\n",
       "      <td>0.039092</td>\n",
       "      <td>0.449519</td>\n",
       "      <td>0.483922</td>\n",
       "      <td>0.022515</td>\n",
       "      <td>0.004951</td>\n",
       "      <td>0</td>\n",
       "      <td>0</td>\n",
       "      <td>1</td>\n",
       "      <td>0</td>\n",
       "      <td>0</td>\n",
       "    </tr>\n",
       "    <tr>\n",
       "      <th>432</th>\n",
       "      <td>0.032320</td>\n",
       "      <td>0.775496</td>\n",
       "      <td>0.190503</td>\n",
       "      <td>0.000679</td>\n",
       "      <td>0.001002</td>\n",
       "      <td>0</td>\n",
       "      <td>1</td>\n",
       "      <td>0</td>\n",
       "      <td>0</td>\n",
       "      <td>0</td>\n",
       "    </tr>\n",
       "    <tr>\n",
       "      <th>433</th>\n",
       "      <td>0.033304</td>\n",
       "      <td>0.403023</td>\n",
       "      <td>0.529419</td>\n",
       "      <td>0.029742</td>\n",
       "      <td>0.004514</td>\n",
       "      <td>0</td>\n",
       "      <td>0</td>\n",
       "      <td>1</td>\n",
       "      <td>0</td>\n",
       "      <td>0</td>\n",
       "    </tr>\n",
       "    <tr>\n",
       "      <th>434</th>\n",
       "      <td>0.040760</td>\n",
       "      <td>0.635247</td>\n",
       "      <td>0.315253</td>\n",
       "      <td>0.005707</td>\n",
       "      <td>0.003033</td>\n",
       "      <td>0</td>\n",
       "      <td>1</td>\n",
       "      <td>0</td>\n",
       "      <td>0</td>\n",
       "      <td>0</td>\n",
       "    </tr>\n",
       "    <tr>\n",
       "      <th>435</th>\n",
       "      <td>0.036719</td>\n",
       "      <td>0.129668</td>\n",
       "      <td>0.416746</td>\n",
       "      <td>0.391316</td>\n",
       "      <td>0.025551</td>\n",
       "      <td>0</td>\n",
       "      <td>0</td>\n",
       "      <td>0</td>\n",
       "      <td>1</td>\n",
       "      <td>0</td>\n",
       "    </tr>\n",
       "  </tbody>\n",
       "</table>\n",
       "<p>436 rows × 10 columns</p>\n",
       "</div>"
      ],
      "text/plain": [
       "            0         1         2         3         4  0  1  2  3  4\n",
       "0    0.049264  0.141730  0.379949  0.390685  0.038372  0  0  0  1  0\n",
       "1    0.039174  0.574946  0.374980  0.007850  0.003049  0  1  0  0  0\n",
       "2    0.042296  0.603560  0.344636  0.006116  0.003392  0  1  0  0  0\n",
       "3    0.024558  0.135232  0.505588  0.320748  0.013873  0  0  1  0  0\n",
       "4    0.048875  0.481975  0.440372  0.022141  0.006637  0  0  1  0  0\n",
       "..        ...       ...       ...       ...       ... .. .. .. .. ..\n",
       "431  0.039092  0.449519  0.483922  0.022515  0.004951  0  0  1  0  0\n",
       "432  0.032320  0.775496  0.190503  0.000679  0.001002  0  1  0  0  0\n",
       "433  0.033304  0.403023  0.529419  0.029742  0.004514  0  0  1  0  0\n",
       "434  0.040760  0.635247  0.315253  0.005707  0.003033  0  1  0  0  0\n",
       "435  0.036719  0.129668  0.416746  0.391316  0.025551  0  0  0  1  0\n",
       "\n",
       "[436 rows x 10 columns]"
      ]
     },
     "execution_count": 73,
     "metadata": {},
     "output_type": "execute_result"
    }
   ],
   "source": [
    "pd.concat([pd.DataFrame(pred_DO_Red), pd.DataFrame(y_test)], axis=1)"
   ]
  },
  {
   "cell_type": "code",
   "execution_count": 74,
   "id": "ed88c255",
   "metadata": {
    "execution": {
     "iopub.execute_input": "2023-03-24T17:52:43.280959Z",
     "iopub.status.busy": "2023-03-24T17:52:43.279683Z",
     "iopub.status.idle": "2023-03-24T17:52:43.489968Z",
     "shell.execute_reply": "2023-03-24T17:52:43.488456Z"
    },
    "papermill": {
     "duration": 0.40238,
     "end_time": "2023-03-24T17:52:43.493119",
     "exception": false,
     "start_time": "2023-03-24T17:52:43.090739",
     "status": "completed"
    },
    "tags": []
   },
   "outputs": [
    {
     "name": "stdout",
     "output_type": "stream",
     "text": [
      "0.6275861859321594 0.3724138140678406\n",
      "0.5871559381484985 0.41284406185150146\n"
     ]
    }
   ],
   "source": [
    "score = model.evaluate(X_train, y_train, verbose=0)\n",
    "\n",
    "score2 = model.evaluate(X_test, y_test, verbose=0)\n",
    "\n",
    "print('{} {}'.format(score[1], 1 - score[1]))\n",
    "\n",
    "print('{} {}'.format(score2[1], 1 - score2[1]))"
   ]
  },
  {
   "cell_type": "markdown",
   "id": "5f071a8d",
   "metadata": {
    "papermill": {
     "duration": 0.185502,
     "end_time": "2023-03-24T17:52:43.864455",
     "exception": false,
     "start_time": "2023-03-24T17:52:43.678953",
     "status": "completed"
    },
    "tags": []
   },
   "source": [
    "### Bad results using Keras compared to Random Forest, which was also low.\n",
    " \n",
    "### How can I inprove both models? Feature Engineering?"
   ]
  },
  {
   "cell_type": "markdown",
   "id": "25c99524",
   "metadata": {
    "execution": {
     "iopub.execute_input": "2022-09-04T21:05:33.298230Z",
     "iopub.status.busy": "2022-09-04T21:05:33.296279Z",
     "iopub.status.idle": "2022-09-04T21:05:33.319590Z",
     "shell.execute_reply": "2022-09-04T21:05:33.318726Z",
     "shell.execute_reply.started": "2022-09-04T21:05:33.298091Z"
    },
    "papermill": {
     "duration": 0.212379,
     "end_time": "2023-03-24T17:52:44.263616",
     "exception": false,
     "start_time": "2023-03-24T17:52:44.051237",
     "status": "completed"
    },
    "tags": []
   },
   "source": [
    "# Update September 2022\n",
    "\n",
    "### With those results in light and new skills learned I'll try to improve the score by oversampling using SMOTE"
   ]
  },
  {
   "cell_type": "code",
   "execution_count": 75,
   "id": "80e50f33",
   "metadata": {
    "execution": {
     "iopub.execute_input": "2023-03-24T17:52:44.662389Z",
     "iopub.status.busy": "2023-03-24T17:52:44.661494Z",
     "iopub.status.idle": "2023-03-24T17:52:44.861676Z",
     "shell.execute_reply": "2023-03-24T17:52:44.860434Z"
    },
    "papermill": {
     "duration": 0.394999,
     "end_time": "2023-03-24T17:52:44.864960",
     "exception": false,
     "start_time": "2023-03-24T17:52:44.469961",
     "status": "completed"
    },
    "tags": []
   },
   "outputs": [],
   "source": [
    "from imblearn.over_sampling import SMOTE\n",
    "from collections import Counter\n",
    "from sklearn.preprocessing import LabelEncoder"
   ]
  },
  {
   "cell_type": "code",
   "execution_count": 76,
   "id": "674c1375",
   "metadata": {
    "execution": {
     "iopub.execute_input": "2023-03-24T17:52:45.246659Z",
     "iopub.status.busy": "2023-03-24T17:52:45.246219Z",
     "iopub.status.idle": "2023-03-24T17:52:45.270907Z",
     "shell.execute_reply": "2023-03-24T17:52:45.269524Z"
    },
    "papermill": {
     "duration": 0.215929,
     "end_time": "2023-03-24T17:52:45.273355",
     "exception": false,
     "start_time": "2023-03-24T17:52:45.057426",
     "status": "completed"
    },
    "tags": []
   },
   "outputs": [
    {
     "data": {
      "text/html": [
       "<div>\n",
       "<style scoped>\n",
       "    .dataframe tbody tr th:only-of-type {\n",
       "        vertical-align: middle;\n",
       "    }\n",
       "\n",
       "    .dataframe tbody tr th {\n",
       "        vertical-align: top;\n",
       "    }\n",
       "\n",
       "    .dataframe thead th {\n",
       "        text-align: right;\n",
       "    }\n",
       "</style>\n",
       "<table border=\"1\" class=\"dataframe\">\n",
       "  <thead>\n",
       "    <tr style=\"text-align: right;\">\n",
       "      <th></th>\n",
       "      <th>fixed acidity</th>\n",
       "      <th>volatile acidity</th>\n",
       "      <th>citric acid</th>\n",
       "      <th>residual sugar</th>\n",
       "      <th>chlorides</th>\n",
       "      <th>free sulfur dioxide</th>\n",
       "      <th>total sulfur dioxide</th>\n",
       "      <th>density</th>\n",
       "      <th>pH</th>\n",
       "      <th>sulphates</th>\n",
       "      <th>alcohol</th>\n",
       "      <th>quality</th>\n",
       "    </tr>\n",
       "  </thead>\n",
       "  <tbody>\n",
       "    <tr>\n",
       "      <th>0</th>\n",
       "      <td>7.0</td>\n",
       "      <td>0.27</td>\n",
       "      <td>0.36</td>\n",
       "      <td>20.7</td>\n",
       "      <td>0.045</td>\n",
       "      <td>45.0</td>\n",
       "      <td>170.0</td>\n",
       "      <td>1.0010</td>\n",
       "      <td>3.00</td>\n",
       "      <td>0.45</td>\n",
       "      <td>8.8</td>\n",
       "      <td>6</td>\n",
       "    </tr>\n",
       "    <tr>\n",
       "      <th>1</th>\n",
       "      <td>6.3</td>\n",
       "      <td>0.30</td>\n",
       "      <td>0.34</td>\n",
       "      <td>1.6</td>\n",
       "      <td>0.049</td>\n",
       "      <td>14.0</td>\n",
       "      <td>132.0</td>\n",
       "      <td>0.9940</td>\n",
       "      <td>3.30</td>\n",
       "      <td>0.49</td>\n",
       "      <td>9.5</td>\n",
       "      <td>6</td>\n",
       "    </tr>\n",
       "    <tr>\n",
       "      <th>2</th>\n",
       "      <td>8.1</td>\n",
       "      <td>0.28</td>\n",
       "      <td>0.40</td>\n",
       "      <td>6.9</td>\n",
       "      <td>0.050</td>\n",
       "      <td>30.0</td>\n",
       "      <td>97.0</td>\n",
       "      <td>0.9951</td>\n",
       "      <td>3.26</td>\n",
       "      <td>0.44</td>\n",
       "      <td>10.1</td>\n",
       "      <td>6</td>\n",
       "    </tr>\n",
       "    <tr>\n",
       "      <th>3</th>\n",
       "      <td>7.2</td>\n",
       "      <td>0.23</td>\n",
       "      <td>0.32</td>\n",
       "      <td>8.5</td>\n",
       "      <td>0.058</td>\n",
       "      <td>47.0</td>\n",
       "      <td>186.0</td>\n",
       "      <td>0.9956</td>\n",
       "      <td>3.19</td>\n",
       "      <td>0.40</td>\n",
       "      <td>9.9</td>\n",
       "      <td>6</td>\n",
       "    </tr>\n",
       "    <tr>\n",
       "      <th>4</th>\n",
       "      <td>7.2</td>\n",
       "      <td>0.23</td>\n",
       "      <td>0.32</td>\n",
       "      <td>8.5</td>\n",
       "      <td>0.058</td>\n",
       "      <td>47.0</td>\n",
       "      <td>186.0</td>\n",
       "      <td>0.9956</td>\n",
       "      <td>3.19</td>\n",
       "      <td>0.40</td>\n",
       "      <td>9.9</td>\n",
       "      <td>6</td>\n",
       "    </tr>\n",
       "  </tbody>\n",
       "</table>\n",
       "</div>"
      ],
      "text/plain": [
       "   fixed acidity  volatile acidity  citric acid  residual sugar  chlorides  \\\n",
       "0            7.0              0.27         0.36            20.7      0.045   \n",
       "1            6.3              0.30         0.34             1.6      0.049   \n",
       "2            8.1              0.28         0.40             6.9      0.050   \n",
       "3            7.2              0.23         0.32             8.5      0.058   \n",
       "4            7.2              0.23         0.32             8.5      0.058   \n",
       "\n",
       "   free sulfur dioxide  total sulfur dioxide  density    pH  sulphates  \\\n",
       "0                 45.0                 170.0   1.0010  3.00       0.45   \n",
       "1                 14.0                 132.0   0.9940  3.30       0.49   \n",
       "2                 30.0                  97.0   0.9951  3.26       0.44   \n",
       "3                 47.0                 186.0   0.9956  3.19       0.40   \n",
       "4                 47.0                 186.0   0.9956  3.19       0.40   \n",
       "\n",
       "   alcohol  quality  \n",
       "0      8.8        6  \n",
       "1      9.5        6  \n",
       "2     10.1        6  \n",
       "3      9.9        6  \n",
       "4      9.9        6  "
      ]
     },
     "execution_count": 76,
     "metadata": {},
     "output_type": "execute_result"
    }
   ],
   "source": [
    "rfc = RandomForestClassifier(n_estimators=400, class_weight='balanced')\n",
    "\n",
    "oversample = SMOTE(sampling_strategy='auto')\n",
    "\n",
    "df_White_before.head()"
   ]
  },
  {
   "cell_type": "code",
   "execution_count": 77,
   "id": "6db8b7d2",
   "metadata": {
    "execution": {
     "iopub.execute_input": "2023-03-24T17:52:45.727056Z",
     "iopub.status.busy": "2023-03-24T17:52:45.725754Z",
     "iopub.status.idle": "2023-03-24T17:52:45.732283Z",
     "shell.execute_reply": "2023-03-24T17:52:45.731373Z"
    },
    "papermill": {
     "duration": 0.19763,
     "end_time": "2023-03-24T17:52:45.734466",
     "exception": false,
     "start_time": "2023-03-24T17:52:45.536836",
     "status": "completed"
    },
    "tags": []
   },
   "outputs": [],
   "source": [
    "X = df_White_before.drop(['quality'], axis=1)\n",
    "y = df_White_before['quality']"
   ]
  },
  {
   "cell_type": "code",
   "execution_count": 78,
   "id": "2eacea84",
   "metadata": {
    "execution": {
     "iopub.execute_input": "2023-03-24T17:52:46.108127Z",
     "iopub.status.busy": "2023-03-24T17:52:46.107321Z",
     "iopub.status.idle": "2023-03-24T17:52:46.142153Z",
     "shell.execute_reply": "2023-03-24T17:52:46.140868Z"
    },
    "papermill": {
     "duration": 0.225144,
     "end_time": "2023-03-24T17:52:46.145015",
     "exception": false,
     "start_time": "2023-03-24T17:52:45.919871",
     "status": "completed"
    },
    "tags": []
   },
   "outputs": [],
   "source": [
    "X_sm, y_sm = oversample.fit_resample(X, y)"
   ]
  },
  {
   "cell_type": "code",
   "execution_count": 79,
   "id": "9017e8b7",
   "metadata": {
    "execution": {
     "iopub.execute_input": "2023-03-24T17:52:46.520850Z",
     "iopub.status.busy": "2023-03-24T17:52:46.520387Z",
     "iopub.status.idle": "2023-03-24T17:52:46.525937Z",
     "shell.execute_reply": "2023-03-24T17:52:46.524687Z"
    },
    "papermill": {
     "duration": 0.197969,
     "end_time": "2023-03-24T17:52:46.528390",
     "exception": false,
     "start_time": "2023-03-24T17:52:46.330421",
     "status": "completed"
    },
    "tags": []
   },
   "outputs": [
    {
     "name": "stdout",
     "output_type": "stream",
     "text": [
      "(10190, 11)\n"
     ]
    }
   ],
   "source": [
    "print(X_sm.shape)"
   ]
  },
  {
   "cell_type": "code",
   "execution_count": 80,
   "id": "bfbe1023",
   "metadata": {
    "execution": {
     "iopub.execute_input": "2023-03-24T17:52:46.905992Z",
     "iopub.status.busy": "2023-03-24T17:52:46.905152Z",
     "iopub.status.idle": "2023-03-24T17:52:46.913927Z",
     "shell.execute_reply": "2023-03-24T17:52:46.912358Z"
    },
    "papermill": {
     "duration": 0.200392,
     "end_time": "2023-03-24T17:52:46.916958",
     "exception": false,
     "start_time": "2023-03-24T17:52:46.716566",
     "status": "completed"
    },
    "tags": []
   },
   "outputs": [
    {
     "data": {
      "text/plain": [
       "6    2038\n",
       "5    2038\n",
       "7    2038\n",
       "8    2038\n",
       "4    2038\n",
       "Name: quality, dtype: int64"
      ]
     },
     "execution_count": 80,
     "metadata": {},
     "output_type": "execute_result"
    }
   ],
   "source": [
    "y_sm.value_counts()"
   ]
  },
  {
   "cell_type": "code",
   "execution_count": 81,
   "id": "caf83dd8",
   "metadata": {
    "execution": {
     "iopub.execute_input": "2023-03-24T17:52:47.292045Z",
     "iopub.status.busy": "2023-03-24T17:52:47.291385Z",
     "iopub.status.idle": "2023-03-24T17:52:47.299153Z",
     "shell.execute_reply": "2023-03-24T17:52:47.298197Z"
    },
    "papermill": {
     "duration": 0.198472,
     "end_time": "2023-03-24T17:52:47.301674",
     "exception": false,
     "start_time": "2023-03-24T17:52:47.103202",
     "status": "completed"
    },
    "tags": []
   },
   "outputs": [],
   "source": [
    "X_train, X_test, y_train, y_test = train_test_split(X_sm, y_sm, test_size=0.30, random_state=42)"
   ]
  },
  {
   "cell_type": "code",
   "execution_count": 82,
   "id": "084a2390",
   "metadata": {
    "execution": {
     "iopub.execute_input": "2023-03-24T17:52:47.740151Z",
     "iopub.status.busy": "2023-03-24T17:52:47.739420Z",
     "iopub.status.idle": "2023-03-24T17:52:56.324208Z",
     "shell.execute_reply": "2023-03-24T17:52:56.322582Z"
    },
    "papermill": {
     "duration": 8.777467,
     "end_time": "2023-03-24T17:52:56.327456",
     "exception": false,
     "start_time": "2023-03-24T17:52:47.549989",
     "status": "completed"
    },
    "tags": []
   },
   "outputs": [
    {
     "name": "stdout",
     "output_type": "stream",
     "text": [
      "[[580  12   5   2   0]\n",
      " [ 28 488  65  14   4]\n",
      " [  7 124 392  88  24]\n",
      " [  0  10  48 534  25]\n",
      " [  0   1   4  21 581]]\n",
      "\n",
      "\n",
      "              precision    recall  f1-score   support\n",
      "\n",
      "           4       0.94      0.97      0.96       599\n",
      "           5       0.77      0.81      0.79       599\n",
      "           6       0.76      0.62      0.68       635\n",
      "           7       0.81      0.87      0.84       617\n",
      "           8       0.92      0.96      0.94       607\n",
      "\n",
      "    accuracy                           0.84      3057\n",
      "   macro avg       0.84      0.84      0.84      3057\n",
      "weighted avg       0.84      0.84      0.84      3057\n",
      "\n"
     ]
    }
   ],
   "source": [
    "rfc.fit(X_train, y_train) #Random forest does not need scaling\n",
    "pred_White = rfc.predict(X_test)\n",
    "print(confusion_matrix(y_test, pred_White))\n",
    "print('\\n')\n",
    "print(classification_report(y_test, pred_White))"
   ]
  },
  {
   "cell_type": "markdown",
   "id": "8bbe7c58",
   "metadata": {
    "papermill": {
     "duration": 0.188757,
     "end_time": "2023-03-24T17:52:56.726762",
     "exception": false,
     "start_time": "2023-03-24T17:52:56.538005",
     "status": "completed"
    },
    "tags": []
   },
   "source": [
    "## This is an improvement from the Random Forest without oversampling the classes, with an overall accuracy of 84%."
   ]
  },
  {
   "cell_type": "code",
   "execution_count": 83,
   "id": "b0bd22a1",
   "metadata": {
    "execution": {
     "iopub.execute_input": "2023-03-24T17:52:57.103642Z",
     "iopub.status.busy": "2023-03-24T17:52:57.102765Z",
     "iopub.status.idle": "2023-03-24T17:52:57.125844Z",
     "shell.execute_reply": "2023-03-24T17:52:57.124947Z"
    },
    "papermill": {
     "duration": 0.2159,
     "end_time": "2023-03-24T17:52:57.128536",
     "exception": false,
     "start_time": "2023-03-24T17:52:56.912636",
     "status": "completed"
    },
    "tags": []
   },
   "outputs": [],
   "source": [
    "X = df_Red_before.drop(['quality'], axis=1)\n",
    "y = df_Red_before['quality']\n",
    "\n",
    "X_sm, y_sm = oversample.fit_resample(X, y)\n",
    "\n",
    "X_train, X_test, y_train, y_test = train_test_split(X_sm, y_sm, test_size=0.30, random_state=42)"
   ]
  },
  {
   "cell_type": "code",
   "execution_count": 84,
   "id": "3278dbe6",
   "metadata": {
    "execution": {
     "iopub.execute_input": "2023-03-24T17:52:57.503607Z",
     "iopub.status.busy": "2023-03-24T17:52:57.502713Z",
     "iopub.status.idle": "2023-03-24T17:53:00.114702Z",
     "shell.execute_reply": "2023-03-24T17:53:00.113307Z"
    },
    "papermill": {
     "duration": 2.801851,
     "end_time": "2023-03-24T17:53:00.117252",
     "exception": false,
     "start_time": "2023-03-24T17:52:57.315401",
     "status": "completed"
    },
    "tags": []
   },
   "outputs": [
    {
     "name": "stdout",
     "output_type": "stream",
     "text": [
      "[[170   3   6   0   0]\n",
      " [ 11 136  40   3   0]\n",
      " [  6  27 122  23   1]\n",
      " [  0   4  11 173   2]\n",
      " [  0   0   0   1 187]]\n",
      "\n",
      "\n",
      "              precision    recall  f1-score   support\n",
      "\n",
      "           4       0.91      0.95      0.93       179\n",
      "           5       0.80      0.72      0.76       190\n",
      "           6       0.68      0.68      0.68       179\n",
      "           7       0.86      0.91      0.89       190\n",
      "           8       0.98      0.99      0.99       188\n",
      "\n",
      "    accuracy                           0.85       926\n",
      "   macro avg       0.85      0.85      0.85       926\n",
      "weighted avg       0.85      0.85      0.85       926\n",
      "\n"
     ]
    }
   ],
   "source": [
    "rfc.fit(X_train, y_train) #Random forest does not need scaling\n",
    "pred_Red = rfc.predict(X_test)\n",
    "print(confusion_matrix(y_test, pred_Red))\n",
    "print('\\n')\n",
    "print(classification_report(y_test, pred_Red))"
   ]
  },
  {
   "cell_type": "code",
   "execution_count": null,
   "id": "0e0c14ae",
   "metadata": {
    "papermill": {
     "duration": 0.186732,
     "end_time": "2023-03-24T17:53:00.489668",
     "exception": false,
     "start_time": "2023-03-24T17:53:00.302936",
     "status": "completed"
    },
    "tags": []
   },
   "outputs": [],
   "source": []
  }
 ],
 "metadata": {
  "kernelspec": {
   "display_name": "Python 3",
   "language": "python",
   "name": "python3"
  },
  "language_info": {
   "codemirror_mode": {
    "name": "ipython",
    "version": 3
   },
   "file_extension": ".py",
   "mimetype": "text/x-python",
   "name": "python",
   "nbconvert_exporter": "python",
   "pygments_lexer": "ipython3",
   "version": "3.7.12"
  },
  "papermill": {
   "default_parameters": {},
   "duration": 116.982819,
   "end_time": "2023-03-24T17:53:03.647153",
   "environment_variables": {},
   "exception": null,
   "input_path": "__notebook__.ipynb",
   "output_path": "__notebook__.ipynb",
   "parameters": {},
   "start_time": "2023-03-24T17:51:06.664334",
   "version": "2.4.0"
  }
 },
 "nbformat": 4,
 "nbformat_minor": 5
}
